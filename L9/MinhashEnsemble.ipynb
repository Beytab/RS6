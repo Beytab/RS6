{
 "cells": [
  {
   "cell_type": "code",
   "execution_count": 4,
   "metadata": {},
   "outputs": [
    {
     "name": "stdout",
     "output_type": "stream",
     "text": [
      "True\n",
      "True\n",
      "m1相似度大于0.8:\n",
      "m3\n",
      "m2\n"
     ]
    }
   ],
   "source": [
    "from datasketch import MinHash,MinHashLSH,MinHashLSHEnsemble\n",
    "\n",
    "data1 = ['这个','程序','代码','太乱','那个','代码','规范']\n",
    "data2 = ['这个','程序','代码','不','规范','那个','更','规范']\n",
    "data3 = ['这个','程序','代码','不','规范','那个','规范','些']\n",
    "\n",
    "#创建MinHash对象\n",
    "m1 = MinHash()\n",
    "m2 = MinHash()\n",
    "m3 = MinHash()\n",
    "for d in data1:\n",
    "    m1.update(d.encode('utf8'))\n",
    "for d in data2:\n",
    "    m2.update(d.encode('utf8'))\n",
    "for d in data3:\n",
    "    m3.update(d.encode('utf8'))\n",
    "#创建LSH Endemble\n",
    "lshensemble = MinHashLSHEnsemble(threshold=0.8,num_perm=128)\n",
    "#Index takes an iterable of (key,minhash,size)\n",
    "lshensemble.index([('m2',m2,len(m2)),('m3',m3,len(m3))])\n",
    "#判断lshensemble是否存在m2,m3\n",
    "print('m2' in lshensemble)\n",
    "print('m3' in lshensemble)\n",
    "#查询与m1相似度大于0.8的集合\n",
    "print('m1相似度大于0.8:')                   \n",
    "for key in lshensemble.query(m1,len(m1)):\n",
    "    print(key)"
   ]
  },
  {
   "cell_type": "code",
   "execution_count": null,
   "metadata": {},
   "outputs": [],
   "source": []
  }
 ],
 "metadata": {
  "kernelspec": {
   "display_name": "Python 3",
   "language": "python",
   "name": "python3"
  },
  "language_info": {
   "codemirror_mode": {
    "name": "ipython",
    "version": 3
   },
   "file_extension": ".py",
   "mimetype": "text/x-python",
   "name": "python",
   "nbconvert_exporter": "python",
   "pygments_lexer": "ipython3",
   "version": "3.7.3"
  }
 },
 "nbformat": 4,
 "nbformat_minor": 4
}
