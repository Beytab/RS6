{
 "cells": [
  {
   "cell_type": "code",
   "execution_count": 5,
   "metadata": {},
   "outputs": [
    {
     "name": "stdout",
     "output_type": "stream",
     "text": [
      "2 0.0703125 成为新主帅成为广大球迷关注焦点\n",
      "5 0.0859375 了解\n",
      "22 0.109375 男足水平南极洲企鹅踢球\n",
      "Top 3 邻居 [2, 5, 22]\n"
     ]
    }
   ],
   "source": [
    "from datasketch import MinHash,MinHashLSH,MinHashLSHForest\n",
    "from sklearn.feature_extraction.text import TfidfVectorizer\n",
    "import jieba.posseg as pseg\n",
    "import re\n",
    "\n",
    "#读取文件\n",
    "f = open('./weibos.txt','r',encoding='UTF-8')\n",
    "text = f.read()\n",
    "# 以句号，叹号，问号作为分隔，去掉\\n换行符号\n",
    "sentence = re.split('[!?。]',text.replace('\\n',''))\n",
    "\n",
    "# 最后一行如果为空，则删除\n",
    "if sentence[-1]==\"\":\n",
    "    sentence.pop()\n",
    "\n",
    "# 将item_text进行分词\n",
    "def get_item_str(item_text):\n",
    "    item_str=\"\"\n",
    "    item = (pseg.cut(item_text))\n",
    "    for i in list(item):\n",
    "        #去掉停用词\n",
    "        if i.word not in list(stop):\n",
    "            item_str += i.word\n",
    "            #tfidf_vectorizer.fit_transform的输入需要空格分隔的单词\n",
    "            item_str += \" \"\n",
    "    return item_str\n",
    "\n",
    "#对item_str创建MinHash\n",
    "def get_minhash(item_str):\n",
    "    temp = MinHash()\n",
    "    for d in item_str:\n",
    "        temp.update(d.encode('utf8'))\n",
    "    return temp\n",
    "  \n",
    "#设置停用词\n",
    "stop = [line.strip().encode('utf-8').decode('utf-8') for line in open('stopwords.txt',encoding='utf-8',errors='ignore').readlines()]\n",
    "#得到分词的document\n",
    "documents = []\n",
    "for item_text in sentence:\n",
    "    #将item_text进行分词\n",
    "    item_str = get_item_str(item_text)\n",
    "    documents.append(item_str)\n",
    "\n",
    "#创建LSH Forest和MinHash对象\n",
    "minhash_list = []\n",
    "forest = MinHashLSHForest()\n",
    "for i in range(len(documents)):\n",
    "    #得到Train_document[i]的Minhash\n",
    "    temp = get_minhash(documents[i])\n",
    "    minhash_list.append(temp)\n",
    "    forest.add(i,temp)\n",
    "#index所有key，以便可以进行检索\n",
    "forest.index()\n",
    "\n",
    "query = '七十多分钟了，哪个晓得那个龟儿子往他们家球门踢嘛'\n",
    "#将item_text进行分词\n",
    "item_str = get_item_str(query)\n",
    "#得到item_str的minhsh\n",
    "minhash_query = get_minhash(item_str)\n",
    "\n",
    "#查询forest中与m1相似的topk个邻居\n",
    "result = forest.query(minhash_query,3)\n",
    "for i in range(len(result)):\n",
    "    print(result[i],minhash_query.jaccard(minhash_list[result[i]]),documents[result[i]].replace(' ',''))\n",
    "print('Top 3 邻居',result)"
   ]
  },
  {
   "cell_type": "code",
   "execution_count": null,
   "metadata": {},
   "outputs": [],
   "source": []
  }
 ],
 "metadata": {
  "kernelspec": {
   "display_name": "Python 3",
   "language": "python",
   "name": "python3"
  },
  "language_info": {
   "codemirror_mode": {
    "name": "ipython",
    "version": 3
   },
   "file_extension": ".py",
   "mimetype": "text/x-python",
   "name": "python",
   "nbconvert_exporter": "python",
   "pygments_lexer": "ipython3",
   "version": "3.7.3"
  }
 },
 "nbformat": 4,
 "nbformat_minor": 4
}
