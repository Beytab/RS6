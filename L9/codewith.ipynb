{
 "cells": [
  {
   "cell_type": "markdown",
   "metadata": {},
   "source": [
    "# 解决微博问题stopwords遇到的编码错误问题\n",
    "## 直接运行报UnicodeDecodeError,原因是stopwords中不知道是哪个字符不能被编码,换特殊编码是个愚蠢的方法,会导致乱码,所以最好的方法就是忽略小错误;\n",
    "## decode时遇到了AttributeError,还得再encode一遍。\n",
    "## 参考\n",
    "## https://www.cnblogs.com/zz22--/p/8799071.html\n",
    "## https://blog.csdn.net/yimixgg/article/details/80567324"
   ]
  },
  {
   "cell_type": "code",
   "execution_count": null,
   "metadata": {},
   "outputs": [],
   "source": []
  },
  {
   "cell_type": "code",
   "execution_count": null,
   "metadata": {},
   "outputs": [],
   "source": []
  }
 ],
 "metadata": {
  "kernelspec": {
   "display_name": "Python 3",
   "language": "python",
   "name": "python3"
  },
  "language_info": {
   "codemirror_mode": {
    "name": "ipython",
    "version": 3
   },
   "file_extension": ".py",
   "mimetype": "text/x-python",
   "name": "python",
   "nbconvert_exporter": "python",
   "pygments_lexer": "ipython3",
   "version": "3.7.3"
  }
 },
 "nbformat": 4,
 "nbformat_minor": 4
}
