{
 "cells": [
  {
   "cell_type": "code",
   "execution_count": 4,
   "metadata": {},
   "outputs": [
    {
     "name": "stdout",
     "output_type": "stream",
     "text": [
      "使用MinHash预估的Jaccard相似度 0.6015625\n",
      "Jaccard实际相似度 0.625\n"
     ]
    }
   ],
   "source": [
    "from datasketch import MinHash\n",
    "\n",
    "data1 = ['这个','程序','代码','太乱','那个','代码','规范']\n",
    "data2 = ['这个','程序','代码','不','规范','那个','更','规范']\n",
    "\n",
    "m1 = MinHash()\n",
    "m2 = MinHash()\n",
    "for  d in data1:\n",
    "    m1.update(d.encode('utf8'))    #hash编码\n",
    "for d in data2:\n",
    "    m2.update(d.encode('utf8'))\n",
    "print('使用MinHash预估的Jaccard相似度',m1.jaccard(m2))\n",
    "s1 = set(data1)\n",
    "s2 = set(data2)\n",
    "actual_jaccard = float(len(s1.intersection(s2)))/float(len(s1.union(s2)))\n",
    "print('Jaccard实际相似度',actual_jaccard)"
   ]
  },
  {
   "cell_type": "code",
   "execution_count": null,
   "metadata": {},
   "outputs": [],
   "source": []
  }
 ],
 "metadata": {
  "kernelspec": {
   "display_name": "Python 3",
   "language": "python",
   "name": "python3"
  },
  "language_info": {
   "codemirror_mode": {
    "name": "ipython",
    "version": 3
   },
   "file_extension": ".py",
   "mimetype": "text/x-python",
   "name": "python",
   "nbconvert_exporter": "python",
   "pygments_lexer": "ipython3",
   "version": "3.7.3"
  }
 },
 "nbformat": 4,
 "nbformat_minor": 4
}
