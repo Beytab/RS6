{
 "cells": [
  {
   "cell_type": "code",
   "execution_count": 5,
   "metadata": {},
   "outputs": [
    {
     "name": "stdout",
     "output_type": "stream",
     "text": [
      "10845600900754665595\n"
     ]
    }
   ],
   "source": [
    "from simhash import Simhash,SimhashIndex\n",
    "from sklearn.feature_extraction.text import TfidfVectorizer\n",
    "\n",
    "\n",
    "data = [\n",
    "    '这个程序代码太乱,那个代码规范',\n",
    "    '这个程序代码不规范,那个更规范',\n",
    "    '我是佩奇，这是我的弟弟乔治'\n",
    "]\n",
    "\n",
    "data = [\n",
    "    '这个 程序 代码 太乱 那个 代码 规范',\n",
    "    '这个 程序 代码 不 规范 那个 更 规范',\n",
    "    '我 是 佩奇 这 是 我的 弟弟 乔治'\n",
    "]\n",
    "\n",
    "print(Simhash('这个程序代码太乱').value)"
   ]
  },
  {
   "cell_type": "code",
   "execution_count": null,
   "metadata": {},
   "outputs": [],
   "source": []
  }
 ],
 "metadata": {
  "kernelspec": {
   "display_name": "Python 3",
   "language": "python",
   "name": "python3"
  },
  "language_info": {
   "codemirror_mode": {
    "name": "ipython",
    "version": 3
   },
   "file_extension": ".py",
   "mimetype": "text/x-python",
   "name": "python",
   "nbconvert_exporter": "python",
   "pygments_lexer": "ipython3",
   "version": "3.7.3"
  }
 },
 "nbformat": 4,
 "nbformat_minor": 4
}
