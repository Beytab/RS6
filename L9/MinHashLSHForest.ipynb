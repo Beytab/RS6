{
 "cells": [
  {
   "cell_type": "code",
   "execution_count": 1,
   "metadata": {},
   "outputs": [
    {
     "name": "stdout",
     "output_type": "stream",
     "text": [
      "True\n",
      "True\n",
      "m1 Top2邻居 ['m3', 'm2']\n"
     ]
    }
   ],
   "source": [
    "from datasketch import MinHash,MinHashLSH,MinHashLSHForest\n",
    "\n",
    "data1 = ['这个','程序','代码','太乱','那个','代码','规范']\n",
    "data2 = ['这个','程序','代码','不','规范','那个','更','规范']\n",
    "data3 = ['这个','程序','代码','不','规范','那个','规范','些']\n",
    "\n",
    "#创建MinHash对象\n",
    "m1 = MinHash()\n",
    "m2 = MinHash()\n",
    "m3 = MinHash()\n",
    "for d in data1:\n",
    "    m1.update(d.encode('utf8'))\n",
    "for d in data2:\n",
    "    m2.update(d.encode('utf8'))\n",
    "for d in data3:\n",
    "    m3.update(d.encode('utf8'))\n",
    "#创建MinHashLSHForest对象\n",
    "forest = MinHashLSHForest()\n",
    "forest.add('m2',m2)\n",
    "forest.add('m3',m3)\n",
    "# 在检索前，需要使用index\n",
    "forest.index()\n",
    "# 判断forest是否存在m2, m3\n",
    "print('m2' in forest)\n",
    "print('m3' in forest)\n",
    "# 查询forest中与m1相似的Top-K个邻居\n",
    "print('m1 Top2邻居',forest.query(m1,2))"
   ]
  },
  {
   "cell_type": "code",
   "execution_count": null,
   "metadata": {},
   "outputs": [],
   "source": []
  }
 ],
 "metadata": {
  "kernelspec": {
   "display_name": "Python 3",
   "language": "python",
   "name": "python3"
  },
  "language_info": {
   "codemirror_mode": {
    "name": "ipython",
    "version": 3
   },
   "file_extension": ".py",
   "mimetype": "text/x-python",
   "name": "python",
   "nbconvert_exporter": "python",
   "pygments_lexer": "ipython3",
   "version": "3.7.3"
  }
 },
 "nbformat": 4,
 "nbformat_minor": 4
}
