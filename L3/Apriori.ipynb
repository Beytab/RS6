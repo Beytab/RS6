{
 "cells": [
  {
   "cell_type": "code",
   "execution_count": 5,
   "metadata": {},
   "outputs": [],
   "source": [
    "from efficient_apriori import apriori"
   ]
  },
  {
   "cell_type": "code",
   "execution_count": 6,
   "metadata": {},
   "outputs": [
    {
     "name": "stdout",
     "output_type": "stream",
     "text": [
      "频繁项集 {1: {('啤酒',): 3, ('尿布',): 5, ('牛奶',): 4, ('面包',): 4}, 2: {('啤酒', '尿布'): 3, ('尿布', '牛奶'): 4, ('尿布', '面包'): 4, ('牛奶', '面包'): 3}, 3: {('尿布', '牛奶', '面包'): 3}}\n",
      "关联规则 [{啤酒} -> {尿布}, {牛奶} -> {尿布}, {面包} -> {尿布}, {牛奶, 面包} -> {尿布}]\n"
     ]
    }
   ],
   "source": [
    "# 设置数据集\n",
    "transaction = [\n",
    "    ('牛奶','面包','尿布'),\n",
    "    ('可乐','面包','尿布','啤酒'),\n",
    "    ('牛奶','尿布','啤酒','鸡蛋'),\n",
    "    ('面包','牛奶','尿布','啤酒'),\n",
    "    ('面包','牛奶','尿布','可乐')    \n",
    "                                  ]\n",
    "# 挖掘频繁项集和频繁规则\n",
    "# min_support 影响频繁项集，min_confidence影响关联规则\n",
    "itemsets,rules = apriori(transaction,min_support=0.5,min_confidence=1)\n",
    "print('频繁项集',itemsets)\n",
    "print('关联规则',rules)"
   ]
  },
  {
   "cell_type": "code",
   "execution_count": 8,
   "metadata": {},
   "outputs": [
    {
     "data": {
      "text/plain": [
       "{('啤酒',): 3, ('尿布',): 5, ('牛奶',): 4, ('面包',): 4}"
      ]
     },
     "execution_count": 8,
     "metadata": {},
     "output_type": "execute_result"
    }
   ],
   "source": [
    "itemsets[1]"
   ]
  },
  {
   "cell_type": "code",
   "execution_count": null,
   "metadata": {},
   "outputs": [],
   "source": []
  }
 ],
 "metadata": {
  "kernelspec": {
   "display_name": "Python 3",
   "language": "python",
   "name": "python3"
  },
  "language_info": {
   "codemirror_mode": {
    "name": "ipython",
    "version": 3
   },
   "file_extension": ".py",
   "mimetype": "text/x-python",
   "name": "python",
   "nbconvert_exporter": "python",
   "pygments_lexer": "ipython3",
   "version": "3.7.3"
  }
 },
 "nbformat": 4,
 "nbformat_minor": 4
}
