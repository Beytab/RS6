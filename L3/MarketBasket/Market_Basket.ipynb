{
 "cells": [
  {
   "cell_type": "code",
   "execution_count": 5,
   "metadata": {},
   "outputs": [
    {
     "name": "stdout",
     "output_type": "stream",
     "text": [
      "频繁项集: {1: {('burgers',): 13080, ('cake',): 12160, ('chicken',): 9000, ('chocolate',): 24580, ('cookies',): 12060, ('cooking oil',): 7660, ('eggs',): 26960, ('escalope',): 11900, ('french fries',): 25640, ('frozen smoothie',): 9500, ('frozen vegetables',): 14300, ('grated cheese',): 7860, ('green tea',): 19820, ('ground beef',): 14740, ('low fat yogurt',): 11480, ('milk',): 19440, ('mineral water',): 35760, ('olive oil',): 9880, ('pancakes',): 14260, ('shrimp',): 10720, ('soup',): 7580, ('spaghetti',): 26120, ('tomatoes',): 10260, ('turkey',): 9380, ('whole wheat rice',): 8780}, 2: {('chocolate', 'mineral water'): 7900, ('eggs', 'mineral water'): 7640, ('mineral water', 'spaghetti'): 8960}}\n",
      "关联规则: [{chocolate} -> {mineral water}, {spaghetti} -> {mineral water}]\n",
      "用时: 5.886386394500732\n"
     ]
    }
   ],
   "source": [
    "# 加载数据\n",
    "def load_data(file_path):\n",
    "    transaction = []\n",
    "    import pandas as pd\n",
    "    df = pd.read_csv(file_path,header=None)\n",
    "    df = df.fillna(0) #处理空值\n",
    "#     for i in df.columns:\n",
    "#         temp_set = set()\n",
    "#         for v in range(len(df[i])):\n",
    "#             if df[i][v] is not None:\n",
    "#                 temp_set.add(df[i][v])\n",
    "#         transaction.append(temp_set)  \n",
    "    for index,row in df.iterrows():\n",
    "        temp_set = set()\n",
    "        for item in row:\n",
    "            if item!=0:\n",
    "                temp_set.add(item)\n",
    "            if temp_set != set():\n",
    "                transaction.append(temp_set)  \n",
    "    return transaction \n",
    "\n",
    "# 采用efficient_apriori工具包\n",
    "def rule1(data):\n",
    "    import time\n",
    "    from efficient_apriori import apriori\n",
    "    start = time.time()\n",
    "    # 挖掘频繁项集和频繁规则\n",
    "    itemsets,rules = apriori(data,min_support = 0.05,min_confidence=0.3)\n",
    "    print('频繁项集:',itemsets)\n",
    "    print('关联规则:',rules)\n",
    "    end = time.time()\n",
    "    print('用时:',end-start)\n",
    "    \n",
    "load_data('./Market_Basket_Optimisation.csv')\n",
    "rule1(transaction)"
   ]
  },
  {
   "cell_type": "code",
   "execution_count": 39,
   "metadata": {},
   "outputs": [
    {
     "name": "stdout",
     "output_type": "stream",
     "text": [
      "频繁项集      support                    itemsets\n",
      "0   0.087188                   (burgers)\n",
      "1   0.081056                      (cake)\n",
      "2   0.059992                   (chicken)\n",
      "3   0.163845                 (chocolate)\n",
      "4   0.080389                   (cookies)\n",
      "5   0.051060               (cooking oil)\n",
      "6   0.179709                      (eggs)\n",
      "7   0.079323                  (escalope)\n",
      "8   0.170911              (french fries)\n",
      "9   0.063325           (frozen smoothie)\n",
      "10  0.095321         (frozen vegetables)\n",
      "11  0.052393             (grated cheese)\n",
      "12  0.132116                 (green tea)\n",
      "13  0.098254               (ground beef)\n",
      "14  0.076523            (low fat yogurt)\n",
      "15  0.129583                      (milk)\n",
      "16  0.238368             (mineral water)\n",
      "17  0.065858                 (olive oil)\n",
      "18  0.095054                  (pancakes)\n",
      "19  0.071457                    (shrimp)\n",
      "20  0.050527                      (soup)\n",
      "21  0.174110                 (spaghetti)\n",
      "22  0.068391                  (tomatoes)\n",
      "23  0.062525                    (turkey)\n",
      "24  0.058526          (whole wheat rice)\n",
      "25  0.052660  (chocolate, mineral water)\n",
      "26  0.050927       (mineral water, eggs)\n",
      "27  0.059725  (mineral water, spaghetti)\n",
      "关联规则        antecedents      consequents  antecedent support  consequent support  \\\n",
      "4  (mineral water)      (spaghetti)            0.238368            0.174110   \n",
      "5      (spaghetti)  (mineral water)            0.174110            0.238368   \n",
      "0      (chocolate)  (mineral water)            0.163845            0.238368   \n",
      "1  (mineral water)      (chocolate)            0.238368            0.163845   \n",
      "2  (mineral water)           (eggs)            0.238368            0.179709   \n",
      "3           (eggs)  (mineral water)            0.179709            0.238368   \n",
      "\n",
      "    support  confidence      lift  leverage  conviction  \n",
      "4  0.059725    0.250559  1.439085  0.018223    1.102008  \n",
      "5  0.059725    0.343032  1.439085  0.018223    1.159314  \n",
      "0  0.052660    0.321400  1.348332  0.013604    1.122357  \n",
      "1  0.052660    0.220917  1.348332  0.013604    1.073256  \n",
      "2  0.050927    0.213647  1.188845  0.008090    1.043158  \n",
      "3  0.050927    0.283383  1.188845  0.008090    1.062815  \n",
      "用时: 0.07095766067504883\n"
     ]
    }
   ],
   "source": [
    "def encode_units(x):\n",
    "    if x>=1:\n",
    "        return 1\n",
    "    if x<=0:\n",
    "        return 0\n",
    "    \n",
    "# 采用mlxtend.frequent_patterns工具包   \n",
    "def rule2():\n",
    "    import pandas as pd \n",
    "    import time\n",
    "    from mlxtend.frequent_patterns import apriori\n",
    "    from mlxtend.frequent_patterns import association_rules\n",
    "    #pd.options.display.max_colunms=100\n",
    "    \n",
    "    # 加载数据\n",
    "    data = pd.read_csv('./Market_Basket_Optimisation.csv',header=None)\n",
    "    hot_encoded_df = data.stack().reset_index().groupby(by=['level_0',0])[0].count().unstack().fillna(0)\n",
    "    hot_encoded_df = hot_encoded_df.applymap(encode_units)\n",
    "    \n",
    "    # 挖掘频繁项集和频繁规则\n",
    "    start = time.time()\n",
    "    frequent_items = apriori(hot_encoded_df,min_support=0.05,use_colnames=True)\n",
    "    \n",
    "    rules = association_rules(frequent_items,metric='lift',min_threshold=0.5)\n",
    "    rules = rules.sort_values(by='lift',ascending=False)\n",
    "    print('频繁项集',frequent_items)\n",
    "    print('关联规则',rules)\n",
    "    end = time.time()\n",
    "    print('用时:',end-start)\n",
    "    \n",
    "rule2()"
   ]
  },
  {
   "cell_type": "code",
   "execution_count": null,
   "metadata": {},
   "outputs": [],
   "source": []
  }
 ],
 "metadata": {
  "kernelspec": {
   "display_name": "Python 3",
   "language": "python",
   "name": "python3"
  },
  "language_info": {
   "codemirror_mode": {
    "name": "ipython",
    "version": 3
   },
   "file_extension": ".py",
   "mimetype": "text/x-python",
   "name": "python",
   "nbconvert_exporter": "python",
   "pygments_lexer": "ipython3",
   "version": "3.7.3"
  }
 },
 "nbformat": 4,
 "nbformat_minor": 4
}
