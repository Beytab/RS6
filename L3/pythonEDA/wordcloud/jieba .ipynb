{
 "cells": [
  {
   "cell_type": "code",
   "execution_count": 4,
   "metadata": {},
   "outputs": [
    {
     "name": "stdout",
     "output_type": "stream",
     "text": [
      "the       87   \n",
      "to        67   \n",
      "hamlet    64   \n",
      "and       63   \n",
      "of        38   \n",
      "his       38   \n",
      "a         29   \n",
      "that      27   \n",
      "claudius  23   \n",
      "is        19   \n"
     ]
    }
   ],
   "source": [
    "#hamlet\n",
    "#读取文件\n",
    "def getText(filepath):\n",
    "    txt = open(filepath,'r').read()\n",
    "    txt = txt.lower()\n",
    "    for ch in '!\"\"@#$%&*()+-,./;:<=>[\\\\]^_{|}~':\n",
    "        txt  = txt.replace(ch,' ')\n",
    "    return txt\n",
    "\n",
    "#词频统计,返回出现次数最多的10个单词\n",
    "def item_sort(txt):\n",
    "    words = txt.split()\n",
    "    counts = {}\n",
    "    for word in words:\n",
    "        counts[word] = counts.get(word,0)+1\n",
    "    items = list(counts.items())\n",
    "    items.sort(key=lambda x:x[1],reverse=True)\n",
    "    for i in range(10):\n",
    "        word,cloud = items[i]\n",
    "        print('{0:<10}{1:<5}'.format(word,cloud))\n",
    "\n",
    "Hamlet = getText('./Hamlet.txt')\n",
    "item_sort(Hamlet)"
   ]
  },
  {
   "cell_type": "code",
   "execution_count": null,
   "metadata": {},
   "outputs": [],
   "source": []
  }
 ],
 "metadata": {
  "kernelspec": {
   "display_name": "Python 3",
   "language": "python",
   "name": "python3"
  },
  "language_info": {
   "codemirror_mode": {
    "name": "ipython",
    "version": 3
   },
   "file_extension": ".py",
   "mimetype": "text/x-python",
   "name": "python",
   "nbconvert_exporter": "python",
   "pygments_lexer": "ipython3",
   "version": "3.7.3"
  }
 },
 "nbformat": 4,
 "nbformat_minor": 4
}
