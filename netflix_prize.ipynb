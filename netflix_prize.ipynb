{
  "nbformat": 4,
  "nbformat_minor": 0,
  "metadata": {
    "colab": {
      "name": "netflix_prize.ipynb",
      "provenance": [],
      "collapsed_sections": [],
      "mount_file_id": "1VYYfulbX5LHVjo1I9TFzTAgU0pj-Vcpo",
      "authorship_tag": "ABX9TyMqKD2iU3wUZEEYVSx71RqS",
      "include_colab_link": true
    },
    "kernelspec": {
      "name": "python3",
      "display_name": "Python 3"
    },
    "accelerator": "GPU"
  },
  "cells": [
    {
      "cell_type": "markdown",
      "metadata": {
        "id": "view-in-github",
        "colab_type": "text"
      },
      "source": [
        "<a href=\"https://colab.research.google.com/github/Beytab/RS6/blob/master/netflix_prize.ipynb\" target=\"_parent\"><img src=\"https://colab.research.google.com/assets/colab-badge.svg\" alt=\"Open In Colab\"/></a>"
      ]
    },
    {
      "cell_type": "code",
      "metadata": {
        "id": "lnbi_JkBLrJk",
        "colab_type": "code",
        "colab": {}
      },
      "source": [
        "from google.colab import drive\n",
        "drive.mount('/content/drive')"
      ],
      "execution_count": 0,
      "outputs": []
    },
    {
      "cell_type": "code",
      "metadata": {
        "id": "SFvzZa7cxwzR",
        "colab_type": "code",
        "colab": {
          "base_uri": "https://localhost:8080/",
          "height": 125
        },
        "outputId": "248866a7-668c-4e1b-aad0-2472977e0104"
      },
      "source": [
        "!pip3 install surprise"
      ],
      "execution_count": 1,
      "outputs": [
        {
          "output_type": "stream",
          "text": [
            "Requirement already satisfied: surprise in /usr/local/lib/python3.6/dist-packages (0.1)\n",
            "Requirement already satisfied: scikit-surprise in /usr/local/lib/python3.6/dist-packages (from surprise) (1.1.0)\n",
            "Requirement already satisfied: numpy>=1.11.2 in /usr/local/lib/python3.6/dist-packages (from scikit-surprise->surprise) (1.17.5)\n",
            "Requirement already satisfied: joblib>=0.11 in /usr/local/lib/python3.6/dist-packages (from scikit-surprise->surprise) (0.14.1)\n",
            "Requirement already satisfied: scipy>=1.0.0 in /usr/local/lib/python3.6/dist-packages (from scikit-surprise->surprise) (1.4.1)\n",
            "Requirement already satisfied: six>=1.10.0 in /usr/local/lib/python3.6/dist-packages (from scikit-surprise->surprise) (1.12.0)\n"
          ],
          "name": "stdout"
        }
      ]
    },
    {
      "cell_type": "code",
      "metadata": {
        "id": "oQ-v_psFx1qJ",
        "colab_type": "code",
        "colab": {
          "base_uri": "https://localhost:8080/",
          "height": 395
        },
        "outputId": "0c63caec-946b-4c29-f77a-b106f1fb27a2"
      },
      "source": [
        "!pwd\n",
        "!ls -R"
      ],
      "execution_count": 5,
      "outputs": [
        {
          "output_type": "stream",
          "text": [
            "/content\n",
            ".:\n",
            "drive  sample_data\n",
            "\n",
            "./drive:\n",
            "'My Drive'\n",
            "\n",
            "'./drive/My Drive':\n",
            "'Colab Notebooks'\n",
            "\n",
            "'./drive/My Drive/Colab Notebooks':\n",
            "netflix-prize-data  netflix_prize.ipynb  test.ipynb\n",
            "\n",
            "'./drive/My Drive/Colab Notebooks/netflix-prize-data':\n",
            "combined_data_1.txt  combined_data_3.txt  movie_titles.csv  qualifying.txt\n",
            "combined_data_2.txt  combined_data_4.txt  probe.txt\t    README\n",
            "\n",
            "./sample_data:\n",
            "anscombe.json\t\t      mnist_test.csv\n",
            "california_housing_test.csv   mnist_train_small.csv\n",
            "california_housing_train.csv  README.md\n"
          ],
          "name": "stdout"
        }
      ]
    },
    {
      "cell_type": "code",
      "metadata": {
        "id": "MdnliaRwx-MG",
        "colab_type": "code",
        "colab": {
          "base_uri": "https://localhost:8080/",
          "height": 521
        },
        "outputId": "6775c2bb-d90f-4590-c536-aa76b0ccb8f0"
      },
      "source": [
        "#加载数据\n",
        "import pandas as pd\n",
        "df = pd.read_csv('./drive/My Drive/Colab Notebooks/netflix-prize-data/combined_data_2.txt',header=None,names=['uid','rating'],usecols=[0,1])\n",
        "df['rating'] = df['rating'].astype(float)\n",
        "\n",
        "#利用numpy数组将movie_id提取添加到dataframe中，此数据中movie_id是连续自然数，即从1到n\n",
        "df_nan = pd.DataFrame(pd.isnull(df.rating))\n",
        "print(df_nan)\n",
        "df_nan = df_nan[df_nan['rating']==True]\n",
        "df_nan = df_nan.reset_index()\n",
        "print(df_nan)"
      ],
      "execution_count": 9,
      "outputs": [
        {
          "output_type": "stream",
          "text": [
            "          rating\n",
            "0           True\n",
            "1          False\n",
            "2          False\n",
            "3          False\n",
            "4          False\n",
            "...          ...\n",
            "26982297   False\n",
            "26982298   False\n",
            "26982299   False\n",
            "26982300   False\n",
            "26982301   False\n",
            "\n",
            "[26982302 rows x 1 columns]\n",
            "         index  rating\n",
            "0            0    True\n",
            "1          259    True\n",
            "2          855    True\n",
            "3          960    True\n",
            "4         2740    True\n",
            "...        ...     ...\n",
            "4706  26957496    True\n",
            "4707  26959947    True\n",
            "4708  26961403    True\n",
            "4709  26980373    True\n",
            "4710  26980497    True\n",
            "\n",
            "[4711 rows x 2 columns]\n"
          ],
          "name": "stdout"
        }
      ]
    },
    {
      "cell_type": "code",
      "metadata": {
        "id": "2fJ5oH6HcXO_",
        "colab_type": "code",
        "colab": {
          "base_uri": "https://localhost:8080/",
          "height": 35
        },
        "outputId": "ed1926e6-7ad2-493e-e580-1fb4b6c8271a"
      },
      "source": [
        "data1.iloc[0][0][:-1]"
      ],
      "execution_count": 10,
      "outputs": [
        {
          "output_type": "execute_result",
          "data": {
            "text/plain": [
              "'4500'"
            ]
          },
          "metadata": {
            "tags": []
          },
          "execution_count": 10
        }
      ]
    },
    {
      "cell_type": "code",
      "metadata": {
        "id": "m4jDceqAyPoa",
        "colab_type": "code",
        "colab": {}
      },
      "source": [
        "#加载数据\n",
        "import pandas as pd\n",
        "import numpy as np\n",
        "def data_load(file_path):\n",
        "  #读取数据\n",
        "  df = pd.read_csv(file_path,header=None,names=['uid','rating'],usecols=[0,1])\n",
        "  df['rating'] = df['rating'].astype(float)\n",
        "\n",
        "  #利用numpy数组将movie_id提取添加到dataframe中，此数据中movie_id是连续自然数，即从1到n\n",
        "  df_nan = pd.DataFrame(pd.isnull(df.rating))\n",
        "  df_nan = df_nan[df_nan['rating']==True]\n",
        "  df_nan = df_nan.reset_index()\n",
        "\n",
        "  movie_np = []\n",
        "  movie_id = int(df.iloc[0][0][:-1]) #获取第一部电影的id\n",
        "  for i,j in zip(df_nan['index'][1:],df_nan['index'][:-1]):\n",
        "    temp = np.full((1,i-j-1),movie_id)\n",
        "    movie_np = np.append(movie_np,temp)\n",
        "    movie_id += 1\n",
        "  last_record = np.full((1,len(df)-df_nan.iloc[-1,0]-1),movie_id)\n",
        "  movie_np = np.append(movie_np,last_record)\n",
        "  \n",
        "  df = df[pd.notnull(df['rating'])]\n",
        "  df['movie_id'] = movie_np.astype(int)\n",
        "  df['uid'] = df['uid'].astype(int)\n",
        "  return df\n",
        "  \n",
        "#进行数据筛选：筛选掉冷门电影和不活跃用户\n",
        "def data_slicing(df):\n",
        "  f = ['count','mean']\n",
        "  df_movie_summary = df.groupby(by='movie_id')['rating'].agg(f)\n",
        "  df_movie_summary.index = df_movie_summary.index.map(int)\n",
        "  movie_benchmark = round(df_movie_summary['count'].quantile(0.95),0)\n",
        "  drop_movie_list = df_movie_summary[df_movie_summary['count']<movie_benchmark].index\n",
        "  \n",
        "  df_user_summary = df.groupby(by='uid')['rating'].agg(f)\n",
        "  df_user_summary.index = df_user_summary.index.map(int)\n",
        "  user_benchmark = round(df_user_summary['count'].quantile(0.95),0)\n",
        "  drop_user_list = df_user_summary[df_user_summary['count']<user_benchmark].index\n",
        "\n",
        "  df = df[~df['movie_id'].isin(drop_movie_list)]\n",
        "  df = df[~df['uid'].isin(drop_user_list)]\n",
        "  return df"
      ],
      "execution_count": 0,
      "outputs": []
    },
    {
      "cell_type": "code",
      "metadata": {
        "id": "-Sih-qD7Pf6k",
        "colab_type": "code",
        "colab": {
          "base_uri": "https://localhost:8080/",
          "height": 258
        },
        "outputId": "356e9abc-2481-4c5a-8ebb-2e4c4fa6e03c"
      },
      "source": [
        "df1 = data_load('./drive/My Drive/Colab Notebooks/netflix-prize-data/combined_data_1.txt')\n",
        "print(df1.shape)\n",
        "df1 = data_slicing(df1)\n",
        "print(df1.shape)\n",
        "df2 = data_load('./drive/My Drive/Colab Notebooks/netflix-prize-data/combined_data_2.txt')\n",
        "df2 = data_slicing(df2)\n",
        "df3 = data_load('./drive/My Drive/Colab Notebooks/netflix-prize-data/combined_data_3.txt')\n",
        "df3 = data_slicing(df3)\n",
        "df4 = data_load('./drive/My Drive/Colab Notebooks/netflix-prize-data/combined_data_4.txt')\n",
        "df4 = data_slicing(df4)\n",
        "df = pd.concat([df1,df2,df3])\n",
        "df.append(df4)\n",
        "df = df.reset_index()\n",
        "print('df size:',df.shape)\n",
        "df.head()"
      ],
      "execution_count": 3,
      "outputs": [
        {
          "output_type": "stream",
          "text": [
            "(24053764, 3)\n",
            "(2941349, 3)\n",
            "df size: (8994033, 4)\n"
          ],
          "name": "stdout"
        },
        {
          "output_type": "execute_result",
          "data": {
            "text/html": [
              "<div>\n",
              "<style scoped>\n",
              "    .dataframe tbody tr th:only-of-type {\n",
              "        vertical-align: middle;\n",
              "    }\n",
              "\n",
              "    .dataframe tbody tr th {\n",
              "        vertical-align: top;\n",
              "    }\n",
              "\n",
              "    .dataframe thead th {\n",
              "        text-align: right;\n",
              "    }\n",
              "</style>\n",
              "<table border=\"1\" class=\"dataframe\">\n",
              "  <thead>\n",
              "    <tr style=\"text-align: right;\">\n",
              "      <th></th>\n",
              "      <th>index</th>\n",
              "      <th>uid</th>\n",
              "      <th>rating</th>\n",
              "      <th>movie_id</th>\n",
              "    </tr>\n",
              "  </thead>\n",
              "  <tbody>\n",
              "    <tr>\n",
              "      <th>0</th>\n",
              "      <td>52553</td>\n",
              "      <td>1990901</td>\n",
              "      <td>5.0</td>\n",
              "      <td>28</td>\n",
              "    </tr>\n",
              "    <tr>\n",
              "      <th>1</th>\n",
              "      <td>52556</td>\n",
              "      <td>765331</td>\n",
              "      <td>3.0</td>\n",
              "      <td>28</td>\n",
              "    </tr>\n",
              "    <tr>\n",
              "      <th>2</th>\n",
              "      <td>52557</td>\n",
              "      <td>1987434</td>\n",
              "      <td>4.0</td>\n",
              "      <td>28</td>\n",
              "    </tr>\n",
              "    <tr>\n",
              "      <th>3</th>\n",
              "      <td>52560</td>\n",
              "      <td>2193455</td>\n",
              "      <td>4.0</td>\n",
              "      <td>28</td>\n",
              "    </tr>\n",
              "    <tr>\n",
              "      <th>4</th>\n",
              "      <td>52561</td>\n",
              "      <td>1468812</td>\n",
              "      <td>4.0</td>\n",
              "      <td>28</td>\n",
              "    </tr>\n",
              "  </tbody>\n",
              "</table>\n",
              "</div>"
            ],
            "text/plain": [
              "   index      uid  rating  movie_id\n",
              "0  52553  1990901     5.0        28\n",
              "1  52556   765331     3.0        28\n",
              "2  52557  1987434     4.0        28\n",
              "3  52560  2193455     4.0        28\n",
              "4  52561  1468812     4.0        28"
            ]
          },
          "metadata": {
            "tags": []
          },
          "execution_count": 3
        }
      ]
    },
    {
      "cell_type": "code",
      "metadata": {
        "id": "sY2ANNIJR3h1",
        "colab_type": "code",
        "colab": {
          "base_uri": "https://localhost:8080/",
          "height": 161
        },
        "outputId": "20e492f7-3256-421e-bca2-6c9a5b68348b"
      },
      "source": [
        "from surprise import Dataset\n",
        "from surprise import Reader\n",
        "from surprise import BaselineOnly,KNNBasic,NormalPredictor\n",
        "from surprise import accuracy\n",
        "from surprise.model_selection import KFold\n",
        "\n",
        "reader = Reader(line_format='user item rating',sep=',',skip_lines=1)\n",
        "data = Dataset.load_from_df(df[['uid','movie_id','rating']],reader=reader)\n",
        "train_set = data.build_full_trainset()\n",
        "# ALS优化\n",
        "bsl_options = {'method':'als','n_epochs':5,'reg_u':12,'reg_i':5}\n",
        "# SGD优化\n",
        "#bsl_options = {'method':'sgd','n_epochs':5}\n",
        "algo = BaselineOnly(bsl_options=bsl_options)\n",
        "#algo = NormalPredictor()\n",
        "\n",
        "# 定义K折交叉验证迭代器，K=3\n",
        "kf = KFold(n_splits=4)\n",
        "for trainset,testset in kf.split(data):\n",
        "  algo.fit(trainset)\n",
        "  predictions = algo.test(testset)\n",
        "  # 计算RMSE\n",
        "  accuracy.rmse(predictions,verbose=True)"
      ],
      "execution_count": 5,
      "outputs": [
        {
          "output_type": "stream",
          "text": [
            "Estimating biases using als...\n",
            "RMSE: 0.8974\n",
            "Estimating biases using als...\n",
            "RMSE: 0.8971\n",
            "Estimating biases using als...\n",
            "RMSE: 0.8961\n",
            "Estimating biases using als...\n",
            "RMSE: 0.8972\n"
          ],
          "name": "stdout"
        }
      ]
    }
  ]
}