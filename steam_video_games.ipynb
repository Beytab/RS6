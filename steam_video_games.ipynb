{
 "cells": [
  {
   "cell_type": "code",
   "execution_count": 1,
   "metadata": {},
   "outputs": [],
   "source": [
    "import pandas as pd\n",
    "import numpy as np\n",
    "import random"
   ]
  },
  {
   "cell_type": "code",
   "execution_count": 2,
   "metadata": {},
   "outputs": [
    {
     "data": {
      "text/html": [
       "<div>\n",
       "<style scoped>\n",
       "    .dataframe tbody tr th:only-of-type {\n",
       "        vertical-align: middle;\n",
       "    }\n",
       "\n",
       "    .dataframe tbody tr th {\n",
       "        vertical-align: top;\n",
       "    }\n",
       "\n",
       "    .dataframe thead th {\n",
       "        text-align: right;\n",
       "    }\n",
       "</style>\n",
       "<table border=\"1\" class=\"dataframe\">\n",
       "  <thead>\n",
       "    <tr style=\"text-align: right;\">\n",
       "      <th></th>\n",
       "      <th>UserID</th>\n",
       "      <th>Game</th>\n",
       "      <th>Action</th>\n",
       "      <th>Hours</th>\n",
       "      <th>Not Needed</th>\n",
       "    </tr>\n",
       "  </thead>\n",
       "  <tbody>\n",
       "    <tr>\n",
       "      <th>0</th>\n",
       "      <td>151603712</td>\n",
       "      <td>The Elder Scrolls V Skyrim</td>\n",
       "      <td>purchase</td>\n",
       "      <td>1.0</td>\n",
       "      <td>0</td>\n",
       "    </tr>\n",
       "    <tr>\n",
       "      <th>1</th>\n",
       "      <td>151603712</td>\n",
       "      <td>The Elder Scrolls V Skyrim</td>\n",
       "      <td>play</td>\n",
       "      <td>273.0</td>\n",
       "      <td>0</td>\n",
       "    </tr>\n",
       "    <tr>\n",
       "      <th>2</th>\n",
       "      <td>151603712</td>\n",
       "      <td>Fallout 4</td>\n",
       "      <td>purchase</td>\n",
       "      <td>1.0</td>\n",
       "      <td>0</td>\n",
       "    </tr>\n",
       "    <tr>\n",
       "      <th>3</th>\n",
       "      <td>151603712</td>\n",
       "      <td>Fallout 4</td>\n",
       "      <td>play</td>\n",
       "      <td>87.0</td>\n",
       "      <td>0</td>\n",
       "    </tr>\n",
       "    <tr>\n",
       "      <th>4</th>\n",
       "      <td>151603712</td>\n",
       "      <td>Spore</td>\n",
       "      <td>purchase</td>\n",
       "      <td>1.0</td>\n",
       "      <td>0</td>\n",
       "    </tr>\n",
       "  </tbody>\n",
       "</table>\n",
       "</div>"
      ],
      "text/plain": [
       "      UserID                        Game    Action  Hours  Not Needed\n",
       "0  151603712  The Elder Scrolls V Skyrim  purchase    1.0           0\n",
       "1  151603712  The Elder Scrolls V Skyrim      play  273.0           0\n",
       "2  151603712                   Fallout 4  purchase    1.0           0\n",
       "3  151603712                   Fallout 4      play   87.0           0\n",
       "4  151603712                       Spore  purchase    1.0           0"
      ]
     },
     "execution_count": 2,
     "metadata": {},
     "output_type": "execute_result"
    }
   ],
   "source": [
    "path = 'C:/Users/18280/Desktop/RS/Recommended_System-master/L2/steam_video_games/steam-200K.csv'\n",
    "df = pd.read_csv(path,header = None,names = ['UserID','Game','Action','Hours','Not Needed'])\n",
    "df.head()"
   ]
  },
  {
   "cell_type": "code",
   "execution_count": 3,
   "metadata": {},
   "outputs": [
    {
     "name": "stdout",
     "output_type": "stream",
     "text": [
      "显示数据大小\n",
      "(200000, 5)\n"
     ]
    }
   ],
   "source": [
    "print('显示数据大小')\n",
    "print(df.shape)"
   ]
  },
  {
   "cell_type": "code",
   "execution_count": 4,
   "metadata": {},
   "outputs": [
    {
     "name": "stdout",
     "output_type": "stream",
     "text": [
      "0      0.0\n",
      "1    273.0\n",
      "2      0.0\n",
      "Name: Hours_Played, dtype: float32\n",
      "(200000, 6)\n"
     ]
    }
   ],
   "source": [
    "# 创建Hours_Played字段，替代原有的Action和Hours，0表示仅购买，大于0表示购买且游戏时长\n",
    "df['Hours_Played'] = df['Hours'].astype('float32')\n",
    "# 如果字段Action=purchase，并且Hours=1.0，将设置Hours_Played=0\n",
    "df.loc[(df['Action']=='purchase')&(df['Hours']==1),'Hours_Played'] = 0\n",
    "print(df['Hours_Played'][0:3])\n",
    "print(df.shape)"
   ]
  },
  {
   "cell_type": "code",
   "execution_count": 8,
   "metadata": {},
   "outputs": [
    {
     "data": {
      "text/html": [
       "<div>\n",
       "<style scoped>\n",
       "    .dataframe tbody tr th:only-of-type {\n",
       "        vertical-align: middle;\n",
       "    }\n",
       "\n",
       "    .dataframe tbody tr th {\n",
       "        vertical-align: top;\n",
       "    }\n",
       "\n",
       "    .dataframe thead th {\n",
       "        text-align: right;\n",
       "    }\n",
       "</style>\n",
       "<table border=\"1\" class=\"dataframe\">\n",
       "  <thead>\n",
       "    <tr style=\"text-align: right;\">\n",
       "      <th></th>\n",
       "      <th>UserID</th>\n",
       "      <th>Game</th>\n",
       "      <th>Action</th>\n",
       "      <th>Hours</th>\n",
       "      <th>Not Needed</th>\n",
       "      <th>Hours_Played</th>\n",
       "    </tr>\n",
       "  </thead>\n",
       "  <tbody>\n",
       "    <tr>\n",
       "      <th>65429</th>\n",
       "      <td>5250</td>\n",
       "      <td>Alien Swarm</td>\n",
       "      <td>purchase</td>\n",
       "      <td>1.0</td>\n",
       "      <td>0</td>\n",
       "      <td>0.0</td>\n",
       "    </tr>\n",
       "    <tr>\n",
       "      <th>65430</th>\n",
       "      <td>5250</td>\n",
       "      <td>Alien Swarm</td>\n",
       "      <td>play</td>\n",
       "      <td>4.9</td>\n",
       "      <td>0</td>\n",
       "      <td>4.9</td>\n",
       "    </tr>\n",
       "    <tr>\n",
       "      <th>65423</th>\n",
       "      <td>5250</td>\n",
       "      <td>Cities Skylines</td>\n",
       "      <td>purchase</td>\n",
       "      <td>1.0</td>\n",
       "      <td>0</td>\n",
       "      <td>0.0</td>\n",
       "    </tr>\n",
       "    <tr>\n",
       "      <th>65424</th>\n",
       "      <td>5250</td>\n",
       "      <td>Cities Skylines</td>\n",
       "      <td>play</td>\n",
       "      <td>144.0</td>\n",
       "      <td>0</td>\n",
       "      <td>144.0</td>\n",
       "    </tr>\n",
       "    <tr>\n",
       "      <th>65435</th>\n",
       "      <td>5250</td>\n",
       "      <td>Counter-Strike</td>\n",
       "      <td>purchase</td>\n",
       "      <td>1.0</td>\n",
       "      <td>0</td>\n",
       "      <td>0.0</td>\n",
       "    </tr>\n",
       "  </tbody>\n",
       "</table>\n",
       "</div>"
      ],
      "text/plain": [
       "       UserID             Game    Action  Hours  Not Needed  Hours_Played\n",
       "65429    5250      Alien Swarm  purchase    1.0           0           0.0\n",
       "65430    5250      Alien Swarm      play    4.9           0           4.9\n",
       "65423    5250  Cities Skylines  purchase    1.0           0           0.0\n",
       "65424    5250  Cities Skylines      play  144.0           0         144.0\n",
       "65435    5250   Counter-Strike  purchase    1.0           0           0.0"
      ]
     },
     "execution_count": 8,
     "metadata": {},
     "output_type": "execute_result"
    }
   ],
   "source": [
    "# 对数据从小到大进行排序, df下标也会发生变化\n",
    "df['UserID'] = df['UserID'].astype('int')\n",
    "df  = df.sort_values(['UserID','Game','Hours_Played'],ascending = True)\n",
    "df.head()"
   ]
  },
  {
   "cell_type": "code",
   "execution_count": 9,
   "metadata": {},
   "outputs": [
    {
     "name": "stdout",
     "output_type": "stream",
     "text": [
      "删除重复项后的数据集为：\n",
      "           UserID                                        Game  Hours_Played\n",
      "65430        5250                                 Alien Swarm           4.9\n",
      "65424        5250                             Cities Skylines         144.0\n",
      "65435        5250                              Counter-Strike           0.0\n",
      "65436        5250                       Counter-Strike Source           0.0\n",
      "65437        5250                               Day of Defeat           0.0\n",
      "65438        5250                          Deathmatch Classic           0.0\n",
      "65426        5250                    Deus Ex Human Revolution          62.0\n",
      "65434        5250                                      Dota 2           0.2\n",
      "65439        5250                                   Half-Life           0.0\n",
      "65440        5250                                 Half-Life 2           0.0\n",
      "65441        5250                      Half-Life 2 Deathmatch           0.0\n",
      "65442        5250                     Half-Life 2 Episode One           0.0\n",
      "65443        5250                     Half-Life 2 Episode Two           0.0\n",
      "65444        5250                      Half-Life 2 Lost Coast           0.0\n",
      "65445        5250                        Half-Life Blue Shift           0.0\n",
      "65446        5250                    Half-Life Opposing Force           0.0\n",
      "65447        5250                                      Portal           0.0\n",
      "65428        5250                                    Portal 2          13.6\n",
      "65448        5250                                    Ricochet           0.0\n",
      "65432        5250                             Team Fortress 2           0.8\n",
      "65449        5250                       Team Fortress Classic           0.0\n",
      "55935       76767                Age of Empires II HD Edition          13.1\n",
      "55951       76767                                 Alien Swarm           0.8\n",
      "55954       76767                                      Arma 2           0.0\n",
      "55955       76767                  Arma 2 Operation Arrowhead           0.0\n",
      "55956       76767  Arma 2 Operation Arrowhead Beta (Obsolete)           0.0\n",
      "55927       76767                                    Banished          24.0\n",
      "55929       76767                      Call of Duty Black Ops          22.0\n",
      "55937       76767        Call of Duty Black Ops - Multiplayer          12.5\n",
      "55923       76767               Call of Duty Modern Warfare 2          65.0\n",
      "...           ...                                         ...           ...\n",
      "159703  309058572                                      Dota 2           5.2\n",
      "65218   309107542                                      Dota 2           6.7\n",
      "162298  309138595                                      Dota 2           0.8\n",
      "57571   309167186                                    Portal 2           1.1\n",
      "54584   309181805                              Apotheon Arena           0.0\n",
      "54583   309181805                                  Brawlhalla           3.2\n",
      "61011   309188905                Counter-Strike Nexon Zombies           6.1\n",
      "61013   309188905                                    Unturned           0.8\n",
      "63423   309213952                                      Dota 2          13.8\n",
      "99380   309216884                                      Dota 2           4.0\n",
      "144300  309228590                                      Dota 2           0.3\n",
      "117508  309255941                           Mitos.is The Game           5.7\n",
      "110143  309262440            A.V.A - Alliance of Valiant Arms           0.0\n",
      "110144  309262440                         CrimeCraft GangWars           0.0\n",
      "110142  309262440                             Team Fortress 2           1.2\n",
      "196882  309265377                                  Brawlhalla           2.0\n",
      "196884  309265377                            MicroVolts Surge           0.8\n",
      "72980   309375103                     East India Company Gold           0.0\n",
      "25710   309404240                        AdVenture Capitalist           0.7\n",
      "25708   309404240                           Mitos.is The Game           2.2\n",
      "25706   309404240                             Team Fortress 2           2.2\n",
      "25712   309404240                                Transformice           0.3\n",
      "25704   309404240                                    Unturned          13.0\n",
      "52812   309434439                                      Dota 2           0.8\n",
      "169505  309554670                           Mitos.is The Game           5.9\n",
      "18803   309626088                Age of Empires II HD Edition           6.7\n",
      "170024  309812026                Counter-Strike Nexon Zombies           0.0\n",
      "170025  309812026                                   Robocraft           0.0\n",
      "10222   309824202                                      Dota 2           0.7\n",
      "129085  309903146                                      Dota 2           0.2\n",
      "\n",
      "[128804 rows x 3 columns]\n",
      "Empty DataFrame\n",
      "Columns: [UserID, Game, Hours_Played]\n",
      "Index: []\n"
     ]
    }
   ],
   "source": [
    "# 删除重复项，并保留最后一项出现的项（因为最后一项是用户游戏时间，第一项为购买）\n",
    "clean_df = df.drop_duplicates(['UserID','Game'],keep = 'last')\n",
    "# 去掉不用的列：Action, Hours, Not Needed\n",
    "clean_df = clean_df.drop(['Action','Hours','Not Needed'],axis=1)\n",
    "print('删除重复项后的数据集为：')\n",
    "print(clean_df)\n",
    "print(clean_df.head(0))"
   ]
  },
  {
   "cell_type": "code",
   "execution_count": 10,
   "metadata": {},
   "outputs": [
    {
     "data": {
      "text/html": [
       "<div>\n",
       "<style scoped>\n",
       "    .dataframe tbody tr th:only-of-type {\n",
       "        vertical-align: middle;\n",
       "    }\n",
       "\n",
       "    .dataframe tbody tr th {\n",
       "        vertical-align: top;\n",
       "    }\n",
       "\n",
       "    .dataframe thead th {\n",
       "        text-align: right;\n",
       "    }\n",
       "</style>\n",
       "<table border=\"1\" class=\"dataframe\">\n",
       "  <thead>\n",
       "    <tr style=\"text-align: right;\">\n",
       "      <th></th>\n",
       "      <th>UserID</th>\n",
       "      <th>Game</th>\n",
       "      <th>Hours_Played</th>\n",
       "    </tr>\n",
       "  </thead>\n",
       "  <tbody>\n",
       "  </tbody>\n",
       "</table>\n",
       "</div>"
      ],
      "text/plain": [
       "Empty DataFrame\n",
       "Columns: [UserID, Game, Hours_Played]\n",
       "Index: []"
      ]
     },
     "execution_count": 10,
     "metadata": {},
     "output_type": "execute_result"
    }
   ],
   "source": [
    "clean_df.head(0)"
   ]
  },
  {
   "cell_type": "code",
   "execution_count": 16,
   "metadata": {},
   "outputs": [
    {
     "name": "stdout",
     "output_type": "stream",
     "text": [
      "用户数量:12393,游戏个数为:5155\n"
     ]
    }
   ],
   "source": [
    "n_user = len(clean_df['UserID'].unique())\n",
    "n_games = len(clean_df['Game'].unique())\n",
    "print('用户数量:%d,游戏个数为:%d'%(n_user,n_games))\n",
    "# print('数据集中包含了 {0} 玩家，{1} 游戏'.format(n_users, n_games))"
   ]
  },
  {
   "cell_type": "code",
   "execution_count": 17,
   "metadata": {},
   "outputs": [
    {
     "data": {
      "text/plain": [
       "128804"
      ]
     },
     "execution_count": 17,
     "metadata": {},
     "output_type": "execute_result"
    }
   ],
   "source": [
    "# 矩阵的稀疏性\n",
    "clean_df.shape[0]"
   ]
  },
  {
   "cell_type": "code",
   "execution_count": 19,
   "metadata": {},
   "outputs": [
    {
     "name": "stdout",
     "output_type": "stream",
     "text": [
      "用户行为矩阵的稀疏性（填充比例）为0.20% \n"
     ]
    }
   ],
   "source": [
    "sparsity = clean_df.shape[0] / float(n_user * n_games)\n",
    "print('用户行为矩阵的稀疏性（填充比例）为{:.2%} '.format(sparsity))"
   ]
  }
 ],
 "metadata": {
  "kernelspec": {
   "display_name": "Python 3",
   "language": "python",
   "name": "python3"
  },
  "language_info": {
   "codemirror_mode": {
    "name": "ipython",
    "version": 3
   },
   "file_extension": ".py",
   "mimetype": "text/x-python",
   "name": "python",
   "nbconvert_exporter": "python",
   "pygments_lexer": "ipython3",
   "version": "3.7.3"
  }
 },
 "nbformat": 4,
 "nbformat_minor": 4
}
