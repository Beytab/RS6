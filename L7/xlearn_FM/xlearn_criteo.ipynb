{
 "cells": [
  {
   "cell_type": "code",
   "execution_count": 1,
   "metadata": {},
   "outputs": [],
   "source": [
    "import xlearn as xl\n",
    "\n",
    "# 创建FFM模型\n",
    "ffm_model = xl.create_ffm()\n",
    "# 设置训练集和测试集\n",
    "ffm_model.setTrain('small_train.txt')\n",
    "ffm_model.setValidate('small_test.txt')\n",
    "\n",
    "# 设置参数，任务为二分类，学习率0.2，正则项lambda: 0.002，评估指标 accuracy\n",
    "param = {'task':'binary','lr':0.2,'lambda':0.002,'metric':'acc'}\n",
    "\n",
    "# FFM训练，并输出模型\n",
    "ffm_model.fit(param,'model.out')\n",
    "\n",
    "# 设置测试集，将输出结果转换为0-1\n",
    "ffm_model.setTest('small_test.txt')\n",
    "ffm_model.setSigmoid()\n",
    "\n",
    "# 使用训练好的FFM模型进行预测，输出到output.txt\n",
    "ffm_model.predict('model.out','output.txt')"
   ]
  },
  {
   "cell_type": "code",
   "execution_count": null,
   "metadata": {},
   "outputs": [],
   "source": []
  }
 ],
 "metadata": {
  "kernelspec": {
   "display_name": "Python 3",
   "language": "python",
   "name": "python3"
  },
  "language_info": {
   "codemirror_mode": {
    "name": "ipython",
    "version": 3
   },
   "file_extension": ".py",
   "mimetype": "text/x-python",
   "name": "python",
   "nbconvert_exporter": "python",
   "pygments_lexer": "ipython3",
   "version": "3.7.4"
  }
 },
 "nbformat": 4,
 "nbformat_minor": 4
}
