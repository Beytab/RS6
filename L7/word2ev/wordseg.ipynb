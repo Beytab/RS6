{
 "cells": [
  {
   "cell_type": "code",
   "execution_count": 4,
   "metadata": {},
   "outputs": [],
   "source": [
    "import jieba\n",
    "import os \n",
    "#from utils import files_processing\n",
    "from utils import files_processing\n",
    "\n",
    "\n",
    "# 源文件所在目录\n",
    "soure_folder = './source/journey_to_the_west'\n",
    "segment_folder = './segment'\n",
    "\n",
    "# 字词分割，对整个文件内容进行字词分割\n",
    "def segment_lines(file_list,segment_out_dir,stopwords=[]):\n",
    "    for i,file in enumerate(file_list):\n",
    "        segment_out_name = os.path.join(segment_out_dir,'segment_{}.txt'.format(i))\n",
    "        with open(file,'rb') as f:\n",
    "            document = f.read()\n",
    "            document_cut = jieba.lcut(document)\n",
    "            sentence_segment = []\n",
    "            for  segment in document_cut:\n",
    "                if segment  not in stopwords:\n",
    "                    sentence_segment.append(segment)\n",
    "            result = ' '.join(sentence_segment)\n",
    "            result = result.encode('utf-8')\n",
    "        with open(segment_out_name,'wb') as f1:\n",
    "             f1.write(result)\n",
    "                \n",
    "# 对source中的txt文件进行分词，输出到segment目录中\n",
    "file_list = files_processing.get_files_list(soure_folder,postfix='*.txt')\n",
    "segment_lines(file_list,segment_folder)"
   ]
  },
  {
   "cell_type": "code",
   "execution_count": null,
   "metadata": {},
   "outputs": [],
   "source": []
  }
 ],
 "metadata": {
  "kernelspec": {
   "display_name": "Python 3",
   "language": "python",
   "name": "python3"
  },
  "language_info": {
   "codemirror_mode": {
    "name": "ipython",
    "version": 3
   },
   "file_extension": ".py",
   "mimetype": "text/x-python",
   "name": "python",
   "nbconvert_exporter": "python",
   "pygments_lexer": "ipython3",
   "version": "3.7.3"
  }
 },
 "nbformat": 4,
 "nbformat_minor": 4
}
