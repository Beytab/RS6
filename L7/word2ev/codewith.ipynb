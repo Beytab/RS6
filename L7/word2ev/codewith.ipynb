{
 "cells": [
  {
   "cell_type": "markdown",
   "metadata": {},
   "source": [
    "# enumerate() 函数\n",
    "### https://www.runoob.com/python/python-func-enumerate.html"
   ]
  },
  {
   "cell_type": "code",
   "execution_count": 2,
   "metadata": {},
   "outputs": [
    {
     "name": "stdout",
     "output_type": "stream",
     "text": [
      "0 one\n",
      "1 two\n",
      "2 three\n"
     ]
    }
   ],
   "source": [
    "seq = ['one', 'two', 'three']\n",
    "i = 0\n",
    "for element in seq:\n",
    "    print(i,seq[i])\n",
    "    i = i+1"
   ]
  },
  {
   "cell_type": "code",
   "execution_count": 3,
   "metadata": {},
   "outputs": [
    {
     "name": "stdout",
     "output_type": "stream",
     "text": [
      "0 one\n",
      "1 two\n",
      "2 three\n"
     ]
    }
   ],
   "source": [
    "for i,element in enumerate(seq):\n",
    "    print(i,element)"
   ]
  },
  {
   "cell_type": "code",
   "execution_count": 4,
   "metadata": {},
   "outputs": [
    {
     "name": "stdout",
     "output_type": "stream",
     "text": [
      "r-u-n-o-o-b\n",
      "runoob\n"
     ]
    }
   ],
   "source": [
    "s1 = \"-\"\n",
    "s2 = \"\"\n",
    "seq = (\"r\", \"u\", \"n\", \"o\", \"o\", \"b\") # 字符串序列\n",
    "print (s1.join( seq ))\n",
    "print (s2.join( seq ))"
   ]
  },
  {
   "cell_type": "code",
   "execution_count": 7,
   "metadata": {},
   "outputs": [
    {
     "name": "stdout",
     "output_type": "stream",
     "text": [
      "1*1=1 \n",
      "1*2=2  2*2=4 \n",
      "1*3=3  2*3=6  3*3=9 \n",
      "1*4=4  2*4=8  3*4=12 4*4=16\n",
      "1*5=5  2*5=10 3*5=15 4*5=20 5*5=25\n",
      "1*6=6  2*6=12 3*6=18 4*6=24 5*6=30 6*6=36\n",
      "1*7=7  2*7=14 3*7=21 4*7=28 5*7=35 6*7=42 7*7=49\n",
      "1*8=8  2*8=16 3*8=24 4*8=32 5*8=40 6*8=48 7*8=56 8*8=64\n",
      "1*9=9  2*9=18 3*9=27 4*9=36 5*9=45 6*9=54 7*9=63 8*9=72 9*9=81\n"
     ]
    }
   ],
   "source": [
    "print('\\n'.join([' '.join(['%s*%s=%-2s'%(y,x,x*y) for y in range(1,x+1)]) for x in range(1,10)]))"
   ]
  },
  {
   "cell_type": "markdown",
   "metadata": {},
   "source": [
    "# os.path.join() method\n",
    "### os.path.join() method in Python join one or more path components intelligently. \n",
    "### https://www.geeksforgeeks.org/python-os-path-join-method/"
   ]
  },
  {
   "cell_type": "code",
   "execution_count": 8,
   "metadata": {},
   "outputs": [
    {
     "name": "stdout",
     "output_type": "stream",
     "text": [
      "/home\\User/Desktop\\file.txt\n"
     ]
    }
   ],
   "source": [
    "import os \n",
    "  \n",
    "# Path \n",
    "path = \"/home\"\n",
    "  \n",
    "# Join various path components  \n",
    "print(os.path.join(path, \"User/Desktop\", \"file.txt\")) "
   ]
  },
  {
   "cell_type": "code",
   "execution_count": 9,
   "metadata": {},
   "outputs": [
    {
     "name": "stdout",
     "output_type": "stream",
     "text": [
      "/home\\file.txt\n"
     ]
    }
   ],
   "source": [
    "# Path \n",
    "path = \"User/Documents\"\n",
    "  \n",
    "# Join various path components  \n",
    "print(os.path.join(path, \"/home\", \"file.txt\"))   \n",
    "# In above example '/home' \n",
    "# represents an absolute path \n",
    "# so all previous components i.e User / Documents \n",
    "# are thrown away and joining continues  \n",
    "# from the absolute path component i.e / home. "
   ]
  },
  {
   "cell_type": "code",
   "execution_count": 10,
   "metadata": {},
   "outputs": [
    {
     "name": "stdout",
     "output_type": "stream",
     "text": [
      "/home\\User/Public/Documents\\\n"
     ]
    }
   ],
   "source": [
    "# Path \n",
    "path = \"/home\"\n",
    "  \n",
    "# Join various path components  \n",
    "print(os.path.join(path, \"User/Public/\", \"Documents\", \"\"))   \n",
    "# In above example the last  \n",
    "# path component is empty \n",
    "# so a directory seperator ('/') \n",
    "# will be put at the end \n",
    "# along with the concatenated value "
   ]
  },
  {
   "cell_type": "markdown",
   "metadata": {},
   "source": [
    "# with as \n",
    "### https://www.jianshu.com/p/c00df845323c"
   ]
  },
  {
   "cell_type": "code",
   "execution_count": null,
   "metadata": {},
   "outputs": [],
   "source": []
  }
 ],
 "metadata": {
  "kernelspec": {
   "display_name": "Python 3",
   "language": "python",
   "name": "python3"
  },
  "language_info": {
   "codemirror_mode": {
    "name": "ipython",
    "version": 3
   },
   "file_extension": ".py",
   "mimetype": "text/x-python",
   "name": "python",
   "nbconvert_exporter": "python",
   "pygments_lexer": "ipython3",
   "version": "3.7.3"
  }
 },
 "nbformat": 4,
 "nbformat_minor": 4
}
