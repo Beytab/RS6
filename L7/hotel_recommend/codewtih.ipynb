{
 "cells": [
  {
   "cell_type": "markdown",
   "metadata": {},
   "source": [
    "# sklearn.feature_extraction.text.CountVectorizer\n",
    "### https://scikit-learn.org/stable/modules/generated/sklearn.feature_extraction.text.CountVectorizer.html"
   ]
  },
  {
   "cell_type": "code",
   "execution_count": 2,
   "metadata": {},
   "outputs": [
    {
     "name": "stdout",
     "output_type": "stream",
     "text": [
      "[3 6]\n",
      "[1 3 5]\n"
     ]
    }
   ],
   "source": [
    "import numpy as np\n",
    "print(np.sum([[0,1,2],[1,2,3]],axis=1))\n",
    "print(np.sum([[0,1,2],[1,2,3]],axis=0))"
   ]
  },
  {
   "cell_type": "markdown",
   "metadata": {},
   "source": [
    "# vec.vocabulary_.items()"
   ]
  },
  {
   "cell_type": "code",
   "execution_count": 3,
   "metadata": {},
   "outputs": [
    {
     "data": {
      "text/plain": [
       "[('world', 2), ('hello', 1), ('python', 1), ('makes', 1), ('better', 1)]"
      ]
     },
     "execution_count": 3,
     "metadata": {},
     "output_type": "execute_result"
    }
   ],
   "source": [
    "from sklearn.feature_extraction.text import CountVectorizer \n",
    "texts = [\"Hello world\", \"Python makes a better world\"]\n",
    "vec = CountVectorizer().fit(texts)\n",
    "bag_of_words = vec.transform(texts)\n",
    "sum_words = bag_of_words.sum(axis=0)\n",
    "words_freq = [(word, sum_words[0, idx]) for word, idx in vec.vocabulary_.items()]\n",
    "sorted(words_freq, key = lambda x: x[1], reverse=True)"
   ]
  },
  {
   "cell_type": "markdown",
   "metadata": {},
   "source": [
    "# 得到酒店描述中n-gram特征中的TopK个\n",
    "### https://medium.com/@cristhianboujon/how-to-list-the-most-common-words-from-text-corpus-using-scikit-learn-dad4d0cab41d"
   ]
  },
  {
   "cell_type": "markdown",
   "metadata": {},
   "source": [
    "# set(stopwords.words('english'))"
   ]
  },
  {
   "cell_type": "code",
   "execution_count": 4,
   "metadata": {},
   "outputs": [
    {
     "name": "stdout",
     "output_type": "stream",
     "text": [
      "['i', 'me', 'my', 'myself', 'we', 'our', 'ours', 'ourselves', 'you', \"you're\", \"you've\", \"you'll\", \"you'd\", 'your', 'yours', 'yourself', 'yourselves', 'he', 'him', 'his', 'himself', 'she', \"she's\", 'her', 'hers', 'herself', 'it', \"it's\", 'its', 'itself', 'they', 'them', 'their', 'theirs', 'themselves', 'what', 'which', 'who', 'whom', 'this', 'that', \"that'll\", 'these', 'those', 'am', 'is', 'are', 'was', 'were', 'be', 'been', 'being', 'have', 'has', 'had', 'having', 'do', 'does', 'did', 'doing', 'a', 'an', 'the', 'and', 'but', 'if', 'or', 'because', 'as', 'until', 'while', 'of', 'at', 'by', 'for', 'with', 'about', 'against', 'between', 'into', 'through', 'during', 'before', 'after', 'above', 'below', 'to', 'from', 'up', 'down', 'in', 'out', 'on', 'off', 'over', 'under', 'again', 'further', 'then', 'once', 'here', 'there', 'when', 'where', 'why', 'how', 'all', 'any', 'both', 'each', 'few', 'more', 'most', 'other', 'some', 'such', 'no', 'nor', 'not', 'only', 'own', 'same', 'so', 'than', 'too', 'very', 's', 't', 'can', 'will', 'just', 'don', \"don't\", 'should', \"should've\", 'now', 'd', 'll', 'm', 'o', 're', 've', 'y', 'ain', 'aren', \"aren't\", 'couldn', \"couldn't\", 'didn', \"didn't\", 'doesn', \"doesn't\", 'hadn', \"hadn't\", 'hasn', \"hasn't\", 'haven', \"haven't\", 'isn', \"isn't\", 'ma', 'mightn', \"mightn't\", 'mustn', \"mustn't\", 'needn', \"needn't\", 'shan', \"shan't\", 'shouldn', \"shouldn't\", 'wasn', \"wasn't\", 'weren', \"weren't\", 'won', \"won't\", 'wouldn', \"wouldn't\"]\n",
      "{\"shouldn't\", 'be', 'do', 'before', 'out', \"couldn't\", 'further', 'nor', 'can', \"that'll\", \"you're\", 'these', 'them', 'haven', 'ain', 'through', 'all', 'our', 'will', 'which', 'no', 'with', 'at', 'so', 'that', 'as', 'don', 'was', 'both', 'where', 'should', 'when', 'won', 'aren', 'itself', \"should've\", 'ma', 'its', 'y', \"mightn't\", \"you'll\", 'themselves', 'they', 'me', 'after', 'couldn', 'of', 'some', 'once', 'she', 'not', \"doesn't\", \"haven't\", \"hasn't\", 'up', 'this', 're', 'most', 'been', 'ourselves', 'while', 'theirs', 'myself', 'too', \"hadn't\", 'o', 'did', 'm', \"it's\", 'an', 'other', 'between', 'were', 'does', 'ours', 'who', 'my', 'it', 'yourself', 'wasn', 'those', \"don't\", 'than', 'hadn', 'isn', 'having', 'about', 'into', 'such', 'mightn', 'above', 'are', 'to', 'off', \"isn't\", 'on', 'from', 'herself', 'is', 'mustn', 'few', 'yours', \"you'd\", 'yourselves', \"you've\", 'him', 'her', 'for', 'same', 'weren', 'under', \"aren't\", 'any', 'what', 's', 've', 'shouldn', 'have', 'your', 'you', 'we', 'whom', 'but', 'll', 'doesn', \"needn't\", 'the', \"didn't\", 'shan', 'own', 'here', 'just', 'more', 'in', 'wouldn', 'i', 'only', 'during', 'why', 'then', 'has', \"she's\", 'd', 'or', 'their', 'a', 'down', \"wouldn't\", 'he', 'now', 'because', 'by', 'below', 'very', 'there', 'each', 'needn', 'doing', 'himself', \"mustn't\", 'his', 'and', 'against', 'until', \"weren't\", 'am', 'being', \"wasn't\", 'again', 'over', 'how', \"won't\", 't', 'hasn', 'if', 'hers', \"shan't\", 'had', 'didn'}\n"
     ]
    }
   ],
   "source": [
    "from nltk.corpus import stopwords\n",
    "print(stopwords.words('english'))\n",
    "print(set(stopwords.words('english')))"
   ]
  },
  {
   "cell_type": "markdown",
   "metadata": {},
   "source": [
    "# sub()字符串替换方法\n",
    "### https://www.cnblogs.com/bjwu/p/9038910.html"
   ]
  },
  {
   "cell_type": "code",
   "execution_count": 6,
   "metadata": {},
   "outputs": [
    {
     "name": "stdout",
     "output_type": "stream",
     "text": [
      "8ello,world. 8ye8ye!\n"
     ]
    }
   ],
   "source": [
    "import re\n",
    "a = 'Hello,world. ByeBye!'\n",
    "s = re.compile(r'[A-Z]')\n",
    "print(s.sub('8', a))"
   ]
  },
  {
   "cell_type": "code",
   "execution_count": 7,
   "metadata": {},
   "outputs": [
    {
     "name": "stdout",
     "output_type": "stream",
     "text": [
      "8ello,world. 8ye8ye!\n"
     ]
    }
   ],
   "source": [
    "import re\n",
    "a = 'Hello,world. ByeBye!'\n",
    "print(re.sub(r'[A-Z]', '8', a))"
   ]
  },
  {
   "cell_type": "code",
   "execution_count": 10,
   "metadata": {},
   "outputs": [
    {
     "data": {
      "text/plain": [
       "True"
      ]
     },
     "execution_count": 10,
     "metadata": {},
     "output_type": "execute_result"
    }
   ],
   "source": [
    "a = re.compile(r'[/(){}\\[\\]\\|@,;]')\n",
    "b = re.compile('[/(){}\\[\\]\\|@,;]')\n",
    "a==b"
   ]
  },
  {
   "cell_type": "code",
   "execution_count": null,
   "metadata": {},
   "outputs": [],
   "source": []
  }
 ],
 "metadata": {
  "kernelspec": {
   "display_name": "Python 3",
   "language": "python",
   "name": "python3"
  },
  "language_info": {
   "codemirror_mode": {
    "name": "ipython",
    "version": 3
   },
   "file_extension": ".py",
   "mimetype": "text/x-python",
   "name": "python",
   "nbconvert_exporter": "python",
   "pygments_lexer": "ipython3",
   "version": "3.7.3"
  }
 },
 "nbformat": 4,
 "nbformat_minor": 4
}
