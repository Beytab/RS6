{
 "cells": [
  {
   "cell_type": "markdown",
   "metadata": {},
   "source": [
    "#### 1.排序模型按照样本生成方法和损失函数的不同，可以划分为Pointwise、pairwise、listwise三类方法，这三类方法的区别？\n",
    "\n",
    "* pointwise其实相当于一个CTR预测,对于每一个文本都会返回一个预测值,但并不涉及相互之间排序\n",
    "* pairwise是两两之间排序，\n",
    "* listwise考虑整体的排序,通过\n",
    "\n",
    "#### 2.排序模型按照结构划分，可以分为线性排序模型，树模型，深度学习模型，典型代表\n",
    "\n",
    "* 线性排序模型：LR;体现二阶交叉特性的FM和FFM;\n",
    "* 树模型：GBDT和GBDT+LR\n",
    "* 深度学习模型：基于DNN模型,Wide&Deep,DeepFM,NFM\n",
    "\n",
    "#### 3.NDCG计算\n",
    "Normalized DCG(Discounted culmulative gain)\n",
    "\n",
    "具体计算方法：\n",
    "$NDCG_p$ = $\\frac{DCG_p}{IDCG_p}$\n",
    "其中\n",
    "\n",
    "$DCG_p$ = $\\sum_{i=1}^{p}\\frac{rel_i}{log_2(i+1)}$\n",
    "\n",
    "$IDCG_p$ = $\\sum_{i=1}^{|REL|}\\frac{rel_i}{log_2(i+1)}$\n",
    "\n",
    "#### 4.搜索排序和推荐系统的相同不同之处\n",
    "1）相同之处：\n",
    "* 都需要进行一定程度的rank排序\n",
    "\n",
    "2）不同之处：\n",
    "* 推荐系统更加侧重于用户不知道需要什么的时候应用;搜索引擎是在用户明确知道需要时应用\n",
    "* 对排序的精确度要求不是非常严格;搜索引擎对排序质量要求较高j\n",
    "* 推荐系统侧重的是单个预估问题;搜索引擎更加注重全局的顺序\n",
    "\n",
    "#### 5.Listwise排序模型能否应用到推荐系统中\n",
    "\n",
    "可以，但不常用.\n",
    "原因是listwise需要给所有对象排序,消耗的计算资源较大,\n",
    "在推荐系统中,考虑的推荐多样性,没有必要非要给结果进行精确排序，只需知道推荐item的内容即可。"
   ]
  }
 ],
 "metadata": {
  "kernelspec": {
   "display_name": "Python 3",
   "language": "python",
   "name": "python3"
  },
  "language_info": {
   "codemirror_mode": {
    "name": "ipython",
    "version": 3
   },
   "file_extension": ".py",
   "mimetype": "text/x-python",
   "name": "python",
   "nbconvert_exporter": "python",
   "pygments_lexer": "ipython3",
   "version": "3.7.3"
  }
 },
 "nbformat": 4,
 "nbformat_minor": 4
}
