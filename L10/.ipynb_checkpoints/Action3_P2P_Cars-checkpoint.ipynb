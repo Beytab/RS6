{
 "cells": [
  {
   "cell_type": "markdown",
   "metadata": {},
   "source": [
    "## Q : P2P租车产品的个性化推荐和搜索排序策略(阐述相似车型,搜索排序的设计方法以及可能的embedding策略)"
   ]
  },
  {
   "cell_type": "markdown",
   "metadata": {},
   "source": [
    "### 1）首先Embedding策略\n",
    "\n",
    "目标：将车辆作为listing,对车辆进行embedding,\n",
    "通过embedding方法将车辆listing映射到d维空间中,采用d维空间向量表示,相似的车辆在d维空间的距离接近\n",
    "\n",
    "#### step1 定义数据集:\n",
    "* 用户对不同车辆的连续点击查看作为一个session,每个session定义为一个用户连续点击的M个车辆的id组成的连续序列 s = (l1,l2,...lm)\n",
    "* 对于session的选择,可以采取连续两次点击的时间间隔小于30min的内容作为一个session（应该可以去掉停留时间小于1min的车辆id）\n",
    "\n",
    "#### step2 embedding算法\n",
    "将车辆的连续点击作为一个句子,车辆作为句子中的word,训练车辆embedding\n"
   ]
  },
  {
   "cell_type": "markdown",
   "metadata": {},
   "source": [
    "同时考虑用户租过的作为正样本,采用全局负样本和车辆城市区域负样本加入到目标函数构造中。"
   ]
  },
  {
   "cell_type": "markdown",
   "metadata": {},
   "source": [
    "* 最后考虑长期行为,也可以按照用户的画像(常驻区域,收入,年龄等)和车辆信息(车型,价格,地域等)进行type Embedding,预定的为正样本,车主拒绝为负样本加入到目标函数构造中.\n",
    "* 冷启动时的embedding策略:用户&车辆冷启动时均可按照特征画像相近的type embedding的平均值来计算"
   ]
  },
  {
   "cell_type": "markdown",
   "metadata": {},
   "source": [
    "### 2)推荐策略\n",
    "\n",
    "* 推荐use_type embedding和list type embedding相似度高的车辆\n",
    "* 用户点击时实时推荐embedding相似度高的车辆"
   ]
  },
  {
   "cell_type": "markdown",
   "metadata": {},
   "source": [
    "### 3)搜索排序策略\n",
    "\n",
    "需要同时考虑租车客户和车主\n",
    "\n",
    "* 租车客户,根据车型,价格,评论等推荐\n",
    "* 车主需要过滤掉一下不好的租客\n",
    "* Leaning  to rank 中Pairwise方法做,预定的作为正样本，车主拒绝的作为负样本"
   ]
  },
  {
   "cell_type": "markdown",
   "metadata": {},
   "source": [
    "基于embedding的搜索排序,将embedding feature加入到原有的排序模型中进行计算"
   ]
  }
 ],
 "metadata": {
  "kernelspec": {
   "display_name": "Python 3",
   "language": "python",
   "name": "python3"
  },
  "language_info": {
   "codemirror_mode": {
    "name": "ipython",
    "version": 3
   },
   "file_extension": ".py",
   "mimetype": "text/x-python",
   "name": "python",
   "nbconvert_exporter": "python",
   "pygments_lexer": "ipython3",
   "version": "3.7.3"
  }
 },
 "nbformat": 4,
 "nbformat_minor": 4
}
