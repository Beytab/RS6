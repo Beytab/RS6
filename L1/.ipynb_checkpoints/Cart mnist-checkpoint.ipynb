{
 "cells": [
  {
   "cell_type": "code",
   "execution_count": 1,
   "metadata": {},
   "outputs": [
    {
     "data": {
      "text/plain": [
       "<Figure size 480x480 with 1 Axes>"
      ]
     },
     "metadata": {},
     "output_type": "display_data"
    },
    {
     "name": "stdout",
     "output_type": "stream",
     "text": [
      "(1347, 64) (450, 64)\n",
      "CART准确率为：                                0.851111\n"
     ]
    }
   ],
   "source": [
    "from sklearn.datasets import load_digits\n",
    "from sklearn.model_selection import train_test_split\n",
    "from sklearn import preprocessing \n",
    "from sklearn.metrics import accuracy_score\n",
    "from sklearn import tree\n",
    "import matplotlib.pyplot as plt\n",
    " \n",
    "digits = load_digits()\n",
    "plt.matshow(digits.images[8])\n",
    "plt.show()\n",
    "\n",
    "train_x,test_x,train_y,test_y = train_test_split(digits.data,digits.target,test_size=0.25,random_state=33)\n",
    "print(train_x.shape,test_x.shape)\n",
    "\n",
    "scaler = preprocessing.StandardScaler()\n",
    "train_scaler_x = scaler.fit_transform(train_x)\n",
    "test_scaler_x = scaler.transform(test_x)\n",
    "\n",
    "clf = tree.DecisionTreeClassifier()\n",
    "clf.fit(train_scaler_x,train_y)\n",
    "\n",
    "predict_y = clf.predict(test_scaler_x)\n",
    "print('CART准确率为：%40lf'%accuracy_score(test_y,predict_y))"
   ]
  },
  {
   "cell_type": "code",
   "execution_count": null,
   "metadata": {},
   "outputs": [],
   "source": []
  }
 ],
 "metadata": {
  "kernelspec": {
   "display_name": "Python 3",
   "language": "python",
   "name": "python3"
  },
  "language_info": {
   "codemirror_mode": {
    "name": "ipython",
    "version": 3
   },
   "file_extension": ".py",
   "mimetype": "text/x-python",
   "name": "python",
   "nbconvert_exporter": "python",
   "pygments_lexer": "ipython3",
   "version": "3.7.3"
  }
 },
 "nbformat": 4,
 "nbformat_minor": 4
}
