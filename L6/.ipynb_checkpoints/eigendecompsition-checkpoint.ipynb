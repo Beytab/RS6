{
 "cells": [
  {
   "cell_type": "code",
   "execution_count": 5,
   "metadata": {},
   "outputs": [
    {
     "data": {
      "text/plain": [
       "array([[ 4,  2, -5],\n",
       "       [ 6,  4, -9],\n",
       "       [ 5,  3, -7]])"
      ]
     },
     "execution_count": 5,
     "metadata": {},
     "output_type": "execute_result"
    }
   ],
   "source": [
    "import numpy as np\n",
    "A = np.array([[4,2,-5],\n",
    "              [6,4,-9],\n",
    "              [5,3,-7]\n",
    "             ])\n",
    "A"
   ]
  },
  {
   "cell_type": "code",
   "execution_count": 6,
   "metadata": {},
   "outputs": [
    {
     "name": "stdout",
     "output_type": "stream",
     "text": [
      "矩阵A：\n",
      "[[ 4  2 -5]\n",
      " [ 6  4 -9]\n",
      " [ 5  3 -7]]\n",
      "特征值: [ 1.00000000e+00  4.02000914e-08 -4.02000921e-08]\n",
      "特征向量: [[ 0.57735027 -0.26726123  0.26726125]\n",
      " [ 0.57735027 -0.80178373  0.80178372]\n",
      " [ 0.57735027 -0.53452248  0.53452249]]\n"
     ]
    }
   ],
   "source": [
    "lamda,U = np.linalg.eig(A)\n",
    "print('矩阵A：')\n",
    "print(A)\n",
    "print('特征值:',lamda)\n",
    "print('特征向量:',U)"
   ]
  },
  {
   "cell_type": "markdown",
   "metadata": {},
   "source": [
    "# SVD(Singular value decompostion)"
   ]
  },
  {
   "cell_type": "code",
   "execution_count": 9,
   "metadata": {},
   "outputs": [
    {
     "name": "stdout",
     "output_type": "stream",
     "text": [
      "P= [[-0.85065081 -0.52573111]\n",
      " [-0.52573111  0.85065081]\n",
      " [ 0.          0.        ]]\n",
      "S= [2.61803399 0.38196601]\n",
      "Q= [[-0.52573111 -0.85065081]\n",
      " [ 0.85065081 -0.52573111]]\n"
     ]
    }
   ],
   "source": [
    "from scipy.linalg import svd\n",
    "import numpy as np\n",
    "A = np.array([[1,2],\n",
    "             [1,1],\n",
    "             [0,0]])\n",
    "p,s,q = svd(A,full_matrices=False)\n",
    "print('P=',p)\n",
    "print('S=',s)\n",
    "print('Q=',q)"
   ]
  },
  {
   "cell_type": "code",
   "execution_count": 17,
   "metadata": {},
   "outputs": [
    {
     "data": {
      "text/plain": [
       "array([[1., 0., 0.],\n",
       "       [0., 1., 0.],\n",
       "       [0., 0., 1.]])"
      ]
     },
     "execution_count": 17,
     "metadata": {},
     "output_type": "execute_result"
    }
   ],
   "source": [
    "np.identity(A.shape[0])"
   ]
  },
  {
   "cell_type": "code",
   "execution_count": null,
   "metadata": {},
   "outputs": [],
   "source": []
  }
 ],
 "metadata": {
  "kernelspec": {
   "display_name": "Python 3",
   "language": "python",
   "name": "python3"
  },
  "language_info": {
   "codemirror_mode": {
    "name": "ipython",
    "version": 3
   },
   "file_extension": ".py",
   "mimetype": "text/x-python",
   "name": "python",
   "nbconvert_exporter": "python",
   "pygments_lexer": "ipython3",
   "version": "3.7.3"
  }
 },
 "nbformat": 4,
 "nbformat_minor": 4
}
