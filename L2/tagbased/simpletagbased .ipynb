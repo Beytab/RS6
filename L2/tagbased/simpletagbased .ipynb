{
 "cells": [
  {
   "cell_type": "code",
   "execution_count": 1,
   "metadata": {},
   "outputs": [],
   "source": [
    "import random\n",
    "import math\n",
    "import operator\n",
    "import pandas as pd"
   ]
  },
  {
   "cell_type": "code",
   "execution_count": 21,
   "metadata": {},
   "outputs": [],
   "source": [
    "# 定义数据结构\n",
    "### 用户打标签记录：records 字典类型，保存了user对item的tag，即{userid: {item1:[tag1, tag2], ...}}\n",
    "### 用户打过的标签：user_tags[u][t] 记录用户打过特定标签的次数\n",
    "### 用户打过标签的商品：user_items[u][i] 记录用户打过特定商品的次数\n",
    "### 打上某标签的商品：tag_items[t][i]  记录商品被打上该标签的次数\n",
    "### 某标签使用过的用户：tags_users[t][u] 记录用户打过该标签的次数\n",
    "\n",
    "#保存user对item的tag\n",
    "records = {} \n",
    "# 用户标签&商品标签\n",
    "user_tags = dict()\n",
    "tag_items = dict()\n",
    "user_items = dict()\n",
    "# 训练集&测试集\n",
    "train_data = dict()\n",
    "test_data = dict()"
   ]
  },
  {
   "cell_type": "code",
   "execution_count": 22,
   "metadata": {},
   "outputs": [],
   "source": [
    "# 定义加载数据函数  \n",
    "def load_data(file_path):\n",
    "    # 此函数用于加载数据，加载后的数据存入records字典中，格式为{userid: {item1:[tag1, tag2], ...}}\n",
    "    print('数据开始加载...')\n",
    "    df = pd.read_csv(file_path,sep='\\t')\n",
    "    for i in range(len(df)):\n",
    "        uid = df['userID'][i]\n",
    "        iid = df['bookmarkID'][i]\n",
    "        tag = df['tagID'][i]\n",
    "        # 当键不存在时，设置为默认值{}\n",
    "        records.setdefault(uid,{})\n",
    "        records[uid].setdefault(iid,[])\n",
    "        records[uid][iid].append(tag)\n",
    "    print('数据集大小为：%d'%len(df))\n",
    "    print('设置tag的人数：%d'%len(records))\n",
    "    print('数据加载完成\\n')\n",
    "    \n",
    "# 将数据集拆分为训练集合测试集\n",
    "def train_test_split(ratio,seed=100):\n",
    "    random.seed(seed)\n",
    "    for u in records.keys():\n",
    "        for i in records[u].keys():\n",
    "            #ratio 比例的数据设置为测试集\n",
    "            if random.random()<ratio:\n",
    "                test_data.setdefault(u,{})\n",
    "                test_data[u].setdefault(i,[])\n",
    "                for t in records[u][i]:\n",
    "                    test_data[u][i].append(t)\n",
    "            else:\n",
    "                train_data.setdefault(u,{})\n",
    "                train_data[u].setdefault(i,[])\n",
    "                for t in records[u][i]:\n",
    "                    train_data[u][i].append(t)\n",
    "    print('训练样本集：%d, 测试样本集：%d'%(len(train_data),len(test_data)))"
   ]
  },
  {
   "cell_type": "code",
   "execution_count": 37,
   "metadata": {},
   "outputs": [],
   "source": [
    "#设置矩阵 mat[index, item] = 1\n",
    "def addValueToMat(mat,index,item,value=1):\n",
    "    # 此函数统计index中item出现的次数，将index值和item出现的次数存储在变量为mat的字典中{index,{item,value}}\n",
    "    if index not in mat:\n",
    "        mat.setdefault(index,{})\n",
    "        mat[index].setdefault(item,value)\n",
    "    else:\n",
    "        if item not in mat[index]:\n",
    "            mat[index][item] = value\n",
    "        else:\n",
    "            mat[index][item] += value"
   ]
  },
  {
   "cell_type": "code",
   "execution_count": 42,
   "metadata": {},
   "outputs": [],
   "source": [
    "# 使用训练集，初始化user_tags, tag_items, user_items\n",
    "def initState():\n",
    "    # 初始化函数，用来判断用户和tag；item和tag；用户和item一起出现的次数，并保存在相应的字典中\n",
    "    records = train_data\n",
    "    for u,i in records.items():\n",
    "        for item,tags in records[u].items():\n",
    "            for tag in tags:\n",
    "                #用户和tag的关系\n",
    "                addValueToMat(user_tags,u,tag,1)\n",
    "                #items 和 tag 的关系\n",
    "                addValueToMat(tag_items,tag,item,1) #注意此处 item 和 tag 顺序不一样的化表达的含义和数据结构是不一样的\n",
    "                #用户和item的关系\n",
    "                addValueToMat(user_items,u,item,1)\n",
    "    print('user_tags,tag_items,user_items初始化完成')\n",
    "    print('user_tags size:%d,tag_items size:%d,usr_items size:%d'%(len(user_tags),len(item_tags),len(user_items)))"
   ]
  },
  {
   "cell_type": "code",
   "execution_count": 43,
   "metadata": {},
   "outputs": [],
   "source": [
    "# 对用户推荐top_N\n",
    "def recommend(user,N):\n",
    "    recommend_items = dict()\n",
    "    # 此函数为user推荐排其未曾使用过的排名前N项的产品(item),以字典形式返回\n",
    "    # 对Item进行打分，分数为所有的（用户对某标签使用的次数 wut, 乘以商品被打上相同标签的次数 wti）之和\n",
    "    tagged_items = user_items[user]\n",
    "    for tag,wut in user_tags[user].items():\n",
    "         #print(self.user_tags[user].items())\n",
    "        for item,wti in tag_items[tag].items():\n",
    "            if item in tagged_items:\n",
    "                continue\n",
    "            if item not in recommend_items:\n",
    "                recommend_items[item] = wut*wti\n",
    "            else:\n",
    "                recommend_items[item] = recommend_items[item]+wut*wti\n",
    "    return sorted(recommend_items.items(),key=operator.itemgetter(1),reverse=True)[0:N]"
   ]
  },
  {
   "cell_type": "code",
   "execution_count": 46,
   "metadata": {},
   "outputs": [],
   "source": [
    "# 计算准去率&回归率\n",
    "def precisionAndRecall(N):\n",
    "    hit = 0 \n",
    "    h_recall = 0\n",
    "    h_precision = 0\n",
    "    for user,items in test_data.items():\n",
    "        if user not in train_data:\n",
    "            continue\n",
    "        rank = recommend(user,N)\n",
    "        for item,rui in rank:\n",
    "            if item in items:\n",
    "                hit = hit+1\n",
    "        h_recall = h_recall + len(items)\n",
    "        h_precision = h_precision+N\n",
    "    print('一共命中 %d 个, 一共推荐 %d 个, 用户设置tag总数 %d 个' %(hit, h_precision, h_recall))\n",
    "    # 返回准确率 和 召回率\n",
    "    return (hit/(h_precision*1.0)), (hit/(h_recall*1.0))\n",
    "\n",
    "# 使用测试集，对推荐结果进行评估\n",
    "def testRecommend():\n",
    "    print(\"推荐结果评估\")\n",
    "    print(\"%3s %10s %10s\" % ('N',\"精确率\",'召回率'))\n",
    "    for n in [5,10,20,40,60,80,100]:\n",
    "        precision,recall = precisionAndRecall(n)\n",
    "        print(\"%3d %10.3f%% %10.3f%%\" % (n, precision * 100, recall * 100))"
   ]
  },
  {
   "cell_type": "code",
   "execution_count": 47,
   "metadata": {},
   "outputs": [
    {
     "name": "stdout",
     "output_type": "stream",
     "text": [
      "数据开始加载...\n",
      "数据集大小为：437593\n",
      "设置tag的人数：1867\n",
      "数据加载完成\n",
      "\n",
      "训练样本集：1860, 测试样本集：1793\n",
      "user_tags,tag_items,user_items初始化完成\n",
      "user_tags size:1860,tag_items size:0,usr_items size:1860\n",
      "推荐结果评估\n",
      "  N        精确率        召回率\n",
      "一共命中 74 个, 一共推荐 8930 个, 用户设置tag总数 20861 个\n",
      "  5      0.829%      0.355%\n",
      "一共命中 113 个, 一共推荐 17860 个, 用户设置tag总数 20861 个\n",
      " 10      0.633%      0.542%\n",
      "一共命中 183 个, 一共推荐 35720 个, 用户设置tag总数 20861 个\n",
      " 20      0.512%      0.877%\n",
      "一共命中 272 个, 一共推荐 71440 个, 用户设置tag总数 20861 个\n",
      " 40      0.381%      1.304%\n",
      "一共命中 341 个, 一共推荐 107160 个, 用户设置tag总数 20861 个\n",
      " 60      0.318%      1.635%\n",
      "一共命中 395 个, 一共推荐 142880 个, 用户设置tag总数 20861 个\n",
      " 80      0.276%      1.893%\n",
      "一共命中 443 个, 一共推荐 178600 个, 用户设置tag总数 20861 个\n",
      "100      0.248%      2.124%\n"
     ]
    }
   ],
   "source": [
    "load_data('C:/Users/18280/Desktop/RS/Recommended_System-master/L2/delicious-2k/user_taggedbookmarks-timestamps.dat')\n",
    "train_test_split(0.2)\n",
    "initState()\n",
    "testRecommend()"
   ]
  },
  {
   "cell_type": "code",
   "execution_count": null,
   "metadata": {},
   "outputs": [],
   "source": []
  }
 ],
 "metadata": {
  "kernelspec": {
   "display_name": "Python 3",
   "language": "python",
   "name": "python3"
  },
  "language_info": {
   "codemirror_mode": {
    "name": "ipython",
    "version": 3
   },
   "file_extension": ".py",
   "mimetype": "text/x-python",
   "name": "python",
   "nbconvert_exporter": "python",
   "pygments_lexer": "ipython3",
   "version": "3.7.3"
  }
 },
 "nbformat": 4,
 "nbformat_minor": 4
}
