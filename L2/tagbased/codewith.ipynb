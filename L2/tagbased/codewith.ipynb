{
 "cells": [
  {
   "cell_type": "code",
   "execution_count": 2,
   "metadata": {},
   "outputs": [
    {
     "data": {
      "text/html": [
       "<div>\n",
       "<style scoped>\n",
       "    .dataframe tbody tr th:only-of-type {\n",
       "        vertical-align: middle;\n",
       "    }\n",
       "\n",
       "    .dataframe tbody tr th {\n",
       "        vertical-align: top;\n",
       "    }\n",
       "\n",
       "    .dataframe thead th {\n",
       "        text-align: right;\n",
       "    }\n",
       "</style>\n",
       "<table border=\"1\" class=\"dataframe\">\n",
       "  <thead>\n",
       "    <tr style=\"text-align: right;\">\n",
       "      <th></th>\n",
       "      <th>0</th>\n",
       "      <th>1</th>\n",
       "      <th>2</th>\n",
       "      <th>3</th>\n",
       "      <th>4</th>\n",
       "    </tr>\n",
       "  </thead>\n",
       "  <tbody>\n",
       "    <tr>\n",
       "      <th>0</th>\n",
       "      <td>0</td>\n",
       "      <td>1</td>\n",
       "      <td>2</td>\n",
       "      <td>3</td>\n",
       "      <td>4</td>\n",
       "    </tr>\n",
       "    <tr>\n",
       "      <th>1</th>\n",
       "      <td>5</td>\n",
       "      <td>6</td>\n",
       "      <td>7</td>\n",
       "      <td>8</td>\n",
       "      <td>9</td>\n",
       "    </tr>\n",
       "  </tbody>\n",
       "</table>\n",
       "</div>"
      ],
      "text/plain": [
       "   0  1  2  3  4\n",
       "0  0  1  2  3  4\n",
       "1  5  6  7  8  9"
      ]
     },
     "execution_count": 2,
     "metadata": {},
     "output_type": "execute_result"
    }
   ],
   "source": [
    "# 查看数据集结构\n",
    "import pandas as pd\n",
    "import numpy as np\n",
    "df = pd.DataFrame(np.arange(10).reshape(2,5))\n",
    "df"
   ]
  },
  {
   "cell_type": "code",
   "execution_count": 3,
   "metadata": {},
   "outputs": [
    {
     "data": {
      "text/plain": [
       "2"
      ]
     },
     "execution_count": 3,
     "metadata": {},
     "output_type": "execute_result"
    }
   ],
   "source": [
    "len(df)"
   ]
  },
  {
   "cell_type": "code",
   "execution_count": 4,
   "metadata": {},
   "outputs": [
    {
     "data": {
      "text/html": [
       "<div>\n",
       "<style scoped>\n",
       "    .dataframe tbody tr th:only-of-type {\n",
       "        vertical-align: middle;\n",
       "    }\n",
       "\n",
       "    .dataframe tbody tr th {\n",
       "        vertical-align: top;\n",
       "    }\n",
       "\n",
       "    .dataframe thead th {\n",
       "        text-align: right;\n",
       "    }\n",
       "</style>\n",
       "<table border=\"1\" class=\"dataframe\">\n",
       "  <thead>\n",
       "    <tr style=\"text-align: right;\">\n",
       "      <th></th>\n",
       "      <th>userID</th>\n",
       "      <th>bookmarkID</th>\n",
       "      <th>tagID</th>\n",
       "      <th>timestamp</th>\n",
       "    </tr>\n",
       "  </thead>\n",
       "  <tbody>\n",
       "    <tr>\n",
       "      <th>999</th>\n",
       "      <td>242</td>\n",
       "      <td>403</td>\n",
       "      <td>537</td>\n",
       "      <td>1289232482000</td>\n",
       "    </tr>\n",
       "    <tr>\n",
       "      <th>1000</th>\n",
       "      <td>242</td>\n",
       "      <td>403</td>\n",
       "      <td>538</td>\n",
       "      <td>1289232482000</td>\n",
       "    </tr>\n",
       "    <tr>\n",
       "      <th>1001</th>\n",
       "      <td>242</td>\n",
       "      <td>403</td>\n",
       "      <td>539</td>\n",
       "      <td>1289232482000</td>\n",
       "    </tr>\n",
       "    <tr>\n",
       "      <th>1002</th>\n",
       "      <td>242</td>\n",
       "      <td>403</td>\n",
       "      <td>540</td>\n",
       "      <td>1289232482000</td>\n",
       "    </tr>\n",
       "    <tr>\n",
       "      <th>1003</th>\n",
       "      <td>242</td>\n",
       "      <td>403</td>\n",
       "      <td>541</td>\n",
       "      <td>1289232482000</td>\n",
       "    </tr>\n",
       "    <tr>\n",
       "      <th>1004</th>\n",
       "      <td>242</td>\n",
       "      <td>403</td>\n",
       "      <td>542</td>\n",
       "      <td>1289232482000</td>\n",
       "    </tr>\n",
       "    <tr>\n",
       "      <th>1005</th>\n",
       "      <td>242</td>\n",
       "      <td>403</td>\n",
       "      <td>543</td>\n",
       "      <td>1289232482000</td>\n",
       "    </tr>\n",
       "    <tr>\n",
       "      <th>1006</th>\n",
       "      <td>242</td>\n",
       "      <td>403</td>\n",
       "      <td>544</td>\n",
       "      <td>1289232482000</td>\n",
       "    </tr>\n",
       "    <tr>\n",
       "      <th>1007</th>\n",
       "      <td>242</td>\n",
       "      <td>405</td>\n",
       "      <td>97</td>\n",
       "      <td>1288879058000</td>\n",
       "    </tr>\n",
       "    <tr>\n",
       "      <th>1008</th>\n",
       "      <td>242</td>\n",
       "      <td>405</td>\n",
       "      <td>382</td>\n",
       "      <td>1288879058000</td>\n",
       "    </tr>\n",
       "    <tr>\n",
       "      <th>1009</th>\n",
       "      <td>242</td>\n",
       "      <td>405</td>\n",
       "      <td>499</td>\n",
       "      <td>1288879058000</td>\n",
       "    </tr>\n",
       "  </tbody>\n",
       "</table>\n",
       "</div>"
      ],
      "text/plain": [
       "      userID  bookmarkID  tagID      timestamp\n",
       "999      242         403    537  1289232482000\n",
       "1000     242         403    538  1289232482000\n",
       "1001     242         403    539  1289232482000\n",
       "1002     242         403    540  1289232482000\n",
       "1003     242         403    541  1289232482000\n",
       "1004     242         403    542  1289232482000\n",
       "1005     242         403    543  1289232482000\n",
       "1006     242         403    544  1289232482000\n",
       "1007     242         405     97  1288879058000\n",
       "1008     242         405    382  1288879058000\n",
       "1009     242         405    499  1288879058000"
      ]
     },
     "execution_count": 4,
     "metadata": {},
     "output_type": "execute_result"
    }
   ],
   "source": [
    "df = pd.read_csv('C:/Users/18280/Desktop/RS/Recommended_System-master/L2/delicious-2k/user_taggedbookmarks-timestamps.dat',sep='\\t')\n",
    "df[999:1010]"
   ]
  },
  {
   "cell_type": "markdown",
   "metadata": {},
   "source": [
    "# dict()函数"
   ]
  },
  {
   "cell_type": "markdown",
   "metadata": {},
   "source": [
    "### dict() 函数用于创建一个字典。"
   ]
  },
  {
   "cell_type": "code",
   "execution_count": 1,
   "metadata": {},
   "outputs": [
    {
     "name": "stdout",
     "output_type": "stream",
     "text": [
      "{}\n",
      "{'a': 1, 'c': 3, 'v': 9}\n",
      "{1: 3, 2: 3, 3: 3}\n",
      "{'a': 1, 'c': 3, 'd': 9}\n"
     ]
    }
   ],
   "source": [
    "# 创建空字典\n",
    "print(dict())\n",
    "# 传入关键字\n",
    "print(dict(a=1,c=3,v=9))\n",
    "#映射方式来构造字典\n",
    "print(dict(zip([1,2,3],[3,3,3])))\n",
    "# 采用可迭代对象的方式构造字典\n",
    "print(dict([('a',1),('c',3),('d',9)]))"
   ]
  },
  {
   "cell_type": "markdown",
   "metadata": {},
   "source": [
    "# setdefault()函数"
   ]
  },
  {
   "cell_type": "markdown",
   "metadata": {},
   "source": [
    "### 如果 key 在 字典中，返回对应的值。如果不在字典中，则插入 key 及设置的默认值 default，并返回 default ，default 默认值为 None"
   ]
  },
  {
   "cell_type": "code",
   "execution_count": 2,
   "metadata": {},
   "outputs": [
    {
     "name": "stdout",
     "output_type": "stream",
     "text": [
      "Age 键的值为 : 7\n",
      "Sex 键的值为 : None\n",
      "新字典为： {'Name': 'Runoob', 'Age': 7, 'Sex': None}\n"
     ]
    }
   ],
   "source": [
    "dict = {'Name': 'Runoob', 'Age': 7}\n",
    " \n",
    "print (\"Age 键的值为 : %s\" %  dict.setdefault('Age', None))\n",
    "print (\"Sex 键的值为 : %s\" %  dict.setdefault('Sex', None))\n",
    "print (\"新字典为：\", dict)"
   ]
  },
  {
   "cell_type": "markdown",
   "metadata": {},
   "source": [
    "# Dictionary keys()方法"
   ]
  },
  {
   "cell_type": "markdown",
   "metadata": {},
   "source": [
    "### 返回一个字典所有的键。"
   ]
  },
  {
   "cell_type": "code",
   "execution_count": 4,
   "metadata": {},
   "outputs": [
    {
     "name": "stdout",
     "output_type": "stream",
     "text": [
      "Value : dict_keys(['Name', 'Age'])\n"
     ]
    }
   ],
   "source": [
    "dict = {'Name': 'Zara', 'Age': 7}\n",
    "\n",
    "print(\"Value : %s\" %  dict.keys())"
   ]
  },
  {
   "cell_type": "markdown",
   "metadata": {},
   "source": [
    "# Dictionary items() 方法"
   ]
  },
  {
   "cell_type": "markdown",
   "metadata": {},
   "source": [
    "### 列表返回可遍历的(键, 值) 元组数组"
   ]
  },
  {
   "cell_type": "code",
   "execution_count": 1,
   "metadata": {},
   "outputs": [
    {
     "name": "stdout",
     "output_type": "stream",
     "text": [
      "Value : dict_items([('Name', 'Runoob'), ('Age', 7)])\n"
     ]
    }
   ],
   "source": [
    "dict = {'Name': 'Runoob', 'Age': 7}\n",
    " \n",
    "print (\"Value : %s\" %  dict.items())"
   ]
  },
  {
   "cell_type": "code",
   "execution_count": 4,
   "metadata": {},
   "outputs": [
    {
     "name": "stdout",
     "output_type": "stream",
     "text": [
      "Name Runoob\n",
      "Age 7\n"
     ]
    }
   ],
   "source": [
    "for i,v in dict.items():\n",
    "    print(i,v)"
   ]
  },
  {
   "cell_type": "markdown",
   "metadata": {},
   "source": [
    "# sorted函数"
   ]
  },
  {
   "cell_type": "markdown",
   "metadata": {},
   "source": [
    "### 对所有可迭代的对象进行排序操作，返回的是一个新的 list，而不是在原来的基础上进行的操作。\n",
    "### 语法：sorted(iterable, key=None, reverse=False)  "
   ]
  },
  {
   "cell_type": "code",
   "execution_count": 8,
   "metadata": {},
   "outputs": [
    {
     "name": "stdout",
     "output_type": "stream",
     "text": [
      "[7, 6, 5, 4, 3, 2, 1, 0]\n"
     ]
    }
   ],
   "source": [
    "example_list = [5, 0, 6, 1, 2, 7, 3, 4]\n",
    "result_list = sorted(example_list, key=lambda x: x*-1)\n",
    "print(result_list)"
   ]
  },
  {
   "cell_type": "code",
   "execution_count": 9,
   "metadata": {},
   "outputs": [
    {
     "name": "stdout",
     "output_type": "stream",
     "text": [
      "[{'age': 10, 'name': 'c'}, {'age': 20, 'name': 'a'}, {'age': 25, 'name': 'b'}]\n"
     ]
    }
   ],
   "source": [
    "array = [{\"age\":20,\"name\":\"a\"},{\"age\":25,\"name\":\"b\"},{\"age\":10,\"name\":\"c\"}]\n",
    "array = sorted(array,key=lambda x:x[\"age\"])\n",
    "print(array)"
   ]
  },
  {
   "cell_type": "code",
   "execution_count": 10,
   "metadata": {},
   "outputs": [
    {
     "name": "stdout",
     "output_type": "stream",
     "text": [
      "[{'name': 'alice', 'score': 38}, {'name': 'christ', 'score': 28}, {'name': 'darl', 'score': 28}, {'name': 'bob', 'score': 18}]\n"
     ]
    }
   ],
   "source": [
    "#先按照成绩降序排序，相同成绩的按照名字升序排序\n",
    "d1 = [{'name':'alice', 'score':38}, {'name':'bob', 'score':18}, {'name':'darl', 'score':28}, {'name':'christ', 'score':28}]\n",
    "l = sorted(d1, key=lambda x:(x['score'], x['name']))\n",
    "print(l)"
   ]
  },
  {
   "cell_type": "markdown",
   "metadata": {},
   "source": [
    "# operator.itemgetter函数\n",
    "### 用于获取对象的哪些维的数据，参数为一些序号（即需要获取的数据在对象中的序号），下面看例子。"
   ]
  },
  {
   "cell_type": "code",
   "execution_count": null,
   "metadata": {},
   "outputs": [],
   "source": []
  }
 ],
 "metadata": {
  "kernelspec": {
   "display_name": "Python 3",
   "language": "python",
   "name": "python3"
  },
  "language_info": {
   "codemirror_mode": {
    "name": "ipython",
    "version": 3
   },
   "file_extension": ".py",
   "mimetype": "text/x-python",
   "name": "python",
   "nbconvert_exporter": "python",
   "pygments_lexer": "ipython3",
   "version": "3.7.3"
  }
 },
 "nbformat": 4,
 "nbformat_minor": 4
}
