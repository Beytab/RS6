{
 "cells": [
  {
   "cell_type": "markdown",
   "metadata": {},
   "source": [
    "# 1 networkx.Graph.nodes(data=Flase,default=None)"
   ]
  },
  {
   "cell_type": "markdown",
   "metadata": {},
   "source": [
    "### https://networkx.github.io/documentation/stable/reference/classes/generated/networkx.Graph.nodes.html"
   ]
  },
  {
   "cell_type": "markdown",
   "metadata": {},
   "source": [
    "### 用于查看图中的节点,\n",
    "### 节点属性可以理解为节点的实际意义,比如学术论文数据集，节点是一篇文章，feature可以是文章做得词频统计,也可以是其他一些信息"
   ]
  },
  {
   "cell_type": "code",
   "execution_count": 15,
   "metadata": {},
   "outputs": [
    {
     "name": "stdout",
     "output_type": "stream",
     "text": [
      "[0, 1, 2]\n",
      "[0, 1, 2]\n",
      "[(0, {}), (1, {}), (2, {})]\n"
     ]
    }
   ],
   "source": [
    "import networkx as nx\n",
    "G = nx.path_graph(3)\n",
    "# getting a list of all nodes in the graph\n",
    "print(list(G))\n",
    "print(list(G.nodes()))\n",
    "print(list(G.nodes(data=True))) #data=True时，返回的是以(n, dict)返回形式的节点属性，节点无任何属性则字典为空"
   ]
  },
  {
   "cell_type": "code",
   "execution_count": 17,
   "metadata": {},
   "outputs": [
    {
     "name": "stdout",
     "output_type": "stream",
     "text": [
      "[(0, {'foo': 'bar'}), (1, {'time': '5mm'}), (2, {})]\n",
      "[(0, {'foo': 'bar'}), (1, {'time': '5mm'}), (2, {})]\n"
     ]
    }
   ],
   "source": [
    "G.add_node(1,time='5mm') #增加一个节点,具有5mm时间属性\n",
    "G.node[0]['foo'] = 'bar' #给节点0添加一个名称为foo，数值为bar的属性\n",
    "print(list(G.nodes(data=True)))\n",
    "print(list(G.nodes.data()))"
   ]
  },
  {
   "cell_type": "code",
   "execution_count": 18,
   "metadata": {},
   "outputs": [
    {
     "name": "stdout",
     "output_type": "stream",
     "text": [
      "[(0, 'bar'), (1, None), (2, None)]\n",
      "[(0, 'bar'), (1, None), (2, None)]\n",
      "[(0, 'bar'), (1, None), (2, None)]\n"
     ]
    }
   ],
   "source": [
    "print(list(G.nodes(data='foo')))\n",
    "print(list(G.nodes.data('foo')))\n",
    "print(G.nodes(data='foo'))"
   ]
  },
  {
   "cell_type": "code",
   "execution_count": 19,
   "metadata": {},
   "outputs": [
    {
     "name": "stdout",
     "output_type": "stream",
     "text": [
      "[(0, 'Not_Available'), (1, '5mm'), (2, 'Not_Available')]\n",
      "[(0, 'Not_Avallable'), (1, '5mm'), (2, 'Not_Avallable')]\n"
     ]
    }
   ],
   "source": [
    "print(list(G.nodes(data='time',default='Not_Available')))\n",
    "print(list(G.nodes.data('time',default='Not_Avallable')))"
   ]
  },
  {
   "cell_type": "markdown",
   "metadata": {},
   "source": [
    "# 2 networkx.Graph.egdes()\n",
    "### 顾名思义,当然是用来显示边的函数\n",
    "### https://networkx.github.io/documentation/stable/reference/classes/generated/networkx.Graph.edges.html"
   ]
  },
  {
   "cell_type": "markdown",
   "metadata": {},
   "source": [
    "### 语法：edges(self, nbunch=None, data=False, default=None)"
   ]
  },
  {
   "cell_type": "code",
   "execution_count": 20,
   "metadata": {},
   "outputs": [
    {
     "data": {
      "text/plain": [
       "[(0, 1), (1, 2)]"
      ]
     },
     "execution_count": 20,
     "metadata": {},
     "output_type": "execute_result"
    }
   ],
   "source": [
    "[e for e in G.edges]"
   ]
  },
  {
   "cell_type": "code",
   "execution_count": 22,
   "metadata": {},
   "outputs": [
    {
     "data": {
      "text/plain": [
       "[(0, 1), (1, 2), (2, 3)]"
      ]
     },
     "execution_count": 22,
     "metadata": {},
     "output_type": "execute_result"
    }
   ],
   "source": [
    "G.add_edge(2,3,weight=5)\n",
    "[e for e in G.edges]"
   ]
  },
  {
   "cell_type": "code",
   "execution_count": 24,
   "metadata": {},
   "outputs": [
    {
     "name": "stdout",
     "output_type": "stream",
     "text": [
      "[(0, 1, {}), (1, 2, {}), (2, 3, {'weight': 5})]\n",
      "[(0, 1, {}), (1, 2, {}), (2, 3, {'weight': 5})]\n",
      "[(0, 1, 1), (1, 2, 1), (2, 3, 5)]\n",
      "[(0, 1, 1), (1, 2, 1), (2, 3, 5)]\n"
     ]
    }
   ],
   "source": [
    "print(G.edges(data=True))\n",
    "print(G.edges.data())\n",
    "print(G.edges(data='weight',default=1))\n",
    "print(G.edges.data('weight',default=1))"
   ]
  },
  {
   "cell_type": "code",
   "execution_count": 26,
   "metadata": {},
   "outputs": [
    {
     "data": {
      "text/plain": [
       "EdgeDataView([(0, 1), (3, 2)])"
      ]
     },
     "execution_count": 26,
     "metadata": {},
     "output_type": "execute_result"
    }
   ],
   "source": [
    "G.edges([0,3])"
   ]
  },
  {
   "cell_type": "code",
   "execution_count": 28,
   "metadata": {},
   "outputs": [
    {
     "data": {
      "text/plain": [
       "EdgeDataView([(0, 1)])"
      ]
     },
     "execution_count": 28,
     "metadata": {},
     "output_type": "execute_result"
    }
   ],
   "source": [
    "G.edges(0)"
   ]
  },
  {
   "cell_type": "code",
   "execution_count": 37,
   "metadata": {},
   "outputs": [
    {
     "data": {
      "text/plain": [
       "[{}, {}, {'weight': 5}]"
      ]
     },
     "execution_count": 37,
     "metadata": {},
     "output_type": "execute_result"
    }
   ],
   "source": [
    "import numpy as np\n",
    "# [np.sqrt(e[2]['weight']) for e in graph.edges(data=True)]\n",
    "[e[2] for e in G.edges(data=True,default=1)]"
   ]
  },
  {
   "cell_type": "markdown",
   "metadata": {},
   "source": [
    "# 3 defaultdict()"
   ]
  },
  {
   "cell_type": "markdown",
   "metadata": {},
   "source": [
    "### https://docs.python.org/3.8/library/collections.html\n",
    "### http://kodango.com/understand-defaultdict-in-python"
   ]
  },
  {
   "cell_type": "markdown",
   "metadata": {},
   "source": [
    "### collections module 提供了容器(container)数据类型"
   ]
  },
  {
   "cell_type": "markdown",
   "metadata": {},
   "source": [
    "### 在Python中如果访问字典中不存在的键，会引发KeyError异常，可以通过setdefault设定默认值解决，但是除此之外有一种更好的方法因为有一种字典它本身提供了默认值的功能，这种字典就是defauldict"
   ]
  },
  {
   "cell_type": "code",
   "execution_count": 1,
   "metadata": {},
   "outputs": [
    {
     "data": {
      "text/plain": [
       "defaultdict(list, {})"
      ]
     },
     "execution_count": 1,
     "metadata": {},
     "output_type": "execute_result"
    }
   ],
   "source": [
    "from collections import defaultdict\n",
    "dd = defaultdict(list)\n",
    "dd"
   ]
  },
  {
   "cell_type": "markdown",
   "metadata": {},
   "source": [
    "### defaultdict类就好像是一个dict，但是它是使用一个类型来初始化的,这样的化当访问值不存在时,就返回相应的初始化类型的空值"
   ]
  },
  {
   "cell_type": "code",
   "execution_count": 2,
   "metadata": {},
   "outputs": [
    {
     "data": {
      "text/plain": [
       "[]"
      ]
     },
     "execution_count": 2,
     "metadata": {},
     "output_type": "execute_result"
    }
   ],
   "source": [
    "dd['aj']"
   ]
  },
  {
   "cell_type": "markdown",
   "metadata": {},
   "source": [
    "# 4 zip()函数"
   ]
  },
  {
   "cell_type": "markdown",
   "metadata": {},
   "source": [
    "### 函数用于将可迭代的对象作为参数，将对象中对应的元素打包成一个个元组，然后返回由这些元组组成的对象，这样做的好处是节约了不少的内存。"
   ]
  },
  {
   "cell_type": "code",
   "execution_count": 3,
   "metadata": {},
   "outputs": [
    {
     "data": {
      "text/plain": [
       "<zip at 0x283d9985a48>"
      ]
     },
     "execution_count": 3,
     "metadata": {},
     "output_type": "execute_result"
    }
   ],
   "source": [
    "a = [1,2,3]\n",
    "b = [4,5,6]\n",
    "c = [4,5,6,7,8]\n",
    "zipped = zip(a,b)\n",
    "zipped"
   ]
  },
  {
   "cell_type": "code",
   "execution_count": 4,
   "metadata": {},
   "outputs": [
    {
     "data": {
      "text/plain": [
       "[(1, 4), (2, 5), (3, 6)]"
      ]
     },
     "execution_count": 4,
     "metadata": {},
     "output_type": "execute_result"
    }
   ],
   "source": [
    "list(zipped) # list() 转换为列表"
   ]
  },
  {
   "cell_type": "code",
   "execution_count": 5,
   "metadata": {},
   "outputs": [
    {
     "data": {
      "text/plain": [
       "[(1, 4), (2, 5), (3, 6)]"
      ]
     },
     "execution_count": 5,
     "metadata": {},
     "output_type": "execute_result"
    }
   ],
   "source": [
    "list(zip(a,c))  # 元素个数与最短的列表一致"
   ]
  },
  {
   "cell_type": "code",
   "execution_count": 6,
   "metadata": {},
   "outputs": [
    {
     "name": "stdout",
     "output_type": "stream",
     "text": [
      "[1, 2, 3]\n",
      "[4, 5, 6]\n"
     ]
    }
   ],
   "source": [
    "# 利用 * 号操作符，可以将元组解压为列表\n",
    "a1, a2 = zip(*zip(a,b)) \n",
    "print(list(a1))\n",
    "print(list(a2))"
   ]
  },
  {
   "cell_type": "code",
   "execution_count": 38,
   "metadata": {},
   "outputs": [],
   "source": [
    "for t in zipped:\n",
    "    temp = (t[0],t[1])\n",
    "    print(temp)"
   ]
  },
  {
   "cell_type": "markdown",
   "metadata": {},
   "source": [
    "# 5 nx.set_node_attributes"
   ]
  },
  {
   "cell_type": "markdown",
   "metadata": {},
   "source": [
    "### https://networkx.github.io/documentation/stable/reference/generated/networkx.classes.function.set_node_attributes.html"
   ]
  },
  {
   "cell_type": "markdown",
   "metadata": {},
   "source": [
    "### 语法：set_node_attributes(G, values, name=None)\n",
    "### Sets node attributes from a given value or dictionary of values.\n",
    "### Parameters,"
   ]
  }
 ],
 "metadata": {
  "kernelspec": {
   "display_name": "Python 3",
   "language": "python",
   "name": "python3"
  },
  "language_info": {
   "codemirror_mode": {
    "name": "ipython",
    "version": 3
   },
   "file_extension": ".py",
   "mimetype": "text/x-python",
   "name": "python",
   "nbconvert_exporter": "python",
   "pygments_lexer": "ipython3",
   "version": "3.7.3"
  }
 },
 "nbformat": 4,
 "nbformat_minor": 4
}
