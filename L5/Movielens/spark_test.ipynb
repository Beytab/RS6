{
 "cells": [
  {
   "cell_type": "code",
   "execution_count": null,
   "metadata": {},
   "outputs": [],
   "source": [
    "from pyspark.sql import SparkSession\n",
    "from pyspark.sql.functions import col\n",
    " \n",
    "# 初始化\n",
    "spark = SparkSession.builder.master(\"local[*]\").appName(\"FiratApp\").getOrCreate()\n",
    " \n",
    "# 下面两句都可以获取0到9的数据\n",
    "# data = spark.createDataFrame(map(lambda x: (x,), range(10)), [\"id\"])\n",
    "data = spark.range(0, 10).select(col(\"id\").cast(\"double\"))\n",
    " \n",
    "# 求和\n",
    "data.agg({'id': 'sum'}).show()\n",
    " \n",
    "# 关闭\n",
    "spark.stop()"
   ]
  }
 ],
 "metadata": {
  "kernelspec": {
   "display_name": "Python 3",
   "language": "python",
   "name": "python3"
  },
  "language_info": {
   "codemirror_mode": {
    "name": "ipython",
    "version": 3
   },
   "file_extension": ".py",
   "mimetype": "text/x-python",
   "name": "python",
   "nbconvert_exporter": "python",
   "pygments_lexer": "ipython3",
   "version": "3.7.3"
  }
 },
 "nbformat": 4,
 "nbformat_minor": 4
}
