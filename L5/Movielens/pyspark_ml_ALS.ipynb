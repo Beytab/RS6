{
 "cells": [
  {
   "cell_type": "code",
   "execution_count": 1,
   "metadata": {},
   "outputs": [],
   "source": [
    "import findspark\n",
    "findspark.init()"
   ]
  },
  {
   "cell_type": "code",
   "execution_count": 2,
   "metadata": {},
   "outputs": [
    {
     "name": "stdout",
     "output_type": "stream",
     "text": [
      "[Row(userId=100, recommendations=[Row(movieId=67504, rating=5.237862586975098), Row(movieId=83318, rating=5.237862586975098), Row(movieId=83411, rating=5.237862586975098), Row(movieId=83359, rating=5.237862586975098), Row(movieId=4731, rating=5.148364543914795)])]\n"
     ]
    }
   ],
   "source": [
    "from pyspark.ml.recommendation import ALS\n",
    "from pyspark import SparkContext\n",
    "from pyspark.sql import SQLContext\n",
    "from pyspark.sql.types import *\n",
    "import pandas as pd\n",
    "\n",
    "# SparkContext是Spark的入口，相当于应用程序的main函数，http://codingdict.com/article/8882\n",
    "sc = SparkContext()   \n",
    "sql_sc = SQLContext(sc)\n",
    "\n",
    "pd_df_ratings = pd.read_csv('ratings_small.csv')\n",
    "pyspark_df_ratings = sql_sc.createDataFrame(pd_df_ratings)\n",
    "pyspark_df_ratings = pyspark_df_ratings.drop('Timestamp')\n",
    "\n",
    "# 创建ALS模型\n",
    "# rank隐分类 3，迭代次数10，正则项0。1\n",
    "als = ALS(rank=3,maxIter=10,regParam=0.1,userCol='userId',itemCol='movieId',ratingCol='rating')\n",
    "model = als.fit(pyspark_df_ratings)\n",
    "\n",
    "# 对userId=100进行Top-N推荐\n",
    "recommendations = model.recommendForAllUsers(5)\n",
    "print(recommendations.where(recommendations.userId==100).collect())"
   ]
  },
  {
   "cell_type": "code",
   "execution_count": null,
   "metadata": {},
   "outputs": [],
   "source": []
  }
 ],
 "metadata": {
  "kernelspec": {
   "display_name": "Python 3",
   "language": "python",
   "name": "python3"
  },
  "language_info": {
   "codemirror_mode": {
    "name": "ipython",
    "version": 3
   },
   "file_extension": ".py",
   "mimetype": "text/x-python",
   "name": "python",
   "nbconvert_exporter": "python",
   "pygments_lexer": "ipython3",
   "version": "3.7.3"
  }
 },
 "nbformat": 4,
 "nbformat_minor": 4
}
