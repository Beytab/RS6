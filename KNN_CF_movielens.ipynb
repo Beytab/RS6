{
  "nbformat": 4,
  "nbformat_minor": 0,
  "metadata": {
    "colab": {
      "name": "KNN_CF_movielens.ipynb",
      "provenance": [],
      "authorship_tag": "ABX9TyN4FjVrvA9EePAu9Uz0KSKw",
      "include_colab_link": true
    },
    "kernelspec": {
      "name": "python3",
      "display_name": "Python 3"
    },
    "accelerator": "GPU"
  },
  "cells": [
    {
      "cell_type": "markdown",
      "metadata": {
        "id": "view-in-github",
        "colab_type": "text"
      },
      "source": [
        "<a href=\"https://colab.research.google.com/github/Beytab/RS6/blob/master/KNN_CF_movielens.ipynb\" target=\"_parent\"><img src=\"https://colab.research.google.com/assets/colab-badge.svg\" alt=\"Open In Colab\"/></a>"
      ]
    },
    {
      "cell_type": "code",
      "metadata": {
        "id": "oVYuXeoctjZY",
        "colab_type": "code",
        "colab": {
          "base_uri": "https://localhost:8080/",
          "height": 319
        },
        "outputId": "ffe23d56-6c66-42da-abd3-2e1fffb07385"
      },
      "source": [
        "!pip install surprise"
      ],
      "execution_count": 1,
      "outputs": [
        {
          "output_type": "stream",
          "text": [
            "Collecting surprise\n",
            "  Downloading https://files.pythonhosted.org/packages/61/de/e5cba8682201fcf9c3719a6fdda95693468ed061945493dea2dd37c5618b/surprise-0.1-py2.py3-none-any.whl\n",
            "Collecting scikit-surprise\n",
            "\u001b[?25l  Downloading https://files.pythonhosted.org/packages/f5/da/b5700d96495fb4f092be497f02492768a3d96a3f4fa2ae7dea46d4081cfa/scikit-surprise-1.1.0.tar.gz (6.4MB)\n",
            "\u001b[K     |████████████████████████████████| 6.5MB 39.4MB/s \n",
            "\u001b[?25hRequirement already satisfied: joblib>=0.11 in /usr/local/lib/python3.6/dist-packages (from scikit-surprise->surprise) (0.14.1)\n",
            "Requirement already satisfied: numpy>=1.11.2 in /usr/local/lib/python3.6/dist-packages (from scikit-surprise->surprise) (1.18.2)\n",
            "Requirement already satisfied: scipy>=1.0.0 in /usr/local/lib/python3.6/dist-packages (from scikit-surprise->surprise) (1.4.1)\n",
            "Requirement already satisfied: six>=1.10.0 in /usr/local/lib/python3.6/dist-packages (from scikit-surprise->surprise) (1.12.0)\n",
            "Building wheels for collected packages: scikit-surprise\n",
            "  Building wheel for scikit-surprise (setup.py) ... \u001b[?25l\u001b[?25hdone\n",
            "  Created wheel for scikit-surprise: filename=scikit_surprise-1.1.0-cp36-cp36m-linux_x86_64.whl size=1678154 sha256=bb71b53ca0b9bc2bf8ea0d694d3d4ea6a089e0185f4365ad9c0f34042d6f00f4\n",
            "  Stored in directory: /root/.cache/pip/wheels/cc/fa/8c/16c93fccce688ae1bde7d979ff102f7bee980d9cfeb8641bcf\n",
            "Successfully built scikit-surprise\n",
            "Installing collected packages: scikit-surprise, surprise\n",
            "Successfully installed scikit-surprise-1.1.0 surprise-0.1\n"
          ],
          "name": "stdout"
        }
      ]
    },
    {
      "cell_type": "code",
      "metadata": {
        "id": "Ebhg3dxDtxAv",
        "colab_type": "code",
        "colab": {
          "base_uri": "https://localhost:8080/",
          "height": 158
        },
        "outputId": "fcc7cf93-9564-47dc-ece1-ff9acec19012"
      },
      "source": [
        "!git clone https://github.com/Beytab/RS6.git"
      ],
      "execution_count": 3,
      "outputs": [
        {
          "output_type": "stream",
          "text": [
            "Cloning into 'RS6'...\n",
            "remote: Enumerating objects: 13, done.\u001b[K\n",
            "remote: Counting objects:   7% (1/13)\u001b[K\rremote: Counting objects:  15% (2/13)\u001b[K\rremote: Counting objects:  23% (3/13)\u001b[K\rremote: Counting objects:  30% (4/13)\u001b[K\rremote: Counting objects:  38% (5/13)\u001b[K\rremote: Counting objects:  46% (6/13)\u001b[K\rremote: Counting objects:  53% (7/13)\u001b[K\rremote: Counting objects:  61% (8/13)\u001b[K\rremote: Counting objects:  69% (9/13)\u001b[K\rremote: Counting objects:  76% (10/13)\u001b[K\rremote: Counting objects:  84% (11/13)\u001b[K\rremote: Counting objects:  92% (12/13)\u001b[K\rremote: Counting objects: 100% (13/13)\u001b[K\rremote: Counting objects: 100% (13/13), done.\u001b[K\n",
            "remote: Compressing objects: 100% (12/12), done.\u001b[K\n",
            "remote: Total 445 (delta 1), reused 10 (delta 1), pack-reused 432\u001b[K\n",
            "Receiving objects: 100% (445/445), 81.49 MiB | 23.85 MiB/s, done.\n",
            "Resolving deltas: 100% (129/129), done.\n",
            "Checking out files: 100% (258/258), done.\n"
          ],
          "name": "stdout"
        }
      ]
    },
    {
      "cell_type": "code",
      "metadata": {
        "id": "4lfug2KQuTG6",
        "colab_type": "code",
        "colab": {
          "base_uri": "https://localhost:8080/",
          "height": 35
        },
        "outputId": "b8c7333e-3c7a-44fb-fc09-27e40a5f5c1a"
      },
      "source": [
        "!dir"
      ],
      "execution_count": 4,
      "outputs": [
        {
          "output_type": "stream",
          "text": [
            "RS6  sample_data\n"
          ],
          "name": "stdout"
        }
      ]
    },
    {
      "cell_type": "code",
      "metadata": {
        "id": "pxxqdrdpxPrR",
        "colab_type": "code",
        "colab": {
          "base_uri": "https://localhost:8080/",
          "height": 985
        },
        "outputId": "c9bf7a99-a6ba-4a3d-d93e-42120c6041b2"
      },
      "source": [
        "from surprise import KNNWithMeans\n",
        "from surprise import KNNBasic\n",
        "from surprise import KNNWithZScore\n",
        "from surprise import KNNBaseline\n",
        "from surprise import Dataset,Reader\n",
        "from surprise.model_selection import KFold\n",
        "from surprise import accuracy\n",
        "\n",
        "#数据读取\n",
        "reader = Reader(line_format='user item rating timestamp',sep=',',skip_lines=1)\n",
        "data = Dataset.load_from_file('RS6/L8/knn_cf/ratings.csv',reader=reader)\n",
        "train_set = data.build_full_trainset()\n",
        "\n",
        "#定义3折交叉验证\n",
        "def kfold_test(algo,train_set):\n",
        "   kf = KFold(n_splits=3)\n",
        "   for trainset,testset in kf.split(data):\n",
        "      algo.fit(trainset)\n",
        "      predictions = algo.test(testset)\n",
        "      accuracy.rmse(predictions,verbose=True)\n",
        "      accuracy.mae(predictions,verbose=True)\n",
        "\n",
        "#Item_CF\n",
        "simoptions = {'user_based':False,'verbose':'True'}\n",
        "print('*'*15,'KNNWithMeans','*'*20)  \n",
        "algo1 = KNNWithMeans(k=50,sim_options=simoptions)\n",
        "kfold_test(algo1,train_set)\n",
        "print('*'*15,'KNNBasic','*'*20)\n",
        "algo2 = KNNBasic(k=50,sim_options=simoptions)\n",
        "kfold_test(algo2,train_set)\n",
        "print('*'*15,'KNNWithZcore','*'*20)\n",
        "algo3 = KNNWithZScore(k=50,sim_options=simoptions)\n",
        "kfold_test(algo3,train_set)\n",
        "print('*'*15,'KNNBaseline','*'*20)\n",
        "algo4 = KNNBaseline(k=50,sim_options=simoptions)\n",
        "kfold_test(algo4,train_set)"
      ],
      "execution_count": 18,
      "outputs": [
        {
          "output_type": "stream",
          "text": [
            "*************** KNNWithMeans ********************\n",
            "Computing the msd similarity matrix...\n",
            "Done computing similarity matrix.\n",
            "RMSE: 0.8565\n",
            "MAE:  0.6552\n",
            "Computing the msd similarity matrix...\n",
            "Done computing similarity matrix.\n",
            "RMSE: 0.8586\n",
            "MAE:  0.6565\n",
            "Computing the msd similarity matrix...\n",
            "Done computing similarity matrix.\n",
            "RMSE: 0.8552\n",
            "MAE:  0.6537\n",
            "*************** KNNBasic ********************\n",
            "Computing the msd similarity matrix...\n",
            "Done computing similarity matrix.\n",
            "RMSE: 0.8950\n",
            "MAE:  0.6885\n",
            "Computing the msd similarity matrix...\n",
            "Done computing similarity matrix.\n",
            "RMSE: 0.8957\n",
            "MAE:  0.6896\n",
            "Computing the msd similarity matrix...\n",
            "Done computing similarity matrix.\n",
            "RMSE: 0.8954\n",
            "MAE:  0.6886\n",
            "*************** KNNWithZcore ********************\n",
            "Computing the msd similarity matrix...\n",
            "Done computing similarity matrix.\n",
            "RMSE: 0.8597\n",
            "MAE:  0.6562\n",
            "Computing the msd similarity matrix...\n",
            "Done computing similarity matrix.\n",
            "RMSE: 0.8573\n",
            "MAE:  0.6545\n",
            "Computing the msd similarity matrix...\n",
            "Done computing similarity matrix.\n",
            "RMSE: 0.8588\n",
            "MAE:  0.6563\n",
            "*************** KNNBaseline ********************\n",
            "Estimating biases using als...\n",
            "Computing the msd similarity matrix...\n",
            "Done computing similarity matrix.\n",
            "RMSE: 0.8514\n",
            "MAE:  0.6519\n",
            "Estimating biases using als...\n",
            "Computing the msd similarity matrix...\n",
            "Done computing similarity matrix.\n",
            "RMSE: 0.8524\n",
            "MAE:  0.6523\n",
            "Estimating biases using als...\n",
            "Computing the msd similarity matrix...\n",
            "Done computing similarity matrix.\n",
            "RMSE: 0.8521\n",
            "MAE:  0.6518\n"
          ],
          "name": "stdout"
        }
      ]
    }
  ]
}