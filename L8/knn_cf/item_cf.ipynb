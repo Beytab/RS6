{
 "cells": [
  {
   "cell_type": "code",
   "execution_count": null,
   "metadata": {},
   "outputs": [
    {
     "name": "stdout",
     "output_type": "stream",
     "text": [
      "Computing the msd similarity matrix...\n",
      "Done computing similarity matrix.\n",
      "RMSE: 0.8542\n",
      "rmse: 0.854160738078825\n",
      "MAE:  0.6536\n",
      "mae: 0.6535978217586443\n",
      "Computing the msd similarity matrix...\n",
      "Done computing similarity matrix.\n",
      "RMSE: 0.8571\n",
      "rmse: 0.8570800243436837\n",
      "MAE:  0.6550\n",
      "mae: 0.6550028398438823\n",
      "Computing the msd similarity matrix...\n",
      "Done computing similarity matrix.\n"
     ]
    }
   ],
   "source": [
    "from surprise import KNNWithMeans\n",
    "from surprise import KNNBasic\n",
    "from surprise import KNNWithZScore\n",
    "from surprise import KNNBaseline\n",
    "from surprise import Dataset,Reader\n",
    "from surprise.model_selection import KFold\n",
    "from surprise import accuracy\n",
    "\n",
    "#数据读取\n",
    "reader = Reader(line_format='user item rating timestamp',sep=',',skip_lines=1)\n",
    "data = Dataset.load_from_file('ratings.csv',reader=reader)\n",
    "train_set = data.build_full_trainset()\n",
    "\n",
    "algo = KNNWithMeans(k=50,sim_options={'user_based':False,'verbose':'True'})\n",
    "\n",
    "#定义3折交叉验证\n",
    "kf = KFold(n_splits=3)\n",
    "for trainset,testset in kf.split(data):\n",
    "    algo.fit(trainset)\n",
    "    predictions = algo.test(testset)\n",
    "    accuracy.rmse(predictions,verbose=True)\n",
    "    accuracy.mae(predictions,verbose=True)\n",
    "    \n",
    "algo = KNNWithMeans(k=50,sim_options={'user_based':False,'verbose':'True'})\n",
    "#kfold_test(algo,train_set)"
   ]
  },
  {
   "cell_type": "code",
   "execution_count": null,
   "metadata": {},
   "outputs": [],
   "source": []
  }
 ],
 "metadata": {
  "kernelspec": {
   "display_name": "Python 3",
   "language": "python",
   "name": "python3"
  },
  "language_info": {
   "codemirror_mode": {
    "name": "ipython",
    "version": 3
   },
   "file_extension": ".py",
   "mimetype": "text/x-python",
   "name": "python",
   "nbconvert_exporter": "python",
   "pygments_lexer": "ipython3",
   "version": "3.7.3"
  }
 },
 "nbformat": 4,
 "nbformat_minor": 4
}
