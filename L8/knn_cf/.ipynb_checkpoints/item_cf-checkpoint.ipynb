{
 "cells": [
  {
   "cell_type": "code",
   "execution_count": null,
   "metadata": {},
   "outputs": [],
   "source": [
    "from surprise import KNNWithMeans\n",
    "from surprise import KNNBasic\n",
    "from surprise import KNNWithZScore\n",
    "from surprise import KNNBaseline\n",
    "from surprise import Dataset,Reader\n",
    "from surprise.model_selection import KFold\n",
    "from surprise import accuracy\n",
    "\n",
    "#数据读取\n",
    "reader = Reader(line_format='user item rating timestamp',sep=',',skip_linse=1)\n",
    "data = Dataset.load_from_file('rating.csv',reader=reader)\n",
    "train_set = data.build_full_trianset()\n",
    "\n",
    "#定义3折交叉验证\n",
    "def kfold_test(algo,data):\n",
    "    kf = KFold(n_splits=3)\n",
    "    for trainset,testset in kf.split(data):\n",
    "    algo.fit(trainset)\n",
    "    predictons = algo.test(testset)\n",
    "    print('rmse:',accuracy.rmse(predictions,verbose=True)\n",
    "    print('mae:', accuracy.mae(predictions,verbose=True)\n",
    "    \n",
    "algo1 = KNNWithMeans(k=50,sim_options={'user_based':False,'verbose':'True'})\n",
    "kfold_test(algo1,train_set)"
   ]
  },
  {
   "cell_type": "code",
   "execution_count": null,
   "metadata": {},
   "outputs": [],
   "source": []
  }
 ],
 "metadata": {
  "kernelspec": {
   "display_name": "Python 3",
   "language": "python",
   "name": "python3"
  },
  "language_info": {
   "codemirror_mode": {
    "name": "ipython",
    "version": 3
   },
   "file_extension": ".py",
   "mimetype": "text/x-python",
   "name": "python",
   "nbconvert_exporter": "python",
   "pygments_lexer": "ipython3",
   "version": "3.7.3"
  }
 },
 "nbformat": 4,
 "nbformat_minor": 4
}
