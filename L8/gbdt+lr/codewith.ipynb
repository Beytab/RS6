{
 "cells": [
  {
   "cell_type": "markdown",
   "metadata": {},
   "source": [
    "# sklearn.linear_model.LogisticRegression"
   ]
  },
  {
   "cell_type": "markdown",
   "metadata": {},
   "source": [
    "### https://scikit-learn.org/stable/modules/generated/sklearn.linear_model.LogisticRegression.html"
   ]
  },
  {
   "cell_type": "markdown",
   "metadata": {},
   "source": [
    "# sover为逻辑回归损失函数的优化算法"
   ]
  },
  {
   "cell_type": "markdown",
   "metadata": {},
   "source": [
    "### https://zhuanlan.zhihu.com/p/32626442\n",
    "### https://zhuanlan.zhihu.com/p/35182003"
   ]
  },
  {
   "cell_type": "markdown",
   "metadata": {},
   "source": [
    " # sklearn.metrics.roc_curve"
   ]
  },
  {
   "cell_type": "markdown",
   "metadata": {},
   "source": [
    "### https://scikit-learn.org/stable/modules/generated/sklearn.metrics.roc_curve.html#sklearn.metrics.roc_curve"
   ]
  },
  {
   "cell_type": "markdown",
   "metadata": {},
   "source": [
    "# np.set_printoptions(threshold=np.inf)"
   ]
  },
  {
   "cell_type": "markdown",
   "metadata": {},
   "source": [
    "### https://blog.csdn.net/GZHermit/article/details/72716619\n",
    "### https://docs.scipy.org/doc/numpy/reference/generated/numpy.set_printoptions.html"
   ]
  },
  {
   "cell_type": "markdown",
   "metadata": {},
   "source": [
    "# predict_proba"
   ]
  },
  {
   "cell_type": "code",
   "execution_count": 8,
   "metadata": {},
   "outputs": [
    {
     "name": "stdout",
     "output_type": "stream",
     "text": [
      "[3 3 2]\n",
      "[[0.12605725 0.87394275]\n",
      " [0.22954195 0.77045805]\n",
      " [0.92951973 0.07048027]]\n",
      "[0.87394275 0.77045805 0.07048027]\n",
      "[0.12605725 0.22954195 0.92951973]\n"
     ]
    }
   ],
   "source": [
    "from sklearn.linear_model import LogisticRegression\n",
    "import numpy as np\n",
    "\n",
    "x_train = np.array([[1,2,3],\n",
    "                    [1,3,4],\n",
    "                    [2,1,2],\n",
    "                    [4,5,6],\n",
    "                    [3,5,3],\n",
    "                    [1,7,2]])\n",
    " \n",
    "y_train = np.array([3, 3, 3, 2, 2, 2])\n",
    " \n",
    "x_test = np.array([[2,2,2],\n",
    "                   [3,2,6],\n",
    "                   [1,7,4]])\n",
    "clf = LogisticRegression()\n",
    "clf.fit(x_train,y_train)\n",
    "\n",
    "\n",
    "# 返回预测标签\n",
    "print(clf.predict(x_test))\n",
    "\n",
    "# 返回预测标签的概率\n",
    "print(clf.predict_proba(x_test))\n",
    "\n",
    "#返回预测为3的概率\n",
    "print(clf.predict_proba(x_test)[:,1])\n",
    "print(clf.predict_proba(x_test)[:,0])"
   ]
  },
  {
   "cell_type": "code",
   "execution_count": 17,
   "metadata": {},
   "outputs": [
    {
     "name": "stdout",
     "output_type": "stream",
     "text": [
      "[[[1.]\n",
      "  [1.]\n",
      "  [1.]]\n",
      "\n",
      " [[1.]\n",
      "  [1.]\n",
      "  [1.]]]\n",
      "[[1. 1. 1.]\n",
      " [1. 1. 1.]\n",
      " [1. 1. 1.]\n",
      " [2. 2. 2.]\n",
      " [2. 2. 2.]\n",
      " [2. 2. 2.]]\n",
      "  (0, 0)\t1.0\n",
      "  (0, 2)\t1.0\n",
      "  (0, 4)\t1.0\n",
      "  (1, 0)\t1.0\n",
      "  (1, 2)\t1.0\n",
      "  (1, 4)\t1.0\n",
      "  (2, 0)\t1.0\n",
      "  (2, 2)\t1.0\n",
      "  (2, 4)\t1.0\n",
      "  (3, 1)\t1.0\n",
      "  (3, 3)\t1.0\n",
      "  (3, 5)\t1.0\n",
      "  (4, 1)\t1.0\n",
      "  (4, 3)\t1.0\n",
      "  (4, 5)\t1.0\n",
      "  (5, 1)\t1.0\n",
      "  (5, 3)\t1.0\n",
      "  (5, 5)\t1.0\n"
     ]
    }
   ],
   "source": [
    "from sklearn.ensemble import GradientBoostingClassifier\n",
    "from sklearn.preprocessing import OneHotEncoder\n",
    "\n",
    "grd = GradientBoostingClassifier(n_estimators=3)\n",
    "grd.fit(x_train,y_train)\n",
    "\n",
    "print(grd.apply(x_train)[:2])\n",
    "print(grd.apply(x_train)[:,:,0])\n",
    "grd_enc = OneHotEncoder(categories='auto')\n",
    "grd_enc.fit(grd.apply(x_train)[:,:,0])\n",
    "print(grd_enc.transform(grd.apply(x_train)[:,:,0]))"
   ]
  },
  {
   "cell_type": "code",
   "execution_count": null,
   "metadata": {},
   "outputs": [],
   "source": []
  }
 ],
 "metadata": {
  "kernelspec": {
   "display_name": "Python 3",
   "language": "python",
   "name": "python3"
  },
  "language_info": {
   "codemirror_mode": {
    "name": "ipython",
    "version": 3
   },
   "file_extension": ".py",
   "mimetype": "text/x-python",
   "name": "python",
   "nbconvert_exporter": "python",
   "pygments_lexer": "ipython3",
   "version": "3.7.3"
  }
 },
 "nbformat": 4,
 "nbformat_minor": 4
}
