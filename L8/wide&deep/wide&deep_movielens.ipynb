{
 "cells": [
  {
   "cell_type": "code",
   "execution_count": 2,
   "metadata": {},
   "outputs": [
    {
     "name": "stdout",
     "output_type": "stream",
     "text": [
      "   user_id  movie_id  rating  timestamp  \\\n",
      "0     3299       235       4  968035345   \n",
      "1     3630      3256       3  966536874   \n",
      "2      517       105       4  976203603   \n",
      "3      785      2115       3  975430389   \n",
      "4     5848       909       5  957782527   \n",
      "\n",
      "                                         title            genres gender  age  \\\n",
      "0                               Ed Wood (1994)      Comedy|Drama      F   25   \n",
      "1                         Patriot Games (1992)   Action|Thriller      M   18   \n",
      "2        Bridges of Madison County, The (1995)     Drama|Romance      F   25   \n",
      "3  Indiana Jones and the Temple of Doom (1984)  Action|Adventure      M   18   \n",
      "4                        Apartment, The (1960)      Comedy|Drama      M   50   \n",
      "\n",
      "   occupation    zip  \n",
      "0           4  19119  \n",
      "1           4  77005  \n",
      "2          14  55408  \n",
      "3          19  29307  \n",
      "4          20  20009  \n"
     ]
    }
   ],
   "source": [
    "import pandas as pd\n",
    "from sklearn.metrics import mean_squared_error  \n",
    "from sklearn.model_selection import train_test_split\n",
    "from sklearn.preprocessing import LabelEncoder\n",
    "\n",
    "from deepctr.models import WDL #wide&deep\n",
    "from deepctr.inputs import SparseFeat,get_feature_names\n",
    "\n",
    "data = pd.read_csv('movielens_sample.txt')\n",
    "print(data.head())\n",
    "sparse_features = [\"movie_id\",\"user_id\",\"gender\",\"age\",\"occupation\",\"zip\"]\n",
    "target = [\"rating\"]"
   ]
  },
  {
   "cell_type": "code",
   "execution_count": 6,
   "metadata": {},
   "outputs": [
    {
     "name": "stdout",
     "output_type": "stream",
     "text": [
      "WARNING:tensorflow:Entity <bound method NoMask.call of <deepctr.layers.utils.NoMask object at 0x000001D05D464588>> could not be transformed and will be executed as-is. Please report this to the AutgoGraph team. When filing the bug, set the verbosity to 10 (on Linux, `export AUTOGRAPH_VERBOSITY=10`) and attach the full output. Cause: converting <bound method NoMask.call of <deepctr.layers.utils.NoMask object at 0x000001D05D464588>>: ValueError: Unable to locate the source code of <bound method NoMask.call of <deepctr.layers.utils.NoMask object at 0x000001D05D464588>>. Note that functions defined in certain environments, like the interactive Python shell do not expose their source code. If that is the case, you should to define them in a .py source file. If you are certain the code is graph-compatible, wrap the call using @tf.autograph.do_not_convert. Original error: [WinError 123] 文件名、目录名或卷标语法不正确。: 'G:\\\\spark\\\\spark-3.0.0-preview2-bin-hadoop2.7\\\\python\\\\lib\\\\py4j-<version>-src.zip:%PYTHONPATH%'\n"
     ]
    },
    {
     "name": "stderr",
     "output_type": "stream",
     "text": [
      "WARNING:tensorflow:Entity <bound method NoMask.call of <deepctr.layers.utils.NoMask object at 0x000001D05D464588>> could not be transformed and will be executed as-is. Please report this to the AutgoGraph team. When filing the bug, set the verbosity to 10 (on Linux, `export AUTOGRAPH_VERBOSITY=10`) and attach the full output. Cause: converting <bound method NoMask.call of <deepctr.layers.utils.NoMask object at 0x000001D05D464588>>: ValueError: Unable to locate the source code of <bound method NoMask.call of <deepctr.layers.utils.NoMask object at 0x000001D05D464588>>. Note that functions defined in certain environments, like the interactive Python shell do not expose their source code. If that is the case, you should to define them in a .py source file. If you are certain the code is graph-compatible, wrap the call using @tf.autograph.do_not_convert. Original error: [WinError 123] 文件名、目录名或卷标语法不正确。: 'G:\\\\spark\\\\spark-3.0.0-preview2-bin-hadoop2.7\\\\python\\\\lib\\\\py4j-<version>-src.zip:%PYTHONPATH%'\n"
     ]
    },
    {
     "name": "stdout",
     "output_type": "stream",
     "text": [
      "WARNING: Entity <bound method NoMask.call of <deepctr.layers.utils.NoMask object at 0x000001D05D464588>> could not be transformed and will be executed as-is. Please report this to the AutgoGraph team. When filing the bug, set the verbosity to 10 (on Linux, `export AUTOGRAPH_VERBOSITY=10`) and attach the full output. Cause: converting <bound method NoMask.call of <deepctr.layers.utils.NoMask object at 0x000001D05D464588>>: ValueError: Unable to locate the source code of <bound method NoMask.call of <deepctr.layers.utils.NoMask object at 0x000001D05D464588>>. Note that functions defined in certain environments, like the interactive Python shell do not expose their source code. If that is the case, you should to define them in a .py source file. If you are certain the code is graph-compatible, wrap the call using @tf.autograph.do_not_convert. Original error: [WinError 123] 文件名、目录名或卷标语法不正确。: 'G:\\\\spark\\\\spark-3.0.0-preview2-bin-hadoop2.7\\\\python\\\\lib\\\\py4j-<version>-src.zip:%PYTHONPATH%'\n",
      "WARNING:tensorflow:Entity <bound method NoMask.call of <deepctr.layers.utils.NoMask object at 0x000001D05D464588>> could not be transformed and will be executed as-is. Please report this to the AutgoGraph team. When filing the bug, set the verbosity to 10 (on Linux, `export AUTOGRAPH_VERBOSITY=10`) and attach the full output. Cause: converting <bound method NoMask.call of <deepctr.layers.utils.NoMask object at 0x000001D05D464588>>: ValueError: Unable to locate the source code of <bound method NoMask.call of <deepctr.layers.utils.NoMask object at 0x000001D05D464588>>. Note that functions defined in certain environments, like the interactive Python shell do not expose their source code. If that is the case, you should to define them in a .py source file. If you are certain the code is graph-compatible, wrap the call using @tf.autograph.do_not_convert. Original error: [WinError 123] 文件名、目录名或卷标语法不正确。: 'G:\\\\spark\\\\spark-3.0.0-preview2-bin-hadoop2.7\\\\python\\\\lib\\\\py4j-<version>-src.zip:%PYTHONPATH%'\n"
     ]
    },
    {
     "name": "stderr",
     "output_type": "stream",
     "text": [
      "WARNING:tensorflow:Entity <bound method NoMask.call of <deepctr.layers.utils.NoMask object at 0x000001D05D464588>> could not be transformed and will be executed as-is. Please report this to the AutgoGraph team. When filing the bug, set the verbosity to 10 (on Linux, `export AUTOGRAPH_VERBOSITY=10`) and attach the full output. Cause: converting <bound method NoMask.call of <deepctr.layers.utils.NoMask object at 0x000001D05D464588>>: ValueError: Unable to locate the source code of <bound method NoMask.call of <deepctr.layers.utils.NoMask object at 0x000001D05D464588>>. Note that functions defined in certain environments, like the interactive Python shell do not expose their source code. If that is the case, you should to define them in a .py source file. If you are certain the code is graph-compatible, wrap the call using @tf.autograph.do_not_convert. Original error: [WinError 123] 文件名、目录名或卷标语法不正确。: 'G:\\\\spark\\\\spark-3.0.0-preview2-bin-hadoop2.7\\\\python\\\\lib\\\\py4j-<version>-src.zip:%PYTHONPATH%'\n"
     ]
    },
    {
     "name": "stdout",
     "output_type": "stream",
     "text": [
      "WARNING: Entity <bound method NoMask.call of <deepctr.layers.utils.NoMask object at 0x000001D05D464588>> could not be transformed and will be executed as-is. Please report this to the AutgoGraph team. When filing the bug, set the verbosity to 10 (on Linux, `export AUTOGRAPH_VERBOSITY=10`) and attach the full output. Cause: converting <bound method NoMask.call of <deepctr.layers.utils.NoMask object at 0x000001D05D464588>>: ValueError: Unable to locate the source code of <bound method NoMask.call of <deepctr.layers.utils.NoMask object at 0x000001D05D464588>>. Note that functions defined in certain environments, like the interactive Python shell do not expose their source code. If that is the case, you should to define them in a .py source file. If you are certain the code is graph-compatible, wrap the call using @tf.autograph.do_not_convert. Original error: [WinError 123] 文件名、目录名或卷标语法不正确。: 'G:\\\\spark\\\\spark-3.0.0-preview2-bin-hadoop2.7\\\\python\\\\lib\\\\py4j-<version>-src.zip:%PYTHONPATH%'\n",
      "WARNING:tensorflow:Entity <bound method NoMask.call of <deepctr.layers.utils.NoMask object at 0x000001D05D464588>> could not be transformed and will be executed as-is. Please report this to the AutgoGraph team. When filing the bug, set the verbosity to 10 (on Linux, `export AUTOGRAPH_VERBOSITY=10`) and attach the full output. Cause: converting <bound method NoMask.call of <deepctr.layers.utils.NoMask object at 0x000001D05D464588>>: ValueError: Unable to locate the source code of <bound method NoMask.call of <deepctr.layers.utils.NoMask object at 0x000001D05D464588>>. Note that functions defined in certain environments, like the interactive Python shell do not expose their source code. If that is the case, you should to define them in a .py source file. If you are certain the code is graph-compatible, wrap the call using @tf.autograph.do_not_convert. Original error: [WinError 123] 文件名、目录名或卷标语法不正确。: 'G:\\\\spark\\\\spark-3.0.0-preview2-bin-hadoop2.7\\\\python\\\\lib\\\\py4j-<version>-src.zip:%PYTHONPATH%'\n"
     ]
    },
    {
     "name": "stderr",
     "output_type": "stream",
     "text": [
      "WARNING:tensorflow:Entity <bound method NoMask.call of <deepctr.layers.utils.NoMask object at 0x000001D05D464588>> could not be transformed and will be executed as-is. Please report this to the AutgoGraph team. When filing the bug, set the verbosity to 10 (on Linux, `export AUTOGRAPH_VERBOSITY=10`) and attach the full output. Cause: converting <bound method NoMask.call of <deepctr.layers.utils.NoMask object at 0x000001D05D464588>>: ValueError: Unable to locate the source code of <bound method NoMask.call of <deepctr.layers.utils.NoMask object at 0x000001D05D464588>>. Note that functions defined in certain environments, like the interactive Python shell do not expose their source code. If that is the case, you should to define them in a .py source file. If you are certain the code is graph-compatible, wrap the call using @tf.autograph.do_not_convert. Original error: [WinError 123] 文件名、目录名或卷标语法不正确。: 'G:\\\\spark\\\\spark-3.0.0-preview2-bin-hadoop2.7\\\\python\\\\lib\\\\py4j-<version>-src.zip:%PYTHONPATH%'\n"
     ]
    },
    {
     "name": "stdout",
     "output_type": "stream",
     "text": [
      "WARNING: Entity <bound method NoMask.call of <deepctr.layers.utils.NoMask object at 0x000001D05D464588>> could not be transformed and will be executed as-is. Please report this to the AutgoGraph team. When filing the bug, set the verbosity to 10 (on Linux, `export AUTOGRAPH_VERBOSITY=10`) and attach the full output. Cause: converting <bound method NoMask.call of <deepctr.layers.utils.NoMask object at 0x000001D05D464588>>: ValueError: Unable to locate the source code of <bound method NoMask.call of <deepctr.layers.utils.NoMask object at 0x000001D05D464588>>. Note that functions defined in certain environments, like the interactive Python shell do not expose their source code. If that is the case, you should to define them in a .py source file. If you are certain the code is graph-compatible, wrap the call using @tf.autograph.do_not_convert. Original error: [WinError 123] 文件名、目录名或卷标语法不正确。: 'G:\\\\spark\\\\spark-3.0.0-preview2-bin-hadoop2.7\\\\python\\\\lib\\\\py4j-<version>-src.zip:%PYTHONPATH%'\n",
      "WARNING:tensorflow:Entity <bound method NoMask.call of <deepctr.layers.utils.NoMask object at 0x000001D05D464588>> could not be transformed and will be executed as-is. Please report this to the AutgoGraph team. When filing the bug, set the verbosity to 10 (on Linux, `export AUTOGRAPH_VERBOSITY=10`) and attach the full output. Cause: converting <bound method NoMask.call of <deepctr.layers.utils.NoMask object at 0x000001D05D464588>>: ValueError: Unable to locate the source code of <bound method NoMask.call of <deepctr.layers.utils.NoMask object at 0x000001D05D464588>>. Note that functions defined in certain environments, like the interactive Python shell do not expose their source code. If that is the case, you should to define them in a .py source file. If you are certain the code is graph-compatible, wrap the call using @tf.autograph.do_not_convert. Original error: [WinError 123] 文件名、目录名或卷标语法不正确。: 'G:\\\\spark\\\\spark-3.0.0-preview2-bin-hadoop2.7\\\\python\\\\lib\\\\py4j-<version>-src.zip:%PYTHONPATH%'\n"
     ]
    },
    {
     "name": "stderr",
     "output_type": "stream",
     "text": [
      "WARNING:tensorflow:Entity <bound method NoMask.call of <deepctr.layers.utils.NoMask object at 0x000001D05D464588>> could not be transformed and will be executed as-is. Please report this to the AutgoGraph team. When filing the bug, set the verbosity to 10 (on Linux, `export AUTOGRAPH_VERBOSITY=10`) and attach the full output. Cause: converting <bound method NoMask.call of <deepctr.layers.utils.NoMask object at 0x000001D05D464588>>: ValueError: Unable to locate the source code of <bound method NoMask.call of <deepctr.layers.utils.NoMask object at 0x000001D05D464588>>. Note that functions defined in certain environments, like the interactive Python shell do not expose their source code. If that is the case, you should to define them in a .py source file. If you are certain the code is graph-compatible, wrap the call using @tf.autograph.do_not_convert. Original error: [WinError 123] 文件名、目录名或卷标语法不正确。: 'G:\\\\spark\\\\spark-3.0.0-preview2-bin-hadoop2.7\\\\python\\\\lib\\\\py4j-<version>-src.zip:%PYTHONPATH%'\n"
     ]
    },
    {
     "name": "stdout",
     "output_type": "stream",
     "text": [
      "WARNING: Entity <bound method NoMask.call of <deepctr.layers.utils.NoMask object at 0x000001D05D464588>> could not be transformed and will be executed as-is. Please report this to the AutgoGraph team. When filing the bug, set the verbosity to 10 (on Linux, `export AUTOGRAPH_VERBOSITY=10`) and attach the full output. Cause: converting <bound method NoMask.call of <deepctr.layers.utils.NoMask object at 0x000001D05D464588>>: ValueError: Unable to locate the source code of <bound method NoMask.call of <deepctr.layers.utils.NoMask object at 0x000001D05D464588>>. Note that functions defined in certain environments, like the interactive Python shell do not expose their source code. If that is the case, you should to define them in a .py source file. If you are certain the code is graph-compatible, wrap the call using @tf.autograph.do_not_convert. Original error: [WinError 123] 文件名、目录名或卷标语法不正确。: 'G:\\\\spark\\\\spark-3.0.0-preview2-bin-hadoop2.7\\\\python\\\\lib\\\\py4j-<version>-src.zip:%PYTHONPATH%'\n",
      "WARNING:tensorflow:Entity <bound method NoMask.call of <deepctr.layers.utils.NoMask object at 0x000001D05D464588>> could not be transformed and will be executed as-is. Please report this to the AutgoGraph team. When filing the bug, set the verbosity to 10 (on Linux, `export AUTOGRAPH_VERBOSITY=10`) and attach the full output. Cause: converting <bound method NoMask.call of <deepctr.layers.utils.NoMask object at 0x000001D05D464588>>: ValueError: Unable to locate the source code of <bound method NoMask.call of <deepctr.layers.utils.NoMask object at 0x000001D05D464588>>. Note that functions defined in certain environments, like the interactive Python shell do not expose their source code. If that is the case, you should to define them in a .py source file. If you are certain the code is graph-compatible, wrap the call using @tf.autograph.do_not_convert. Original error: [WinError 123] 文件名、目录名或卷标语法不正确。: 'G:\\\\spark\\\\spark-3.0.0-preview2-bin-hadoop2.7\\\\python\\\\lib\\\\py4j-<version>-src.zip:%PYTHONPATH%'\n"
     ]
    },
    {
     "name": "stderr",
     "output_type": "stream",
     "text": [
      "WARNING:tensorflow:Entity <bound method NoMask.call of <deepctr.layers.utils.NoMask object at 0x000001D05D464588>> could not be transformed and will be executed as-is. Please report this to the AutgoGraph team. When filing the bug, set the verbosity to 10 (on Linux, `export AUTOGRAPH_VERBOSITY=10`) and attach the full output. Cause: converting <bound method NoMask.call of <deepctr.layers.utils.NoMask object at 0x000001D05D464588>>: ValueError: Unable to locate the source code of <bound method NoMask.call of <deepctr.layers.utils.NoMask object at 0x000001D05D464588>>. Note that functions defined in certain environments, like the interactive Python shell do not expose their source code. If that is the case, you should to define them in a .py source file. If you are certain the code is graph-compatible, wrap the call using @tf.autograph.do_not_convert. Original error: [WinError 123] 文件名、目录名或卷标语法不正确。: 'G:\\\\spark\\\\spark-3.0.0-preview2-bin-hadoop2.7\\\\python\\\\lib\\\\py4j-<version>-src.zip:%PYTHONPATH%'\n"
     ]
    },
    {
     "name": "stdout",
     "output_type": "stream",
     "text": [
      "WARNING: Entity <bound method NoMask.call of <deepctr.layers.utils.NoMask object at 0x000001D05D464588>> could not be transformed and will be executed as-is. Please report this to the AutgoGraph team. When filing the bug, set the verbosity to 10 (on Linux, `export AUTOGRAPH_VERBOSITY=10`) and attach the full output. Cause: converting <bound method NoMask.call of <deepctr.layers.utils.NoMask object at 0x000001D05D464588>>: ValueError: Unable to locate the source code of <bound method NoMask.call of <deepctr.layers.utils.NoMask object at 0x000001D05D464588>>. Note that functions defined in certain environments, like the interactive Python shell do not expose their source code. If that is the case, you should to define them in a .py source file. If you are certain the code is graph-compatible, wrap the call using @tf.autograph.do_not_convert. Original error: [WinError 123] 文件名、目录名或卷标语法不正确。: 'G:\\\\spark\\\\spark-3.0.0-preview2-bin-hadoop2.7\\\\python\\\\lib\\\\py4j-<version>-src.zip:%PYTHONPATH%'\n",
      "WARNING:tensorflow:Entity <bound method NoMask.call of <deepctr.layers.utils.NoMask object at 0x000001D05D464588>> could not be transformed and will be executed as-is. Please report this to the AutgoGraph team. When filing the bug, set the verbosity to 10 (on Linux, `export AUTOGRAPH_VERBOSITY=10`) and attach the full output. Cause: converting <bound method NoMask.call of <deepctr.layers.utils.NoMask object at 0x000001D05D464588>>: ValueError: Unable to locate the source code of <bound method NoMask.call of <deepctr.layers.utils.NoMask object at 0x000001D05D464588>>. Note that functions defined in certain environments, like the interactive Python shell do not expose their source code. If that is the case, you should to define them in a .py source file. If you are certain the code is graph-compatible, wrap the call using @tf.autograph.do_not_convert. Original error: [WinError 123] 文件名、目录名或卷标语法不正确。: 'G:\\\\spark\\\\spark-3.0.0-preview2-bin-hadoop2.7\\\\python\\\\lib\\\\py4j-<version>-src.zip:%PYTHONPATH%'\n"
     ]
    },
    {
     "name": "stderr",
     "output_type": "stream",
     "text": [
      "WARNING:tensorflow:Entity <bound method NoMask.call of <deepctr.layers.utils.NoMask object at 0x000001D05D464588>> could not be transformed and will be executed as-is. Please report this to the AutgoGraph team. When filing the bug, set the verbosity to 10 (on Linux, `export AUTOGRAPH_VERBOSITY=10`) and attach the full output. Cause: converting <bound method NoMask.call of <deepctr.layers.utils.NoMask object at 0x000001D05D464588>>: ValueError: Unable to locate the source code of <bound method NoMask.call of <deepctr.layers.utils.NoMask object at 0x000001D05D464588>>. Note that functions defined in certain environments, like the interactive Python shell do not expose their source code. If that is the case, you should to define them in a .py source file. If you are certain the code is graph-compatible, wrap the call using @tf.autograph.do_not_convert. Original error: [WinError 123] 文件名、目录名或卷标语法不正确。: 'G:\\\\spark\\\\spark-3.0.0-preview2-bin-hadoop2.7\\\\python\\\\lib\\\\py4j-<version>-src.zip:%PYTHONPATH%'\n"
     ]
    },
    {
     "name": "stdout",
     "output_type": "stream",
     "text": [
      "WARNING: Entity <bound method NoMask.call of <deepctr.layers.utils.NoMask object at 0x000001D05D464588>> could not be transformed and will be executed as-is. Please report this to the AutgoGraph team. When filing the bug, set the verbosity to 10 (on Linux, `export AUTOGRAPH_VERBOSITY=10`) and attach the full output. Cause: converting <bound method NoMask.call of <deepctr.layers.utils.NoMask object at 0x000001D05D464588>>: ValueError: Unable to locate the source code of <bound method NoMask.call of <deepctr.layers.utils.NoMask object at 0x000001D05D464588>>. Note that functions defined in certain environments, like the interactive Python shell do not expose their source code. If that is the case, you should to define them in a .py source file. If you are certain the code is graph-compatible, wrap the call using @tf.autograph.do_not_convert. Original error: [WinError 123] 文件名、目录名或卷标语法不正确。: 'G:\\\\spark\\\\spark-3.0.0-preview2-bin-hadoop2.7\\\\python\\\\lib\\\\py4j-<version>-src.zip:%PYTHONPATH%'\n",
      "WARNING:tensorflow:Entity <bound method Linear.call of <deepctr.layers.utils.Linear object at 0x000001D05D5DEFD0>> could not be transformed and will be executed as-is. Please report this to the AutgoGraph team. When filing the bug, set the verbosity to 10 (on Linux, `export AUTOGRAPH_VERBOSITY=10`) and attach the full output. Cause: converting <bound method Linear.call of <deepctr.layers.utils.Linear object at 0x000001D05D5DEFD0>>: ValueError: Unable to locate the source code of <bound method Linear.call of <deepctr.layers.utils.Linear object at 0x000001D05D5DEFD0>>. Note that functions defined in certain environments, like the interactive Python shell do not expose their source code. If that is the case, you should to define them in a .py source file. If you are certain the code is graph-compatible, wrap the call using @tf.autograph.do_not_convert. Original error: [WinError 123] 文件名、目录名或卷标语法不正确。: 'G:\\\\spark\\\\spark-3.0.0-preview2-bin-hadoop2.7\\\\python\\\\lib\\\\py4j-<version>-src.zip:%PYTHONPATH%'\n"
     ]
    },
    {
     "name": "stderr",
     "output_type": "stream",
     "text": [
      "WARNING:tensorflow:Entity <bound method Linear.call of <deepctr.layers.utils.Linear object at 0x000001D05D5DEFD0>> could not be transformed and will be executed as-is. Please report this to the AutgoGraph team. When filing the bug, set the verbosity to 10 (on Linux, `export AUTOGRAPH_VERBOSITY=10`) and attach the full output. Cause: converting <bound method Linear.call of <deepctr.layers.utils.Linear object at 0x000001D05D5DEFD0>>: ValueError: Unable to locate the source code of <bound method Linear.call of <deepctr.layers.utils.Linear object at 0x000001D05D5DEFD0>>. Note that functions defined in certain environments, like the interactive Python shell do not expose their source code. If that is the case, you should to define them in a .py source file. If you are certain the code is graph-compatible, wrap the call using @tf.autograph.do_not_convert. Original error: [WinError 123] 文件名、目录名或卷标语法不正确。: 'G:\\\\spark\\\\spark-3.0.0-preview2-bin-hadoop2.7\\\\python\\\\lib\\\\py4j-<version>-src.zip:%PYTHONPATH%'\n"
     ]
    },
    {
     "name": "stdout",
     "output_type": "stream",
     "text": [
      "WARNING: Entity <bound method Linear.call of <deepctr.layers.utils.Linear object at 0x000001D05D5DEFD0>> could not be transformed and will be executed as-is. Please report this to the AutgoGraph team. When filing the bug, set the verbosity to 10 (on Linux, `export AUTOGRAPH_VERBOSITY=10`) and attach the full output. Cause: converting <bound method Linear.call of <deepctr.layers.utils.Linear object at 0x000001D05D5DEFD0>>: ValueError: Unable to locate the source code of <bound method Linear.call of <deepctr.layers.utils.Linear object at 0x000001D05D5DEFD0>>. Note that functions defined in certain environments, like the interactive Python shell do not expose their source code. If that is the case, you should to define them in a .py source file. If you are certain the code is graph-compatible, wrap the call using @tf.autograph.do_not_convert. Original error: [WinError 123] 文件名、目录名或卷标语法不正确。: 'G:\\\\spark\\\\spark-3.0.0-preview2-bin-hadoop2.7\\\\python\\\\lib\\\\py4j-<version>-src.zip:%PYTHONPATH%'\n",
      "WARNING:tensorflow:Entity <bound method NoMask.call of <deepctr.layers.utils.NoMask object at 0x000001D05D704278>> could not be transformed and will be executed as-is. Please report this to the AutgoGraph team. When filing the bug, set the verbosity to 10 (on Linux, `export AUTOGRAPH_VERBOSITY=10`) and attach the full output. Cause: converting <bound method NoMask.call of <deepctr.layers.utils.NoMask object at 0x000001D05D704278>>: ValueError: Unable to locate the source code of <bound method NoMask.call of <deepctr.layers.utils.NoMask object at 0x000001D05D704278>>. Note that functions defined in certain environments, like the interactive Python shell do not expose their source code. If that is the case, you should to define them in a .py source file. If you are certain the code is graph-compatible, wrap the call using @tf.autograph.do_not_convert. Original error: [WinError 123] 文件名、目录名或卷标语法不正确。: 'G:\\\\spark\\\\spark-3.0.0-preview2-bin-hadoop2.7\\\\python\\\\lib\\\\py4j-<version>-src.zip:%PYTHONPATH%'\n"
     ]
    },
    {
     "name": "stderr",
     "output_type": "stream",
     "text": [
      "WARNING:tensorflow:Entity <bound method NoMask.call of <deepctr.layers.utils.NoMask object at 0x000001D05D704278>> could not be transformed and will be executed as-is. Please report this to the AutgoGraph team. When filing the bug, set the verbosity to 10 (on Linux, `export AUTOGRAPH_VERBOSITY=10`) and attach the full output. Cause: converting <bound method NoMask.call of <deepctr.layers.utils.NoMask object at 0x000001D05D704278>>: ValueError: Unable to locate the source code of <bound method NoMask.call of <deepctr.layers.utils.NoMask object at 0x000001D05D704278>>. Note that functions defined in certain environments, like the interactive Python shell do not expose their source code. If that is the case, you should to define them in a .py source file. If you are certain the code is graph-compatible, wrap the call using @tf.autograph.do_not_convert. Original error: [WinError 123] 文件名、目录名或卷标语法不正确。: 'G:\\\\spark\\\\spark-3.0.0-preview2-bin-hadoop2.7\\\\python\\\\lib\\\\py4j-<version>-src.zip:%PYTHONPATH%'\n"
     ]
    },
    {
     "name": "stdout",
     "output_type": "stream",
     "text": [
      "WARNING: Entity <bound method NoMask.call of <deepctr.layers.utils.NoMask object at 0x000001D05D704278>> could not be transformed and will be executed as-is. Please report this to the AutgoGraph team. When filing the bug, set the verbosity to 10 (on Linux, `export AUTOGRAPH_VERBOSITY=10`) and attach the full output. Cause: converting <bound method NoMask.call of <deepctr.layers.utils.NoMask object at 0x000001D05D704278>>: ValueError: Unable to locate the source code of <bound method NoMask.call of <deepctr.layers.utils.NoMask object at 0x000001D05D704278>>. Note that functions defined in certain environments, like the interactive Python shell do not expose their source code. If that is the case, you should to define them in a .py source file. If you are certain the code is graph-compatible, wrap the call using @tf.autograph.do_not_convert. Original error: [WinError 123] 文件名、目录名或卷标语法不正确。: 'G:\\\\spark\\\\spark-3.0.0-preview2-bin-hadoop2.7\\\\python\\\\lib\\\\py4j-<version>-src.zip:%PYTHONPATH%'\n",
      "WARNING:tensorflow:Entity <bound method NoMask.call of <deepctr.layers.utils.NoMask object at 0x000001D05D6A8048>> could not be transformed and will be executed as-is. Please report this to the AutgoGraph team. When filing the bug, set the verbosity to 10 (on Linux, `export AUTOGRAPH_VERBOSITY=10`) and attach the full output. Cause: converting <bound method NoMask.call of <deepctr.layers.utils.NoMask object at 0x000001D05D6A8048>>: ValueError: Unable to locate the source code of <bound method NoMask.call of <deepctr.layers.utils.NoMask object at 0x000001D05D6A8048>>. Note that functions defined in certain environments, like the interactive Python shell do not expose their source code. If that is the case, you should to define them in a .py source file. If you are certain the code is graph-compatible, wrap the call using @tf.autograph.do_not_convert. Original error: [WinError 123] 文件名、目录名或卷标语法不正确。: 'G:\\\\spark\\\\spark-3.0.0-preview2-bin-hadoop2.7\\\\python\\\\lib\\\\py4j-<version>-src.zip:%PYTHONPATH%'\n"
     ]
    },
    {
     "name": "stderr",
     "output_type": "stream",
     "text": [
      "WARNING:tensorflow:Entity <bound method NoMask.call of <deepctr.layers.utils.NoMask object at 0x000001D05D6A8048>> could not be transformed and will be executed as-is. Please report this to the AutgoGraph team. When filing the bug, set the verbosity to 10 (on Linux, `export AUTOGRAPH_VERBOSITY=10`) and attach the full output. Cause: converting <bound method NoMask.call of <deepctr.layers.utils.NoMask object at 0x000001D05D6A8048>>: ValueError: Unable to locate the source code of <bound method NoMask.call of <deepctr.layers.utils.NoMask object at 0x000001D05D6A8048>>. Note that functions defined in certain environments, like the interactive Python shell do not expose their source code. If that is the case, you should to define them in a .py source file. If you are certain the code is graph-compatible, wrap the call using @tf.autograph.do_not_convert. Original error: [WinError 123] 文件名、目录名或卷标语法不正确。: 'G:\\\\spark\\\\spark-3.0.0-preview2-bin-hadoop2.7\\\\python\\\\lib\\\\py4j-<version>-src.zip:%PYTHONPATH%'\n"
     ]
    },
    {
     "name": "stdout",
     "output_type": "stream",
     "text": [
      "WARNING: Entity <bound method NoMask.call of <deepctr.layers.utils.NoMask object at 0x000001D05D6A8048>> could not be transformed and will be executed as-is. Please report this to the AutgoGraph team. When filing the bug, set the verbosity to 10 (on Linux, `export AUTOGRAPH_VERBOSITY=10`) and attach the full output. Cause: converting <bound method NoMask.call of <deepctr.layers.utils.NoMask object at 0x000001D05D6A8048>>: ValueError: Unable to locate the source code of <bound method NoMask.call of <deepctr.layers.utils.NoMask object at 0x000001D05D6A8048>>. Note that functions defined in certain environments, like the interactive Python shell do not expose their source code. If that is the case, you should to define them in a .py source file. If you are certain the code is graph-compatible, wrap the call using @tf.autograph.do_not_convert. Original error: [WinError 123] 文件名、目录名或卷标语法不正确。: 'G:\\\\spark\\\\spark-3.0.0-preview2-bin-hadoop2.7\\\\python\\\\lib\\\\py4j-<version>-src.zip:%PYTHONPATH%'\n",
      "WARNING:tensorflow:Entity <bound method NoMask.call of <deepctr.layers.utils.NoMask object at 0x000001D05D6A8048>> could not be transformed and will be executed as-is. Please report this to the AutgoGraph team. When filing the bug, set the verbosity to 10 (on Linux, `export AUTOGRAPH_VERBOSITY=10`) and attach the full output. Cause: converting <bound method NoMask.call of <deepctr.layers.utils.NoMask object at 0x000001D05D6A8048>>: ValueError: Unable to locate the source code of <bound method NoMask.call of <deepctr.layers.utils.NoMask object at 0x000001D05D6A8048>>. Note that functions defined in certain environments, like the interactive Python shell do not expose their source code. If that is the case, you should to define them in a .py source file. If you are certain the code is graph-compatible, wrap the call using @tf.autograph.do_not_convert. Original error: [WinError 123] 文件名、目录名或卷标语法不正确。: 'G:\\\\spark\\\\spark-3.0.0-preview2-bin-hadoop2.7\\\\python\\\\lib\\\\py4j-<version>-src.zip:%PYTHONPATH%'\n"
     ]
    },
    {
     "name": "stderr",
     "output_type": "stream",
     "text": [
      "WARNING:tensorflow:Entity <bound method NoMask.call of <deepctr.layers.utils.NoMask object at 0x000001D05D6A8048>> could not be transformed and will be executed as-is. Please report this to the AutgoGraph team. When filing the bug, set the verbosity to 10 (on Linux, `export AUTOGRAPH_VERBOSITY=10`) and attach the full output. Cause: converting <bound method NoMask.call of <deepctr.layers.utils.NoMask object at 0x000001D05D6A8048>>: ValueError: Unable to locate the source code of <bound method NoMask.call of <deepctr.layers.utils.NoMask object at 0x000001D05D6A8048>>. Note that functions defined in certain environments, like the interactive Python shell do not expose their source code. If that is the case, you should to define them in a .py source file. If you are certain the code is graph-compatible, wrap the call using @tf.autograph.do_not_convert. Original error: [WinError 123] 文件名、目录名或卷标语法不正确。: 'G:\\\\spark\\\\spark-3.0.0-preview2-bin-hadoop2.7\\\\python\\\\lib\\\\py4j-<version>-src.zip:%PYTHONPATH%'\n"
     ]
    },
    {
     "name": "stdout",
     "output_type": "stream",
     "text": [
      "WARNING: Entity <bound method NoMask.call of <deepctr.layers.utils.NoMask object at 0x000001D05D6A8048>> could not be transformed and will be executed as-is. Please report this to the AutgoGraph team. When filing the bug, set the verbosity to 10 (on Linux, `export AUTOGRAPH_VERBOSITY=10`) and attach the full output. Cause: converting <bound method NoMask.call of <deepctr.layers.utils.NoMask object at 0x000001D05D6A8048>>: ValueError: Unable to locate the source code of <bound method NoMask.call of <deepctr.layers.utils.NoMask object at 0x000001D05D6A8048>>. Note that functions defined in certain environments, like the interactive Python shell do not expose their source code. If that is the case, you should to define them in a .py source file. If you are certain the code is graph-compatible, wrap the call using @tf.autograph.do_not_convert. Original error: [WinError 123] 文件名、目录名或卷标语法不正确。: 'G:\\\\spark\\\\spark-3.0.0-preview2-bin-hadoop2.7\\\\python\\\\lib\\\\py4j-<version>-src.zip:%PYTHONPATH%'\n",
      "WARNING:tensorflow:Entity <bound method NoMask.call of <deepctr.layers.utils.NoMask object at 0x000001D05D6A8048>> could not be transformed and will be executed as-is. Please report this to the AutgoGraph team. When filing the bug, set the verbosity to 10 (on Linux, `export AUTOGRAPH_VERBOSITY=10`) and attach the full output. Cause: converting <bound method NoMask.call of <deepctr.layers.utils.NoMask object at 0x000001D05D6A8048>>: ValueError: Unable to locate the source code of <bound method NoMask.call of <deepctr.layers.utils.NoMask object at 0x000001D05D6A8048>>. Note that functions defined in certain environments, like the interactive Python shell do not expose their source code. If that is the case, you should to define them in a .py source file. If you are certain the code is graph-compatible, wrap the call using @tf.autograph.do_not_convert. Original error: [WinError 123] 文件名、目录名或卷标语法不正确。: 'G:\\\\spark\\\\spark-3.0.0-preview2-bin-hadoop2.7\\\\python\\\\lib\\\\py4j-<version>-src.zip:%PYTHONPATH%'\n"
     ]
    },
    {
     "name": "stderr",
     "output_type": "stream",
     "text": [
      "WARNING:tensorflow:Entity <bound method NoMask.call of <deepctr.layers.utils.NoMask object at 0x000001D05D6A8048>> could not be transformed and will be executed as-is. Please report this to the AutgoGraph team. When filing the bug, set the verbosity to 10 (on Linux, `export AUTOGRAPH_VERBOSITY=10`) and attach the full output. Cause: converting <bound method NoMask.call of <deepctr.layers.utils.NoMask object at 0x000001D05D6A8048>>: ValueError: Unable to locate the source code of <bound method NoMask.call of <deepctr.layers.utils.NoMask object at 0x000001D05D6A8048>>. Note that functions defined in certain environments, like the interactive Python shell do not expose their source code. If that is the case, you should to define them in a .py source file. If you are certain the code is graph-compatible, wrap the call using @tf.autograph.do_not_convert. Original error: [WinError 123] 文件名、目录名或卷标语法不正确。: 'G:\\\\spark\\\\spark-3.0.0-preview2-bin-hadoop2.7\\\\python\\\\lib\\\\py4j-<version>-src.zip:%PYTHONPATH%'\n"
     ]
    },
    {
     "name": "stdout",
     "output_type": "stream",
     "text": [
      "WARNING: Entity <bound method NoMask.call of <deepctr.layers.utils.NoMask object at 0x000001D05D6A8048>> could not be transformed and will be executed as-is. Please report this to the AutgoGraph team. When filing the bug, set the verbosity to 10 (on Linux, `export AUTOGRAPH_VERBOSITY=10`) and attach the full output. Cause: converting <bound method NoMask.call of <deepctr.layers.utils.NoMask object at 0x000001D05D6A8048>>: ValueError: Unable to locate the source code of <bound method NoMask.call of <deepctr.layers.utils.NoMask object at 0x000001D05D6A8048>>. Note that functions defined in certain environments, like the interactive Python shell do not expose their source code. If that is the case, you should to define them in a .py source file. If you are certain the code is graph-compatible, wrap the call using @tf.autograph.do_not_convert. Original error: [WinError 123] 文件名、目录名或卷标语法不正确。: 'G:\\\\spark\\\\spark-3.0.0-preview2-bin-hadoop2.7\\\\python\\\\lib\\\\py4j-<version>-src.zip:%PYTHONPATH%'\n",
      "WARNING:tensorflow:Entity <bound method NoMask.call of <deepctr.layers.utils.NoMask object at 0x000001D05D6A8048>> could not be transformed and will be executed as-is. Please report this to the AutgoGraph team. When filing the bug, set the verbosity to 10 (on Linux, `export AUTOGRAPH_VERBOSITY=10`) and attach the full output. Cause: converting <bound method NoMask.call of <deepctr.layers.utils.NoMask object at 0x000001D05D6A8048>>: ValueError: Unable to locate the source code of <bound method NoMask.call of <deepctr.layers.utils.NoMask object at 0x000001D05D6A8048>>. Note that functions defined in certain environments, like the interactive Python shell do not expose their source code. If that is the case, you should to define them in a .py source file. If you are certain the code is graph-compatible, wrap the call using @tf.autograph.do_not_convert. Original error: [WinError 123] 文件名、目录名或卷标语法不正确。: 'G:\\\\spark\\\\spark-3.0.0-preview2-bin-hadoop2.7\\\\python\\\\lib\\\\py4j-<version>-src.zip:%PYTHONPATH%'\n"
     ]
    },
    {
     "name": "stderr",
     "output_type": "stream",
     "text": [
      "WARNING:tensorflow:Entity <bound method NoMask.call of <deepctr.layers.utils.NoMask object at 0x000001D05D6A8048>> could not be transformed and will be executed as-is. Please report this to the AutgoGraph team. When filing the bug, set the verbosity to 10 (on Linux, `export AUTOGRAPH_VERBOSITY=10`) and attach the full output. Cause: converting <bound method NoMask.call of <deepctr.layers.utils.NoMask object at 0x000001D05D6A8048>>: ValueError: Unable to locate the source code of <bound method NoMask.call of <deepctr.layers.utils.NoMask object at 0x000001D05D6A8048>>. Note that functions defined in certain environments, like the interactive Python shell do not expose their source code. If that is the case, you should to define them in a .py source file. If you are certain the code is graph-compatible, wrap the call using @tf.autograph.do_not_convert. Original error: [WinError 123] 文件名、目录名或卷标语法不正确。: 'G:\\\\spark\\\\spark-3.0.0-preview2-bin-hadoop2.7\\\\python\\\\lib\\\\py4j-<version>-src.zip:%PYTHONPATH%'\n"
     ]
    },
    {
     "name": "stdout",
     "output_type": "stream",
     "text": [
      "WARNING: Entity <bound method NoMask.call of <deepctr.layers.utils.NoMask object at 0x000001D05D6A8048>> could not be transformed and will be executed as-is. Please report this to the AutgoGraph team. When filing the bug, set the verbosity to 10 (on Linux, `export AUTOGRAPH_VERBOSITY=10`) and attach the full output. Cause: converting <bound method NoMask.call of <deepctr.layers.utils.NoMask object at 0x000001D05D6A8048>>: ValueError: Unable to locate the source code of <bound method NoMask.call of <deepctr.layers.utils.NoMask object at 0x000001D05D6A8048>>. Note that functions defined in certain environments, like the interactive Python shell do not expose their source code. If that is the case, you should to define them in a .py source file. If you are certain the code is graph-compatible, wrap the call using @tf.autograph.do_not_convert. Original error: [WinError 123] 文件名、目录名或卷标语法不正确。: 'G:\\\\spark\\\\spark-3.0.0-preview2-bin-hadoop2.7\\\\python\\\\lib\\\\py4j-<version>-src.zip:%PYTHONPATH%'\n",
      "WARNING:tensorflow:Entity <bound method NoMask.call of <deepctr.layers.utils.NoMask object at 0x000001D05D6A8048>> could not be transformed and will be executed as-is. Please report this to the AutgoGraph team. When filing the bug, set the verbosity to 10 (on Linux, `export AUTOGRAPH_VERBOSITY=10`) and attach the full output. Cause: converting <bound method NoMask.call of <deepctr.layers.utils.NoMask object at 0x000001D05D6A8048>>: ValueError: Unable to locate the source code of <bound method NoMask.call of <deepctr.layers.utils.NoMask object at 0x000001D05D6A8048>>. Note that functions defined in certain environments, like the interactive Python shell do not expose their source code. If that is the case, you should to define them in a .py source file. If you are certain the code is graph-compatible, wrap the call using @tf.autograph.do_not_convert. Original error: [WinError 123] 文件名、目录名或卷标语法不正确。: 'G:\\\\spark\\\\spark-3.0.0-preview2-bin-hadoop2.7\\\\python\\\\lib\\\\py4j-<version>-src.zip:%PYTHONPATH%'\n"
     ]
    },
    {
     "name": "stderr",
     "output_type": "stream",
     "text": [
      "WARNING:tensorflow:Entity <bound method NoMask.call of <deepctr.layers.utils.NoMask object at 0x000001D05D6A8048>> could not be transformed and will be executed as-is. Please report this to the AutgoGraph team. When filing the bug, set the verbosity to 10 (on Linux, `export AUTOGRAPH_VERBOSITY=10`) and attach the full output. Cause: converting <bound method NoMask.call of <deepctr.layers.utils.NoMask object at 0x000001D05D6A8048>>: ValueError: Unable to locate the source code of <bound method NoMask.call of <deepctr.layers.utils.NoMask object at 0x000001D05D6A8048>>. Note that functions defined in certain environments, like the interactive Python shell do not expose their source code. If that is the case, you should to define them in a .py source file. If you are certain the code is graph-compatible, wrap the call using @tf.autograph.do_not_convert. Original error: [WinError 123] 文件名、目录名或卷标语法不正确。: 'G:\\\\spark\\\\spark-3.0.0-preview2-bin-hadoop2.7\\\\python\\\\lib\\\\py4j-<version>-src.zip:%PYTHONPATH%'\n"
     ]
    },
    {
     "name": "stdout",
     "output_type": "stream",
     "text": [
      "WARNING: Entity <bound method NoMask.call of <deepctr.layers.utils.NoMask object at 0x000001D05D6A8048>> could not be transformed and will be executed as-is. Please report this to the AutgoGraph team. When filing the bug, set the verbosity to 10 (on Linux, `export AUTOGRAPH_VERBOSITY=10`) and attach the full output. Cause: converting <bound method NoMask.call of <deepctr.layers.utils.NoMask object at 0x000001D05D6A8048>>: ValueError: Unable to locate the source code of <bound method NoMask.call of <deepctr.layers.utils.NoMask object at 0x000001D05D6A8048>>. Note that functions defined in certain environments, like the interactive Python shell do not expose their source code. If that is the case, you should to define them in a .py source file. If you are certain the code is graph-compatible, wrap the call using @tf.autograph.do_not_convert. Original error: [WinError 123] 文件名、目录名或卷标语法不正确。: 'G:\\\\spark\\\\spark-3.0.0-preview2-bin-hadoop2.7\\\\python\\\\lib\\\\py4j-<version>-src.zip:%PYTHONPATH%'\n",
      "WARNING:tensorflow:Entity <bound method NoMask.call of <deepctr.layers.utils.NoMask object at 0x000001D05D6A8048>> could not be transformed and will be executed as-is. Please report this to the AutgoGraph team. When filing the bug, set the verbosity to 10 (on Linux, `export AUTOGRAPH_VERBOSITY=10`) and attach the full output. Cause: converting <bound method NoMask.call of <deepctr.layers.utils.NoMask object at 0x000001D05D6A8048>>: ValueError: Unable to locate the source code of <bound method NoMask.call of <deepctr.layers.utils.NoMask object at 0x000001D05D6A8048>>. Note that functions defined in certain environments, like the interactive Python shell do not expose their source code. If that is the case, you should to define them in a .py source file. If you are certain the code is graph-compatible, wrap the call using @tf.autograph.do_not_convert. Original error: [WinError 123] 文件名、目录名或卷标语法不正确。: 'G:\\\\spark\\\\spark-3.0.0-preview2-bin-hadoop2.7\\\\python\\\\lib\\\\py4j-<version>-src.zip:%PYTHONPATH%'\n"
     ]
    },
    {
     "name": "stderr",
     "output_type": "stream",
     "text": [
      "WARNING:tensorflow:Entity <bound method NoMask.call of <deepctr.layers.utils.NoMask object at 0x000001D05D6A8048>> could not be transformed and will be executed as-is. Please report this to the AutgoGraph team. When filing the bug, set the verbosity to 10 (on Linux, `export AUTOGRAPH_VERBOSITY=10`) and attach the full output. Cause: converting <bound method NoMask.call of <deepctr.layers.utils.NoMask object at 0x000001D05D6A8048>>: ValueError: Unable to locate the source code of <bound method NoMask.call of <deepctr.layers.utils.NoMask object at 0x000001D05D6A8048>>. Note that functions defined in certain environments, like the interactive Python shell do not expose their source code. If that is the case, you should to define them in a .py source file. If you are certain the code is graph-compatible, wrap the call using @tf.autograph.do_not_convert. Original error: [WinError 123] 文件名、目录名或卷标语法不正确。: 'G:\\\\spark\\\\spark-3.0.0-preview2-bin-hadoop2.7\\\\python\\\\lib\\\\py4j-<version>-src.zip:%PYTHONPATH%'\n"
     ]
    },
    {
     "name": "stdout",
     "output_type": "stream",
     "text": [
      "WARNING: Entity <bound method NoMask.call of <deepctr.layers.utils.NoMask object at 0x000001D05D6A8048>> could not be transformed and will be executed as-is. Please report this to the AutgoGraph team. When filing the bug, set the verbosity to 10 (on Linux, `export AUTOGRAPH_VERBOSITY=10`) and attach the full output. Cause: converting <bound method NoMask.call of <deepctr.layers.utils.NoMask object at 0x000001D05D6A8048>>: ValueError: Unable to locate the source code of <bound method NoMask.call of <deepctr.layers.utils.NoMask object at 0x000001D05D6A8048>>. Note that functions defined in certain environments, like the interactive Python shell do not expose their source code. If that is the case, you should to define them in a .py source file. If you are certain the code is graph-compatible, wrap the call using @tf.autograph.do_not_convert. Original error: [WinError 123] 文件名、目录名或卷标语法不正确。: 'G:\\\\spark\\\\spark-3.0.0-preview2-bin-hadoop2.7\\\\python\\\\lib\\\\py4j-<version>-src.zip:%PYTHONPATH%'\n",
      "WARNING:tensorflow:Entity <bound method DNN.call of <deepctr.layers.core.DNN object at 0x000001D05D7284A8>> could not be transformed and will be executed as-is. Please report this to the AutgoGraph team. When filing the bug, set the verbosity to 10 (on Linux, `export AUTOGRAPH_VERBOSITY=10`) and attach the full output. Cause: converting <bound method DNN.call of <deepctr.layers.core.DNN object at 0x000001D05D7284A8>>: ValueError: Unable to locate the source code of <bound method DNN.call of <deepctr.layers.core.DNN object at 0x000001D05D7284A8>>. Note that functions defined in certain environments, like the interactive Python shell do not expose their source code. If that is the case, you should to define them in a .py source file. If you are certain the code is graph-compatible, wrap the call using @tf.autograph.do_not_convert. Original error: [WinError 123] 文件名、目录名或卷标语法不正确。: 'G:\\\\spark\\\\spark-3.0.0-preview2-bin-hadoop2.7\\\\python\\\\lib\\\\py4j-<version>-src.zip:%PYTHONPATH%'\n"
     ]
    },
    {
     "name": "stderr",
     "output_type": "stream",
     "text": [
      "WARNING:tensorflow:Entity <bound method DNN.call of <deepctr.layers.core.DNN object at 0x000001D05D7284A8>> could not be transformed and will be executed as-is. Please report this to the AutgoGraph team. When filing the bug, set the verbosity to 10 (on Linux, `export AUTOGRAPH_VERBOSITY=10`) and attach the full output. Cause: converting <bound method DNN.call of <deepctr.layers.core.DNN object at 0x000001D05D7284A8>>: ValueError: Unable to locate the source code of <bound method DNN.call of <deepctr.layers.core.DNN object at 0x000001D05D7284A8>>. Note that functions defined in certain environments, like the interactive Python shell do not expose their source code. If that is the case, you should to define them in a .py source file. If you are certain the code is graph-compatible, wrap the call using @tf.autograph.do_not_convert. Original error: [WinError 123] 文件名、目录名或卷标语法不正确。: 'G:\\\\spark\\\\spark-3.0.0-preview2-bin-hadoop2.7\\\\python\\\\lib\\\\py4j-<version>-src.zip:%PYTHONPATH%'\n"
     ]
    },
    {
     "name": "stdout",
     "output_type": "stream",
     "text": [
      "WARNING: Entity <bound method DNN.call of <deepctr.layers.core.DNN object at 0x000001D05D7284A8>> could not be transformed and will be executed as-is. Please report this to the AutgoGraph team. When filing the bug, set the verbosity to 10 (on Linux, `export AUTOGRAPH_VERBOSITY=10`) and attach the full output. Cause: converting <bound method DNN.call of <deepctr.layers.core.DNN object at 0x000001D05D7284A8>>: ValueError: Unable to locate the source code of <bound method DNN.call of <deepctr.layers.core.DNN object at 0x000001D05D7284A8>>. Note that functions defined in certain environments, like the interactive Python shell do not expose their source code. If that is the case, you should to define them in a .py source file. If you are certain the code is graph-compatible, wrap the call using @tf.autograph.do_not_convert. Original error: [WinError 123] 文件名、目录名或卷标语法不正确。: 'G:\\\\spark\\\\spark-3.0.0-preview2-bin-hadoop2.7\\\\python\\\\lib\\\\py4j-<version>-src.zip:%PYTHONPATH%'\n",
      "WARNING:tensorflow:Entity <bound method Add.call of <deepctr.layers.utils.Add object at 0x000001D05D844048>> could not be transformed and will be executed as-is. Please report this to the AutgoGraph team. When filing the bug, set the verbosity to 10 (on Linux, `export AUTOGRAPH_VERBOSITY=10`) and attach the full output. Cause: converting <bound method Add.call of <deepctr.layers.utils.Add object at 0x000001D05D844048>>: ValueError: Unable to locate the source code of <bound method Add.call of <deepctr.layers.utils.Add object at 0x000001D05D844048>>. Note that functions defined in certain environments, like the interactive Python shell do not expose their source code. If that is the case, you should to define them in a .py source file. If you are certain the code is graph-compatible, wrap the call using @tf.autograph.do_not_convert. Original error: [WinError 123] 文件名、目录名或卷标语法不正确。: 'G:\\\\spark\\\\spark-3.0.0-preview2-bin-hadoop2.7\\\\python\\\\lib\\\\py4j-<version>-src.zip:%PYTHONPATH%'\n"
     ]
    },
    {
     "name": "stderr",
     "output_type": "stream",
     "text": [
      "WARNING:tensorflow:Entity <bound method Add.call of <deepctr.layers.utils.Add object at 0x000001D05D844048>> could not be transformed and will be executed as-is. Please report this to the AutgoGraph team. When filing the bug, set the verbosity to 10 (on Linux, `export AUTOGRAPH_VERBOSITY=10`) and attach the full output. Cause: converting <bound method Add.call of <deepctr.layers.utils.Add object at 0x000001D05D844048>>: ValueError: Unable to locate the source code of <bound method Add.call of <deepctr.layers.utils.Add object at 0x000001D05D844048>>. Note that functions defined in certain environments, like the interactive Python shell do not expose their source code. If that is the case, you should to define them in a .py source file. If you are certain the code is graph-compatible, wrap the call using @tf.autograph.do_not_convert. Original error: [WinError 123] 文件名、目录名或卷标语法不正确。: 'G:\\\\spark\\\\spark-3.0.0-preview2-bin-hadoop2.7\\\\python\\\\lib\\\\py4j-<version>-src.zip:%PYTHONPATH%'\n"
     ]
    },
    {
     "name": "stdout",
     "output_type": "stream",
     "text": [
      "WARNING: Entity <bound method Add.call of <deepctr.layers.utils.Add object at 0x000001D05D844048>> could not be transformed and will be executed as-is. Please report this to the AutgoGraph team. When filing the bug, set the verbosity to 10 (on Linux, `export AUTOGRAPH_VERBOSITY=10`) and attach the full output. Cause: converting <bound method Add.call of <deepctr.layers.utils.Add object at 0x000001D05D844048>>: ValueError: Unable to locate the source code of <bound method Add.call of <deepctr.layers.utils.Add object at 0x000001D05D844048>>. Note that functions defined in certain environments, like the interactive Python shell do not expose their source code. If that is the case, you should to define them in a .py source file. If you are certain the code is graph-compatible, wrap the call using @tf.autograph.do_not_convert. Original error: [WinError 123] 文件名、目录名或卷标语法不正确。: 'G:\\\\spark\\\\spark-3.0.0-preview2-bin-hadoop2.7\\\\python\\\\lib\\\\py4j-<version>-src.zip:%PYTHONPATH%'\n",
      "WARNING:tensorflow:Entity <bound method PredictionLayer.call of <deepctr.layers.core.PredictionLayer object at 0x000001D05D86C160>> could not be transformed and will be executed as-is. Please report this to the AutgoGraph team. When filing the bug, set the verbosity to 10 (on Linux, `export AUTOGRAPH_VERBOSITY=10`) and attach the full output. Cause: converting <bound method PredictionLayer.call of <deepctr.layers.core.PredictionLayer object at 0x000001D05D86C160>>: ValueError: Unable to locate the source code of <bound method PredictionLayer.call of <deepctr.layers.core.PredictionLayer object at 0x000001D05D86C160>>. Note that functions defined in certain environments, like the interactive Python shell do not expose their source code. If that is the case, you should to define them in a .py source file. If you are certain the code is graph-compatible, wrap the call using @tf.autograph.do_not_convert. Original error: [WinError 123] 文件名、目录名或卷标语法不正确。: 'G:\\\\spark\\\\spark-3.0.0-preview2-bin-hadoop2.7\\\\python\\\\lib\\\\py4j-<version>-src.zip:%PYTHONPATH%'\n"
     ]
    },
    {
     "name": "stderr",
     "output_type": "stream",
     "text": [
      "WARNING:tensorflow:Entity <bound method PredictionLayer.call of <deepctr.layers.core.PredictionLayer object at 0x000001D05D86C160>> could not be transformed and will be executed as-is. Please report this to the AutgoGraph team. When filing the bug, set the verbosity to 10 (on Linux, `export AUTOGRAPH_VERBOSITY=10`) and attach the full output. Cause: converting <bound method PredictionLayer.call of <deepctr.layers.core.PredictionLayer object at 0x000001D05D86C160>>: ValueError: Unable to locate the source code of <bound method PredictionLayer.call of <deepctr.layers.core.PredictionLayer object at 0x000001D05D86C160>>. Note that functions defined in certain environments, like the interactive Python shell do not expose their source code. If that is the case, you should to define them in a .py source file. If you are certain the code is graph-compatible, wrap the call using @tf.autograph.do_not_convert. Original error: [WinError 123] 文件名、目录名或卷标语法不正确。: 'G:\\\\spark\\\\spark-3.0.0-preview2-bin-hadoop2.7\\\\python\\\\lib\\\\py4j-<version>-src.zip:%PYTHONPATH%'\n"
     ]
    },
    {
     "name": "stdout",
     "output_type": "stream",
     "text": [
      "WARNING: Entity <bound method PredictionLayer.call of <deepctr.layers.core.PredictionLayer object at 0x000001D05D86C160>> could not be transformed and will be executed as-is. Please report this to the AutgoGraph team. When filing the bug, set the verbosity to 10 (on Linux, `export AUTOGRAPH_VERBOSITY=10`) and attach the full output. Cause: converting <bound method PredictionLayer.call of <deepctr.layers.core.PredictionLayer object at 0x000001D05D86C160>>: ValueError: Unable to locate the source code of <bound method PredictionLayer.call of <deepctr.layers.core.PredictionLayer object at 0x000001D05D86C160>>. Note that functions defined in certain environments, like the interactive Python shell do not expose their source code. If that is the case, you should to define them in a .py source file. If you are certain the code is graph-compatible, wrap the call using @tf.autograph.do_not_convert. Original error: [WinError 123] 文件名、目录名或卷标语法不正确。: 'G:\\\\spark\\\\spark-3.0.0-preview2-bin-hadoop2.7\\\\python\\\\lib\\\\py4j-<version>-src.zip:%PYTHONPATH%'\n",
      "Train on 128 samples, validate on 32 samples\n",
      "128/128 [==============================] - 2s 16ms/sample - loss: 13.9143 - mean_squared_error: 13.9143 - val_loss: 15.6719 - val_mean_squared_error: 15.6719\n",
      "test RMSE 3.6674377977001873\n"
     ]
    }
   ],
   "source": [
    "#对特征标签进行编码\n",
    "for feature in sparse_features:\n",
    "    lbe = LabelEncoder()\n",
    "    data[feature] = lbe.fit_transform(data[feature])\n",
    "#计算每个特征中不同特征值的个数\n",
    "fixlen_feature_columns = [SparseFeat(feature,data[feature].nunique()) for feature in sparse_features]\n",
    "linear_feature_columns = fixlen_feature_columns\n",
    "dnn_feature_columns = fixlen_feature_columns\n",
    "feature_names = get_feature_names(linear_feature_columns+dnn_feature_columns)\n",
    "\n",
    "#将数据集切分成训练集和测试集\n",
    "train,test = train_test_split(data,test_size=0.2)\n",
    "train_model_input = {name:train[name].values for name in feature_names}\n",
    "test_model_input = {name:test[name].values for name in feature_names}\n",
    "\n",
    "#使用WDL进行训练\n",
    "model = WDL(linear_feature_columns,dnn_feature_columns,task='regression')\n",
    "model.compile('adam','mse',metrics=['mse'],)\n",
    "history = model.fit(train_model_input,train[target].values,batch_size=256,epochs=1,verbose=True,validation_split=0.2,)\n",
    "#使用WDL进行预测\n",
    "pred_ans = model.predict(test_model_input,batch_size=256)\n",
    "#输出RMSE或MSE\n",
    "mse = round(mean_squared_error(test[target].values,pred_ans),4)\n",
    "rmse = mse**0.5\n",
    "print('test RMSE',rmse)"
   ]
  }
 ],
 "metadata": {
  "kernelspec": {
   "display_name": "Python 3",
   "language": "python",
   "name": "python3"
  },
  "language_info": {
   "codemirror_mode": {
    "name": "ipython",
    "version": 3
   },
   "file_extension": ".py",
   "mimetype": "text/x-python",
   "name": "python",
   "nbconvert_exporter": "python",
   "pygments_lexer": "ipython3",
   "version": "3.7.3"
  }
 },
 "nbformat": 4,
 "nbformat_minor": 4
}
