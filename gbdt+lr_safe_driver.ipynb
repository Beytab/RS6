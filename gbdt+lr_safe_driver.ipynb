{
  "nbformat": 4,
  "nbformat_minor": 0,
  "metadata": {
    "colab": {
      "name": "gbdt+lr_safe_driver",
      "provenance": [],
      "collapsed_sections": [],
      "toc_visible": true,
      "machine_shape": "hm",
      "authorship_tag": "ABX9TyO7bxZegapmZda9GDJObc07",
      "include_colab_link": true
    },
    "kernelspec": {
      "name": "python3",
      "display_name": "Python 3"
    },
    "accelerator": "GPU"
  },
  "cells": [
    {
      "cell_type": "markdown",
      "metadata": {
        "id": "view-in-github",
        "colab_type": "text"
      },
      "source": [
        "<a href=\"https://colab.research.google.com/github/Beytab/RS6/blob/master/gbdt%2Blr_safe_driver.ipynb\" target=\"_parent\"><img src=\"https://colab.research.google.com/assets/colab-badge.svg\" alt=\"Open In Colab\"/></a>"
      ]
    },
    {
      "cell_type": "markdown",
      "metadata": {
        "id": "_7-itgT56PS3",
        "colab_type": "text"
      },
      "source": [
        "#安装kaggle"
      ]
    },
    {
      "cell_type": "code",
      "metadata": {
        "id": "XDf_br4038YE",
        "colab_type": "code",
        "colab": {}
      },
      "source": [
        "!pip install -U -q kaggle\n",
        "!mkdir -p ~/.kaggle\n",
        "!echo '{\"username\":\"yanzaihang\",\"key\":\"c7d6a781f8fdeed15a844ad2524e1f38\"}' > ~/.kaggle/kaggle.json\n",
        "!chmod 600 ~/.kaggle/kaggle.json"
      ],
      "execution_count": 0,
      "outputs": []
    },
    {
      "cell_type": "markdown",
      "metadata": {
        "id": "FgmhS39j6ORS",
        "colab_type": "text"
      },
      "source": [
        "# 设置数据集文件夹"
      ]
    },
    {
      "cell_type": "code",
      "metadata": {
        "id": "C5Ngpl0B6cC2",
        "colab_type": "code",
        "outputId": "8e28d888-d549-4cd9-a854-6f34a13645c8",
        "colab": {
          "base_uri": "https://localhost:8080/",
          "height": 35
        }
      },
      "source": [
        "!mkdir -p safe_driver_data\n",
        "!cd safe_driver_data\n",
        "!pwd"
      ],
      "execution_count": 4,
      "outputs": [
        {
          "output_type": "stream",
          "text": [
            "/content\n"
          ],
          "name": "stdout"
        }
      ]
    },
    {
      "cell_type": "markdown",
      "metadata": {
        "id": "2GcuaHJr6s6b",
        "colab_type": "text"
      },
      "source": [
        "# 下载数据"
      ]
    },
    {
      "cell_type": "code",
      "metadata": {
        "id": "1WlcAnUG6mH9",
        "colab_type": "code",
        "outputId": "638a3ce4-77c6-4119-94ea-fceca9642696",
        "colab": {
          "base_uri": "https://localhost:8080/",
          "height": 213
        }
      },
      "source": [
        "!kaggle competitions download -c porto-seguro-safe-driver-prediction"
      ],
      "execution_count": 5,
      "outputs": [
        {
          "output_type": "stream",
          "text": [
            "Warning: Looks like you're using an outdated API Version, please consider updating (server 1.5.6 / client 1.5.4)\n",
            "Downloading sample_submission.csv.zip to /content\n",
            "  0% 0.00/2.12M [00:00<?, ?B/s]\n",
            "100% 2.12M/2.12M [00:00<00:00, 71.3MB/s]\n",
            "Downloading test.csv.zip to /content\n",
            " 81% 36.0M/44.4M [00:00<00:00, 48.7MB/s]\n",
            "100% 44.4M/44.4M [00:00<00:00, 100MB/s] \n",
            "Downloading train.csv.zip to /content\n",
            " 93% 28.0M/30.0M [00:00<00:00, 46.7MB/s]\n",
            "100% 30.0M/30.0M [00:00<00:00, 75.8MB/s]\n"
          ],
          "name": "stdout"
        }
      ]
    },
    {
      "cell_type": "code",
      "metadata": {
        "id": "14uk9MFc6wRc",
        "colab_type": "code",
        "outputId": "39b67949-e797-4a11-9625-8861c7283904",
        "colab": {
          "base_uri": "https://localhost:8080/",
          "height": 35
        }
      },
      "source": [
        "!kaggle -v"
      ],
      "execution_count": 6,
      "outputs": [
        {
          "output_type": "stream",
          "text": [
            "Kaggle API 1.5.4\n"
          ],
          "name": "stdout"
        }
      ]
    },
    {
      "cell_type": "code",
      "metadata": {
        "id": "jTlCjw0dFkPP",
        "colab_type": "code",
        "outputId": "1d40f203-7786-4407-f18d-6bc57181db35",
        "colab": {
          "base_uri": "https://localhost:8080/",
          "height": 266
        }
      },
      "source": [
        "!pip install --upgrade --force-reinstall --no-deps kaggle #API版本修正"
      ],
      "execution_count": 27,
      "outputs": [
        {
          "output_type": "stream",
          "text": [
            "Collecting kaggle\n",
            "\u001b[?25l  Downloading https://files.pythonhosted.org/packages/62/ab/bb20f9b9e24f9a6250f95a432f8d9a7d745f8d24039d7a5a6eaadb7783ba/kaggle-1.5.6.tar.gz (58kB)\n",
            "\r\u001b[K     |█████▋                          | 10kB 26.8MB/s eta 0:00:01\r\u001b[K     |███████████▎                    | 20kB 3.1MB/s eta 0:00:01\r\u001b[K     |█████████████████               | 30kB 4.5MB/s eta 0:00:01\r\u001b[K     |██████████████████████▌         | 40kB 3.0MB/s eta 0:00:01\r\u001b[K     |████████████████████████████▏   | 51kB 3.7MB/s eta 0:00:01\r\u001b[K     |████████████████████████████████| 61kB 3.4MB/s \n",
            "\u001b[?25hBuilding wheels for collected packages: kaggle\n",
            "  Building wheel for kaggle (setup.py) ... \u001b[?25l\u001b[?25hdone\n",
            "  Created wheel for kaggle: filename=kaggle-1.5.6-cp36-none-any.whl size=72859 sha256=79fcb440e800606478627d063f7139ed23860624a0f72bf1601ce1fa9306e08f\n",
            "  Stored in directory: /root/.cache/pip/wheels/57/4e/e8/bb28d035162fb8f17f8ca5d42c3230e284c6aa565b42b72674\n",
            "Successfully built kaggle\n",
            "Installing collected packages: kaggle\n",
            "  Found existing installation: kaggle 1.5.6\n",
            "    Uninstalling kaggle-1.5.6:\n",
            "      Successfully uninstalled kaggle-1.5.6\n",
            "Successfully installed kaggle-1.5.6\n"
          ],
          "name": "stdout"
        }
      ]
    },
    {
      "cell_type": "code",
      "metadata": {
        "id": "hBpjFj-YF93X",
        "colab_type": "code",
        "outputId": "e47947b9-5b9d-4154-fe8d-5a3e941454f1",
        "colab": {
          "base_uri": "https://localhost:8080/",
          "height": 35
        }
      },
      "source": [
        "!kaggle -v"
      ],
      "execution_count": 28,
      "outputs": [
        {
          "output_type": "stream",
          "text": [
            "Kaggle API 1.5.6\n"
          ],
          "name": "stdout"
        }
      ]
    },
    {
      "cell_type": "code",
      "metadata": {
        "id": "kXOjyh-AGCKy",
        "colab_type": "code",
        "outputId": "80853b2b-7047-4127-998f-ab36194b8977",
        "colab": {
          "base_uri": "https://localhost:8080/",
          "height": 70
        }
      },
      "source": [
        "!kaggle competitions download -c porto-seguro-safe-driver-prediction"
      ],
      "execution_count": 29,
      "outputs": [
        {
          "output_type": "stream",
          "text": [
            "Downloading porto-seguro-safe-driver-prediction.zip to /content\n",
            " 85% 65.0M/76.5M [00:01<00:00, 38.9MB/s]\n",
            "100% 76.5M/76.5M [00:01<00:00, 56.2MB/s]\n"
          ],
          "name": "stdout"
        }
      ]
    },
    {
      "cell_type": "markdown",
      "metadata": {
        "id": "G0uyeK5PGSVH",
        "colab_type": "text"
      },
      "source": [
        "# 解压数据\n"
      ]
    },
    {
      "cell_type": "code",
      "metadata": {
        "id": "RhUKjHO2GL4n",
        "colab_type": "code",
        "outputId": "0f48149b-4bc9-46c8-920e-f8b2ae704993",
        "colab": {
          "base_uri": "https://localhost:8080/",
          "height": 55
        }
      },
      "source": [
        "!unzip /content/safe_driver_data/porto-seguro-safe-driver-prediction.zip"
      ],
      "execution_count": 30,
      "outputs": [
        {
          "output_type": "stream",
          "text": [
            "unzip:  cannot find or open /content/safe_driver_data/porto-seguro-safe-driver-prediction.zip, /content/safe_driver_data/porto-seguro-safe-driver-prediction.zip.zip or /content/safe_driver_data/porto-seguro-safe-driver-prediction.zip.ZIP.\n"
          ],
          "name": "stdout"
        }
      ]
    },
    {
      "cell_type": "code",
      "metadata": {
        "id": "yu9Ie0CfGnJ9",
        "colab_type": "code",
        "outputId": "15e87a5c-1cfd-4e1d-c955-f65b4df6348f",
        "colab": {
          "base_uri": "https://localhost:8080/",
          "height": 52
        }
      },
      "source": [
        "!dir"
      ],
      "execution_count": 7,
      "outputs": [
        {
          "output_type": "stream",
          "text": [
            "safe_driver_data  sample_submission.csv.zip  train.csv.zip\n",
            "sample_data\t  test.csv.zip\n"
          ],
          "name": "stdout"
        }
      ]
    },
    {
      "cell_type": "code",
      "metadata": {
        "id": "-vu3oNTSGz3I",
        "colab_type": "code",
        "outputId": "c2e77a74-f4bf-48f3-f1df-610712c864de",
        "colab": {
          "base_uri": "https://localhost:8080/",
          "height": 52
        }
      },
      "source": [
        "!unzip train.csv.zip"
      ],
      "execution_count": 8,
      "outputs": [
        {
          "output_type": "stream",
          "text": [
            "Archive:  train.csv.zip\n",
            "  inflating: train.csv               \n"
          ],
          "name": "stdout"
        }
      ]
    },
    {
      "cell_type": "markdown",
      "metadata": {
        "id": "P__amKdRHUIe",
        "colab_type": "text"
      },
      "source": [
        "# GBDT+LR"
      ]
    },
    {
      "cell_type": "code",
      "metadata": {
        "id": "s2Ip8PM8G9W_",
        "colab_type": "code",
        "colab": {}
      },
      "source": [
        "import numpy as np\n",
        "import pandas as pd\n",
        "import matplotlib.pyplot as plt \n",
        "from sklearn.linear_model import LogisticRegression\n",
        "from sklearn.ensemble import RandomTreesEmbedding,RandomForestClassifier,GradientBoostingClassifier,GradientBoostingRegressor\n",
        "from sklearn.preprocessing import OneHotEncoder,StandardScaler\n",
        "from sklearn.model_selection import train_test_split\n",
        "from sklearn.metrics import roc_curve,log_loss\n",
        "from sklearn.pipeline import make_pipeline"
      ],
      "execution_count": 0,
      "outputs": []
    },
    {
      "cell_type": "code",
      "metadata": {
        "id": "mWEgiocYHut3",
        "colab_type": "code",
        "outputId": "0ef46622-9bc8-4eda-c40f-9c6b4dafc0b5",
        "colab": {
          "base_uri": "https://localhost:8080/",
          "height": 1000
        }
      },
      "source": [
        "df = pd.read_csv('train.csv')\n",
        "print(df.info())\n",
        "print('*'*100)\n",
        "df.head()"
      ],
      "execution_count": 10,
      "outputs": [
        {
          "output_type": "stream",
          "text": [
            "<class 'pandas.core.frame.DataFrame'>\n",
            "RangeIndex: 595212 entries, 0 to 595211\n",
            "Data columns (total 59 columns):\n",
            "id                595212 non-null int64\n",
            "target            595212 non-null int64\n",
            "ps_ind_01         595212 non-null int64\n",
            "ps_ind_02_cat     595212 non-null int64\n",
            "ps_ind_03         595212 non-null int64\n",
            "ps_ind_04_cat     595212 non-null int64\n",
            "ps_ind_05_cat     595212 non-null int64\n",
            "ps_ind_06_bin     595212 non-null int64\n",
            "ps_ind_07_bin     595212 non-null int64\n",
            "ps_ind_08_bin     595212 non-null int64\n",
            "ps_ind_09_bin     595212 non-null int64\n",
            "ps_ind_10_bin     595212 non-null int64\n",
            "ps_ind_11_bin     595212 non-null int64\n",
            "ps_ind_12_bin     595212 non-null int64\n",
            "ps_ind_13_bin     595212 non-null int64\n",
            "ps_ind_14         595212 non-null int64\n",
            "ps_ind_15         595212 non-null int64\n",
            "ps_ind_16_bin     595212 non-null int64\n",
            "ps_ind_17_bin     595212 non-null int64\n",
            "ps_ind_18_bin     595212 non-null int64\n",
            "ps_reg_01         595212 non-null float64\n",
            "ps_reg_02         595212 non-null float64\n",
            "ps_reg_03         595212 non-null float64\n",
            "ps_car_01_cat     595212 non-null int64\n",
            "ps_car_02_cat     595212 non-null int64\n",
            "ps_car_03_cat     595212 non-null int64\n",
            "ps_car_04_cat     595212 non-null int64\n",
            "ps_car_05_cat     595212 non-null int64\n",
            "ps_car_06_cat     595212 non-null int64\n",
            "ps_car_07_cat     595212 non-null int64\n",
            "ps_car_08_cat     595212 non-null int64\n",
            "ps_car_09_cat     595212 non-null int64\n",
            "ps_car_10_cat     595212 non-null int64\n",
            "ps_car_11_cat     595212 non-null int64\n",
            "ps_car_11         595212 non-null int64\n",
            "ps_car_12         595212 non-null float64\n",
            "ps_car_13         595212 non-null float64\n",
            "ps_car_14         595212 non-null float64\n",
            "ps_car_15         595212 non-null float64\n",
            "ps_calc_01        595212 non-null float64\n",
            "ps_calc_02        595212 non-null float64\n",
            "ps_calc_03        595212 non-null float64\n",
            "ps_calc_04        595212 non-null int64\n",
            "ps_calc_05        595212 non-null int64\n",
            "ps_calc_06        595212 non-null int64\n",
            "ps_calc_07        595212 non-null int64\n",
            "ps_calc_08        595212 non-null int64\n",
            "ps_calc_09        595212 non-null int64\n",
            "ps_calc_10        595212 non-null int64\n",
            "ps_calc_11        595212 non-null int64\n",
            "ps_calc_12        595212 non-null int64\n",
            "ps_calc_13        595212 non-null int64\n",
            "ps_calc_14        595212 non-null int64\n",
            "ps_calc_15_bin    595212 non-null int64\n",
            "ps_calc_16_bin    595212 non-null int64\n",
            "ps_calc_17_bin    595212 non-null int64\n",
            "ps_calc_18_bin    595212 non-null int64\n",
            "ps_calc_19_bin    595212 non-null int64\n",
            "ps_calc_20_bin    595212 non-null int64\n",
            "dtypes: float64(10), int64(49)\n",
            "memory usage: 267.9 MB\n",
            "None\n",
            "****************************************************************************************************\n"
          ],
          "name": "stdout"
        },
        {
          "output_type": "execute_result",
          "data": {
            "text/html": [
              "<div>\n",
              "<style scoped>\n",
              "    .dataframe tbody tr th:only-of-type {\n",
              "        vertical-align: middle;\n",
              "    }\n",
              "\n",
              "    .dataframe tbody tr th {\n",
              "        vertical-align: top;\n",
              "    }\n",
              "\n",
              "    .dataframe thead th {\n",
              "        text-align: right;\n",
              "    }\n",
              "</style>\n",
              "<table border=\"1\" class=\"dataframe\">\n",
              "  <thead>\n",
              "    <tr style=\"text-align: right;\">\n",
              "      <th></th>\n",
              "      <th>id</th>\n",
              "      <th>target</th>\n",
              "      <th>ps_ind_01</th>\n",
              "      <th>ps_ind_02_cat</th>\n",
              "      <th>ps_ind_03</th>\n",
              "      <th>ps_ind_04_cat</th>\n",
              "      <th>ps_ind_05_cat</th>\n",
              "      <th>ps_ind_06_bin</th>\n",
              "      <th>ps_ind_07_bin</th>\n",
              "      <th>ps_ind_08_bin</th>\n",
              "      <th>ps_ind_09_bin</th>\n",
              "      <th>ps_ind_10_bin</th>\n",
              "      <th>ps_ind_11_bin</th>\n",
              "      <th>ps_ind_12_bin</th>\n",
              "      <th>ps_ind_13_bin</th>\n",
              "      <th>ps_ind_14</th>\n",
              "      <th>ps_ind_15</th>\n",
              "      <th>ps_ind_16_bin</th>\n",
              "      <th>ps_ind_17_bin</th>\n",
              "      <th>ps_ind_18_bin</th>\n",
              "      <th>ps_reg_01</th>\n",
              "      <th>ps_reg_02</th>\n",
              "      <th>ps_reg_03</th>\n",
              "      <th>ps_car_01_cat</th>\n",
              "      <th>ps_car_02_cat</th>\n",
              "      <th>ps_car_03_cat</th>\n",
              "      <th>ps_car_04_cat</th>\n",
              "      <th>ps_car_05_cat</th>\n",
              "      <th>ps_car_06_cat</th>\n",
              "      <th>ps_car_07_cat</th>\n",
              "      <th>ps_car_08_cat</th>\n",
              "      <th>ps_car_09_cat</th>\n",
              "      <th>ps_car_10_cat</th>\n",
              "      <th>ps_car_11_cat</th>\n",
              "      <th>ps_car_11</th>\n",
              "      <th>ps_car_12</th>\n",
              "      <th>ps_car_13</th>\n",
              "      <th>ps_car_14</th>\n",
              "      <th>ps_car_15</th>\n",
              "      <th>ps_calc_01</th>\n",
              "      <th>ps_calc_02</th>\n",
              "      <th>ps_calc_03</th>\n",
              "      <th>ps_calc_04</th>\n",
              "      <th>ps_calc_05</th>\n",
              "      <th>ps_calc_06</th>\n",
              "      <th>ps_calc_07</th>\n",
              "      <th>ps_calc_08</th>\n",
              "      <th>ps_calc_09</th>\n",
              "      <th>ps_calc_10</th>\n",
              "      <th>ps_calc_11</th>\n",
              "      <th>ps_calc_12</th>\n",
              "      <th>ps_calc_13</th>\n",
              "      <th>ps_calc_14</th>\n",
              "      <th>ps_calc_15_bin</th>\n",
              "      <th>ps_calc_16_bin</th>\n",
              "      <th>ps_calc_17_bin</th>\n",
              "      <th>ps_calc_18_bin</th>\n",
              "      <th>ps_calc_19_bin</th>\n",
              "      <th>ps_calc_20_bin</th>\n",
              "    </tr>\n",
              "  </thead>\n",
              "  <tbody>\n",
              "    <tr>\n",
              "      <th>0</th>\n",
              "      <td>7</td>\n",
              "      <td>0</td>\n",
              "      <td>2</td>\n",
              "      <td>2</td>\n",
              "      <td>5</td>\n",
              "      <td>1</td>\n",
              "      <td>0</td>\n",
              "      <td>0</td>\n",
              "      <td>1</td>\n",
              "      <td>0</td>\n",
              "      <td>0</td>\n",
              "      <td>0</td>\n",
              "      <td>0</td>\n",
              "      <td>0</td>\n",
              "      <td>0</td>\n",
              "      <td>0</td>\n",
              "      <td>11</td>\n",
              "      <td>0</td>\n",
              "      <td>1</td>\n",
              "      <td>0</td>\n",
              "      <td>0.7</td>\n",
              "      <td>0.2</td>\n",
              "      <td>0.718070</td>\n",
              "      <td>10</td>\n",
              "      <td>1</td>\n",
              "      <td>-1</td>\n",
              "      <td>0</td>\n",
              "      <td>1</td>\n",
              "      <td>4</td>\n",
              "      <td>1</td>\n",
              "      <td>0</td>\n",
              "      <td>0</td>\n",
              "      <td>1</td>\n",
              "      <td>12</td>\n",
              "      <td>2</td>\n",
              "      <td>0.400000</td>\n",
              "      <td>0.883679</td>\n",
              "      <td>0.370810</td>\n",
              "      <td>3.605551</td>\n",
              "      <td>0.6</td>\n",
              "      <td>0.5</td>\n",
              "      <td>0.2</td>\n",
              "      <td>3</td>\n",
              "      <td>1</td>\n",
              "      <td>10</td>\n",
              "      <td>1</td>\n",
              "      <td>10</td>\n",
              "      <td>1</td>\n",
              "      <td>5</td>\n",
              "      <td>9</td>\n",
              "      <td>1</td>\n",
              "      <td>5</td>\n",
              "      <td>8</td>\n",
              "      <td>0</td>\n",
              "      <td>1</td>\n",
              "      <td>1</td>\n",
              "      <td>0</td>\n",
              "      <td>0</td>\n",
              "      <td>1</td>\n",
              "    </tr>\n",
              "    <tr>\n",
              "      <th>1</th>\n",
              "      <td>9</td>\n",
              "      <td>0</td>\n",
              "      <td>1</td>\n",
              "      <td>1</td>\n",
              "      <td>7</td>\n",
              "      <td>0</td>\n",
              "      <td>0</td>\n",
              "      <td>0</td>\n",
              "      <td>0</td>\n",
              "      <td>1</td>\n",
              "      <td>0</td>\n",
              "      <td>0</td>\n",
              "      <td>0</td>\n",
              "      <td>0</td>\n",
              "      <td>0</td>\n",
              "      <td>0</td>\n",
              "      <td>3</td>\n",
              "      <td>0</td>\n",
              "      <td>0</td>\n",
              "      <td>1</td>\n",
              "      <td>0.8</td>\n",
              "      <td>0.4</td>\n",
              "      <td>0.766078</td>\n",
              "      <td>11</td>\n",
              "      <td>1</td>\n",
              "      <td>-1</td>\n",
              "      <td>0</td>\n",
              "      <td>-1</td>\n",
              "      <td>11</td>\n",
              "      <td>1</td>\n",
              "      <td>1</td>\n",
              "      <td>2</td>\n",
              "      <td>1</td>\n",
              "      <td>19</td>\n",
              "      <td>3</td>\n",
              "      <td>0.316228</td>\n",
              "      <td>0.618817</td>\n",
              "      <td>0.388716</td>\n",
              "      <td>2.449490</td>\n",
              "      <td>0.3</td>\n",
              "      <td>0.1</td>\n",
              "      <td>0.3</td>\n",
              "      <td>2</td>\n",
              "      <td>1</td>\n",
              "      <td>9</td>\n",
              "      <td>5</td>\n",
              "      <td>8</td>\n",
              "      <td>1</td>\n",
              "      <td>7</td>\n",
              "      <td>3</td>\n",
              "      <td>1</td>\n",
              "      <td>1</td>\n",
              "      <td>9</td>\n",
              "      <td>0</td>\n",
              "      <td>1</td>\n",
              "      <td>1</td>\n",
              "      <td>0</td>\n",
              "      <td>1</td>\n",
              "      <td>0</td>\n",
              "    </tr>\n",
              "    <tr>\n",
              "      <th>2</th>\n",
              "      <td>13</td>\n",
              "      <td>0</td>\n",
              "      <td>5</td>\n",
              "      <td>4</td>\n",
              "      <td>9</td>\n",
              "      <td>1</td>\n",
              "      <td>0</td>\n",
              "      <td>0</td>\n",
              "      <td>0</td>\n",
              "      <td>1</td>\n",
              "      <td>0</td>\n",
              "      <td>0</td>\n",
              "      <td>0</td>\n",
              "      <td>0</td>\n",
              "      <td>0</td>\n",
              "      <td>0</td>\n",
              "      <td>12</td>\n",
              "      <td>1</td>\n",
              "      <td>0</td>\n",
              "      <td>0</td>\n",
              "      <td>0.0</td>\n",
              "      <td>0.0</td>\n",
              "      <td>-1.000000</td>\n",
              "      <td>7</td>\n",
              "      <td>1</td>\n",
              "      <td>-1</td>\n",
              "      <td>0</td>\n",
              "      <td>-1</td>\n",
              "      <td>14</td>\n",
              "      <td>1</td>\n",
              "      <td>1</td>\n",
              "      <td>2</td>\n",
              "      <td>1</td>\n",
              "      <td>60</td>\n",
              "      <td>1</td>\n",
              "      <td>0.316228</td>\n",
              "      <td>0.641586</td>\n",
              "      <td>0.347275</td>\n",
              "      <td>3.316625</td>\n",
              "      <td>0.5</td>\n",
              "      <td>0.7</td>\n",
              "      <td>0.1</td>\n",
              "      <td>2</td>\n",
              "      <td>2</td>\n",
              "      <td>9</td>\n",
              "      <td>1</td>\n",
              "      <td>8</td>\n",
              "      <td>2</td>\n",
              "      <td>7</td>\n",
              "      <td>4</td>\n",
              "      <td>2</td>\n",
              "      <td>7</td>\n",
              "      <td>7</td>\n",
              "      <td>0</td>\n",
              "      <td>1</td>\n",
              "      <td>1</td>\n",
              "      <td>0</td>\n",
              "      <td>1</td>\n",
              "      <td>0</td>\n",
              "    </tr>\n",
              "    <tr>\n",
              "      <th>3</th>\n",
              "      <td>16</td>\n",
              "      <td>0</td>\n",
              "      <td>0</td>\n",
              "      <td>1</td>\n",
              "      <td>2</td>\n",
              "      <td>0</td>\n",
              "      <td>0</td>\n",
              "      <td>1</td>\n",
              "      <td>0</td>\n",
              "      <td>0</td>\n",
              "      <td>0</td>\n",
              "      <td>0</td>\n",
              "      <td>0</td>\n",
              "      <td>0</td>\n",
              "      <td>0</td>\n",
              "      <td>0</td>\n",
              "      <td>8</td>\n",
              "      <td>1</td>\n",
              "      <td>0</td>\n",
              "      <td>0</td>\n",
              "      <td>0.9</td>\n",
              "      <td>0.2</td>\n",
              "      <td>0.580948</td>\n",
              "      <td>7</td>\n",
              "      <td>1</td>\n",
              "      <td>0</td>\n",
              "      <td>0</td>\n",
              "      <td>1</td>\n",
              "      <td>11</td>\n",
              "      <td>1</td>\n",
              "      <td>1</td>\n",
              "      <td>3</td>\n",
              "      <td>1</td>\n",
              "      <td>104</td>\n",
              "      <td>1</td>\n",
              "      <td>0.374166</td>\n",
              "      <td>0.542949</td>\n",
              "      <td>0.294958</td>\n",
              "      <td>2.000000</td>\n",
              "      <td>0.6</td>\n",
              "      <td>0.9</td>\n",
              "      <td>0.1</td>\n",
              "      <td>2</td>\n",
              "      <td>4</td>\n",
              "      <td>7</td>\n",
              "      <td>1</td>\n",
              "      <td>8</td>\n",
              "      <td>4</td>\n",
              "      <td>2</td>\n",
              "      <td>2</td>\n",
              "      <td>2</td>\n",
              "      <td>4</td>\n",
              "      <td>9</td>\n",
              "      <td>0</td>\n",
              "      <td>0</td>\n",
              "      <td>0</td>\n",
              "      <td>0</td>\n",
              "      <td>0</td>\n",
              "      <td>0</td>\n",
              "    </tr>\n",
              "    <tr>\n",
              "      <th>4</th>\n",
              "      <td>17</td>\n",
              "      <td>0</td>\n",
              "      <td>0</td>\n",
              "      <td>2</td>\n",
              "      <td>0</td>\n",
              "      <td>1</td>\n",
              "      <td>0</td>\n",
              "      <td>1</td>\n",
              "      <td>0</td>\n",
              "      <td>0</td>\n",
              "      <td>0</td>\n",
              "      <td>0</td>\n",
              "      <td>0</td>\n",
              "      <td>0</td>\n",
              "      <td>0</td>\n",
              "      <td>0</td>\n",
              "      <td>9</td>\n",
              "      <td>1</td>\n",
              "      <td>0</td>\n",
              "      <td>0</td>\n",
              "      <td>0.7</td>\n",
              "      <td>0.6</td>\n",
              "      <td>0.840759</td>\n",
              "      <td>11</td>\n",
              "      <td>1</td>\n",
              "      <td>-1</td>\n",
              "      <td>0</td>\n",
              "      <td>-1</td>\n",
              "      <td>14</td>\n",
              "      <td>1</td>\n",
              "      <td>1</td>\n",
              "      <td>2</td>\n",
              "      <td>1</td>\n",
              "      <td>82</td>\n",
              "      <td>3</td>\n",
              "      <td>0.316070</td>\n",
              "      <td>0.565832</td>\n",
              "      <td>0.365103</td>\n",
              "      <td>2.000000</td>\n",
              "      <td>0.4</td>\n",
              "      <td>0.6</td>\n",
              "      <td>0.0</td>\n",
              "      <td>2</td>\n",
              "      <td>2</td>\n",
              "      <td>6</td>\n",
              "      <td>3</td>\n",
              "      <td>10</td>\n",
              "      <td>2</td>\n",
              "      <td>12</td>\n",
              "      <td>3</td>\n",
              "      <td>1</td>\n",
              "      <td>1</td>\n",
              "      <td>3</td>\n",
              "      <td>0</td>\n",
              "      <td>0</td>\n",
              "      <td>0</td>\n",
              "      <td>1</td>\n",
              "      <td>1</td>\n",
              "      <td>0</td>\n",
              "    </tr>\n",
              "  </tbody>\n",
              "</table>\n",
              "</div>"
            ],
            "text/plain": [
              "   id  target  ps_ind_01  ...  ps_calc_18_bin  ps_calc_19_bin  ps_calc_20_bin\n",
              "0   7       0          2  ...               0               0               1\n",
              "1   9       0          1  ...               0               1               0\n",
              "2  13       0          5  ...               0               1               0\n",
              "3  16       0          0  ...               0               0               0\n",
              "4  17       0          0  ...               1               1               0\n",
              "\n",
              "[5 rows x 59 columns]"
            ]
          },
          "metadata": {
            "tags": []
          },
          "execution_count": 10
        }
      ]
    },
    {
      "cell_type": "code",
      "metadata": {
        "id": "moNnwMcDH1_D",
        "colab_type": "code",
        "outputId": "762ce9b2-81ea-4221-9e9d-45d0e8b37f43",
        "colab": {
          "base_uri": "https://localhost:8080/",
          "height": 299
        }
      },
      "source": [
        "df = df.set_index('id')\n",
        "X = df.iloc[:,1:]\n",
        "Y = df['target']\n",
        "print(X.head())\n",
        "print(Y.head())"
      ],
      "execution_count": 11,
      "outputs": [
        {
          "output_type": "stream",
          "text": [
            "    ps_ind_01  ps_ind_02_cat  ...  ps_calc_19_bin  ps_calc_20_bin\n",
            "id                            ...                                \n",
            "7           2              2  ...               0               1\n",
            "9           1              1  ...               1               0\n",
            "13          5              4  ...               1               0\n",
            "16          0              1  ...               0               0\n",
            "17          0              2  ...               1               0\n",
            "\n",
            "[5 rows x 57 columns]\n",
            "id\n",
            "7     0\n",
            "9     0\n",
            "13    0\n",
            "16    0\n",
            "17    0\n",
            "Name: target, dtype: int64\n"
          ],
          "name": "stdout"
        }
      ]
    },
    {
      "cell_type": "code",
      "metadata": {
        "id": "L0MvU8yYN2zm",
        "colab_type": "code",
        "outputId": "46ed6ba9-b595-4096-b1f9-ff37f2e6588a",
        "colab": {
          "base_uri": "https://localhost:8080/",
          "height": 246
        }
      },
      "source": [
        "#数据清洗\n",
        "#采用Z-score规范化\n",
        "ss = StandardScaler(with_mean=False)\n",
        "X_train = ss.fit_transform(X)\n",
        "X_train"
      ],
      "execution_count": 12,
      "outputs": [
        {
          "output_type": "execute_result",
          "data": {
            "text/plain": [
              "array([[1.00817252, 3.00935811, 1.85192065, ..., 0.        , 0.        ,\n",
              "        2.77550942],\n",
              "       [0.50408626, 1.50467905, 2.59268891, ..., 0.        , 2.09792519,\n",
              "        0.        ],\n",
              "       [2.52043131, 6.01871621, 3.33345717, ..., 0.        , 2.09792519,\n",
              "        0.        ],\n",
              "       ...,\n",
              "       [0.50408626, 1.50467905, 3.7038413 , ..., 0.        , 0.        ,\n",
              "        0.        ],\n",
              "       [2.52043131, 3.00935811, 1.11115239, ..., 2.21020315, 0.        ,\n",
              "        0.        ],\n",
              "       [0.        , 1.50467905, 2.96307304, ..., 0.        , 0.        ,\n",
              "        0.        ]])"
            ]
          },
          "metadata": {
            "tags": []
          },
          "execution_count": 12
        }
      ]
    },
    {
      "cell_type": "code",
      "metadata": {
        "id": "FfnBObL1OGGn",
        "colab_type": "code",
        "colab": {}
      },
      "source": [
        "#拆分训练集，测试集\n",
        "x_train,x_test,y_train,y_test = train_test_split(X_train,Y,test_size=0.5)\n",
        "#训练集在分为两个部分（GBDT/RF,LR）\n",
        "x_train,x_train_lr,y_train,y_train_lr = train_test_split(x_train,y_train,test_size=0.5)"
      ],
      "execution_count": 0,
      "outputs": []
    },
    {
      "cell_type": "code",
      "metadata": {
        "id": "7GrPqoiePgqG",
        "colab_type": "code",
        "outputId": "fa0428ee-2d48-4d1d-8c91-bba92cd9b3c6",
        "colab": {
          "base_uri": "https://localhost:8080/",
          "height": 213
        }
      },
      "source": [
        "#GBDT监督变换\n",
        "n_estimator = 100\n",
        "grd = GradientBoostingClassifier(n_estimators=n_estimator)\n",
        "grd.fit(x_train,y_train)\n",
        "#OneHot编码\n",
        "grd_enc = OneHotEncoder(categories='auto')\n",
        "np.set_printoptions(threshold=np.inf)\n",
        "grd_enc.fit(grd.apply(x_train)[:,:,0])\n",
        "#使用OneHot编码作为特征，训练LR\n",
        "grd_lm = LogisticRegression(solver='lbfgs',max_iter=1000)\n",
        "grd_lm.fit(grd_enc.transform(grd.apply(x_train_lr)[:,:,0]),y_train_lr)\n",
        "#使用lr预测\n",
        "y_pred_grd_lm = grd_lm.predict_proba(grd_enc.transform(grd.apply(x_test)[:,:,0]))\n",
        "y_pred_grd_lm[:,1][0:10]"
      ],
      "execution_count": 14,
      "outputs": [
        {
          "output_type": "stream",
          "text": [
            "/usr/local/lib/python3.6/dist-packages/sklearn/linear_model/_logistic.py:940: ConvergenceWarning: lbfgs failed to converge (status=1):\n",
            "STOP: TOTAL NO. of ITERATIONS REACHED LIMIT.\n",
            "\n",
            "Increase the number of iterations (max_iter) or scale the data as shown in:\n",
            "    https://scikit-learn.org/stable/modules/preprocessing.html\n",
            "Please also refer to the documentation for alternative solver options:\n",
            "    https://scikit-learn.org/stable/modules/linear_model.html#logistic-regression\n",
            "  extra_warning_msg=_LOGISTIC_SOLVER_CONVERGENCE_MSG)\n"
          ],
          "name": "stderr"
        },
        {
          "output_type": "execute_result",
          "data": {
            "text/plain": [
              "array([0.02277644, 0.03738731, 0.05021328, 0.09023246, 0.03681978,\n",
              "       0.04251896, 0.02121776, 0.02107197, 0.01933884, 0.0384819 ])"
            ]
          },
          "metadata": {
            "tags": []
          },
          "execution_count": 14
        }
      ]
    },
    {
      "cell_type": "code",
      "metadata": {
        "id": "x1Udng4KY-0m",
        "colab_type": "code",
        "colab": {
          "base_uri": "https://localhost:8080/",
          "height": 35
        },
        "outputId": "956e0a75-2edc-42a9-d488-18765134b180"
      },
      "source": [
        "print(log_loss(y_test,y_pred_grd_lm[:,1],normalize=True))"
      ],
      "execution_count": 16,
      "outputs": [
        {
          "output_type": "stream",
          "text": [
            "0.1535601576100027\n"
          ],
          "name": "stdout"
        }
      ]
    }
  ]
}