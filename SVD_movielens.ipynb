{
  "nbformat": 4,
  "nbformat_minor": 0,
  "metadata": {
    "colab": {
      "name": "Untitled0.ipynb",
      "provenance": [],
      "collapsed_sections": [],
      "authorship_tag": "ABX9TyO3Xly83rmC1Ef6EcBzbZa8",
      "include_colab_link": true
    },
    "kernelspec": {
      "name": "python3",
      "display_name": "Python 3"
    }
  },
  "cells": [
    {
      "cell_type": "markdown",
      "metadata": {
        "id": "view-in-github",
        "colab_type": "text"
      },
      "source": [
        "<a href=\"https://colab.research.google.com/github/Beytab/RS6/blob/master/SVD_movielens.ipynb\" target=\"_parent\"><img src=\"https://colab.research.google.com/assets/colab-badge.svg\" alt=\"Open In Colab\"/></a>"
      ]
    },
    {
      "cell_type": "code",
      "metadata": {
        "id": "ZivW2NsLAzaU",
        "colab_type": "code",
        "outputId": "1c326b36-fe54-4c92-f5ee-fb6a391cc600",
        "colab": {
          "base_uri": "https://localhost:8080/",
          "height": 123
        }
      },
      "source": [
        "!pip install surprise"
      ],
      "execution_count": 0,
      "outputs": [
        {
          "output_type": "stream",
          "text": [
            "Requirement already satisfied: surprise in /usr/local/lib/python3.6/dist-packages (0.1)\n",
            "Requirement already satisfied: scikit-surprise in /usr/local/lib/python3.6/dist-packages (from surprise) (1.1.0)\n",
            "Requirement already satisfied: joblib>=0.11 in /usr/local/lib/python3.6/dist-packages (from scikit-surprise->surprise) (0.14.1)\n",
            "Requirement already satisfied: six>=1.10.0 in /usr/local/lib/python3.6/dist-packages (from scikit-surprise->surprise) (1.12.0)\n",
            "Requirement already satisfied: numpy>=1.11.2 in /usr/local/lib/python3.6/dist-packages (from scikit-surprise->surprise) (1.17.5)\n",
            "Requirement already satisfied: scipy>=1.0.0 in /usr/local/lib/python3.6/dist-packages (from scikit-surprise->surprise) (1.4.1)\n"
          ],
          "name": "stdout"
        }
      ]
    },
    {
      "cell_type": "code",
      "metadata": {
        "id": "0EXdORXAJn2K",
        "colab_type": "code",
        "outputId": "25e7c5ef-b81a-4d9a-bcec-14ba7c0fa848",
        "colab": {
          "base_uri": "https://localhost:8080/",
          "height": 125
        }
      },
      "source": [
        "from google.colab import drive\n",
        "drive.mount('/content/drive')\n",
        "import os \n",
        "os.chdir(\"/content/drive/My Drive/Colab Notebooks/\")"
      ],
      "execution_count": 0,
      "outputs": [
        {
          "output_type": "stream",
          "text": [
            "Go to this URL in a browser: https://accounts.google.com/o/oauth2/auth?client_id=947318989803-6bn6qk8qdgf4n4g3pfee6491hc0brc4i.apps.googleusercontent.com&redirect_uri=urn%3aietf%3awg%3aoauth%3a2.0%3aoob&response_type=code&scope=email%20https%3a%2f%2fwww.googleapis.com%2fauth%2fdocs.test%20https%3a%2f%2fwww.googleapis.com%2fauth%2fdrive%20https%3a%2f%2fwww.googleapis.com%2fauth%2fdrive.photos.readonly%20https%3a%2f%2fwww.googleapis.com%2fauth%2fpeopleapi.readonly\n",
            "\n",
            "Enter your authorization code:\n",
            "··········\n",
            "Mounted at /content/drive\n"
          ],
          "name": "stdout"
        }
      ]
    },
    {
      "cell_type": "code",
      "metadata": {
        "id": "rDXb0YrxRT2v",
        "colab_type": "code",
        "outputId": "4ce1692b-3d27-4aee-91cf-a10117de1e27",
        "colab": {
          "base_uri": "https://localhost:8080/",
          "height": 87
        }
      },
      "source": [
        "from surprise import Dataset\n",
        "from surprise.model_selection import cross_validate\n",
        "from surprise.model_selection import KFold\n",
        "from surprise import Reader\n",
        "from surprise import accuracy\n",
        "import pandas as pd\n",
        "import time\n",
        "from surprise import SVD\n",
        "from surprise import SVDpp\n",
        "\n",
        "time1 = time.time()\n",
        "\n",
        "#数据读取\n",
        "reader = Reader(line_format='user item rating timestamp',sep=',',skip_lines=1)\n",
        "data = Dataset.load_from_file('/content/drive/My Drive/Colab Notebooks/movielens/ratings.csv',reader=reader)\n",
        "\n",
        "train_set = data.build_full_trainset()\n",
        "\n",
        "# 使用funkSVD\n",
        "algo = SVD(biased=False)\n",
        "\n",
        "\n",
        "def kfold_test(alg,data):\n",
        "  # 定义K折交叉验证迭代器，K=3\n",
        "  kf = KFold(n_splits=3)\n",
        "  for trainset,testset in kf.split(data):\n",
        "    # 训练并预测\n",
        "    alg.fit(trainset)\n",
        "    predictions = alg.test(testset)\n",
        "    #rmse\n",
        "    accuracy.rmse(predictions,verbose=True)\n",
        "\n",
        "kfold_test(algo,data)\n",
        "uid = str(196)\n",
        "iid = str(302)\n",
        "pred = algo.predict(uid,iid,r_ui=4,verbose=False)\n",
        "time2 = time.time()\n",
        "print(time2-time1)"
      ],
      "execution_count": 0,
      "outputs": [
        {
          "output_type": "stream",
          "text": [
            "RMSE: 0.8726\n",
            "RMSE: 0.8720\n",
            "RMSE: 0.8722\n",
            "145.04786276817322\n"
          ],
          "name": "stdout"
        }
      ]
    },
    {
      "cell_type": "code",
      "metadata": {
        "id": "hl0PfP6gZJxf",
        "colab_type": "code",
        "outputId": "c60eb67d-ece3-4b92-d184-e02e4a81ec72",
        "colab": {
          "base_uri": "https://localhost:8080/",
          "height": 70
        }
      },
      "source": [
        "#使用biased SVD\n",
        "algo1 = SVD(biased=True)\n",
        "\n",
        "kfold_test(algo1,data)\n",
        "uid = str(196)\n",
        "iid = str(302)\n",
        "pred1 = algo1.predict(uid,iid,r_ui=4,verbose=False)"
      ],
      "execution_count": 0,
      "outputs": [
        {
          "output_type": "stream",
          "text": [
            "RMSE: 0.8443\n",
            "RMSE: 0.8461\n",
            "RMSE: 0.8448\n"
          ],
          "name": "stdout"
        }
      ]
    },
    {
      "cell_type": "code",
      "metadata": {
        "id": "9wLvagN_eB5f",
        "colab_type": "code",
        "outputId": "038b439c-a646-4bd8-c41f-a29a51e461b8",
        "colab": {
          "base_uri": "https://localhost:8080/",
          "height": 52
        }
      },
      "source": [
        "#使用SVD++\n",
        "time3 = time.time()\n",
        "algo7 = SVDpp()\n",
        "\n",
        "kf = KFold(n_splits=3)\n",
        "for trainset,testset in kf.split(data):\n",
        "  algo7.fit(trainset)\n",
        "  # k折交叉验证(k=3)\n",
        "  predictions = algo7.test(testset)\n",
        "  #rmse\n",
        "  accuracy.rmse(predictions,verbose=True)\n",
        "\n",
        "time4 = time.time()\n",
        "print(time4-time3)"
      ],
      "execution_count": 0,
      "outputs": [
        {
          "output_type": "stream",
          "text": [
            "RMSE: 0.8305\n",
            "RMSE: 0.8289\n"
          ],
          "name": "stdout"
        }
      ]
    },
    {
      "cell_type": "code",
      "metadata": {
        "id": "stl_c-PDgFON",
        "colab_type": "code",
        "colab": {}
      },
      "source": [
        ""
      ],
      "execution_count": 0,
      "outputs": []
    }
  ]
}